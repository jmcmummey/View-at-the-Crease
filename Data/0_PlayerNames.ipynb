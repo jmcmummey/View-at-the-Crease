{
 "cells": [
  {
   "cell_type": "markdown",
   "metadata": {},
   "source": [
    "<h1>Player Fetcher</h1>\n",
    "<p>The purpose of this code is to scrape a list of nhl players off the hockey-reference website</p>"
   ]
  },
  {
   "cell_type": "code",
   "execution_count": 1,
   "metadata": {},
   "outputs": [],
   "source": [
    "import pandas as pd\n",
    "import numpy as np\n",
    "import requests as r\n",
    "import re\n",
    "from string import ascii_lowercase as al #these are the lowercase ascii letters\n",
    "from bs4 import BeautifulSoup as bs"
   ]
  },
  {
   "cell_type": "markdown",
   "metadata": {},
   "source": [
    "<h2>Gathering the Players</h2>\n",
    "<p>Before we gather any data, we need to see who we are gathering the data for.  The following code sweeps through the player inventory on <a href=\"https://hockey-reference.com\">\"hockey-reference.com</a> capturing all nhl players regardless of the year played</p>"
   ]
  },
  {
   "cell_type": "code",
   "execution_count": 10,
   "metadata": {},
   "outputs": [],
   "source": [
    "#Main Url\n",
    "url = \"https://www.hockey-reference.com/players/\""
   ]
  },
  {
   "cell_type": "code",
   "execution_count": 36,
   "metadata": {
    "scrolled": true
   },
   "outputs": [
    {
     "name": "stdout",
     "output_type": "stream",
     "text": [
      "Finished adding 224 players for letter a\n",
      "Finished adding 760 players for letter b\n",
      "Finished adding 530 players for letter c\n",
      "Finished adding 373 players for letter d\n",
      "Finished adding 132 players for letter e\n",
      "Finished adding 270 players for letter f\n",
      "Finished adding 397 players for letter g\n",
      "Finished adding 555 players for letter h\n",
      "Finished adding 33 players for letter i\n",
      "Finished adding 209 players for letter j\n",
      "Finished adding 397 players for letter k\n",
      "Finished adding 494 players for letter l\n",
      "Finished adding 850 players for letter m\n",
      "Finished adding 169 players for letter n\n",
      "Finished adding 119 players for letter o\n",
      "Finished adding 422 players for letter p\n",
      "Finished adding 16 players for letter q\n",
      "Finished adding 385 players for letter r\n",
      "Finished adding 805 players for letter s\n",
      "Finished adding 276 players for letter t\n",
      "Finished adding 13 players for letter u\n",
      "Finished adding 140 players for letter v\n",
      "Finished adding 288 players for letter w\n",
      "Finished adding 288 players for letter x\n",
      "Finished adding 42 players for letter y\n",
      "Finished adding 59 players for letter z\n"
     ]
    }
   ],
   "source": [
    "nhlplayers = pd.DataFrame(columns=['player','unique_id','year_start','year_finish','position','link'])\n",
    "\n",
    "for letter in al: #for each letter in al \n",
    "    try:\n",
    "        t = r.get(url+letter) #searching for hockey players with the surname starting with letter\n",
    "        soup = bs(t.text, 'html.parser')\n",
    "        players = soup.find_all('p', class_='nhl') #only get the nhl players\n",
    "        for i,player in enumerate(players):\n",
    "            plink = player.find_all('a',href=True)\n",
    "            unique_id = re.search(r'\\/([\\w\\d\\.]*)\\.html',plink[0]['href'])\n",
    "            play = re.search(r'([\\w\\.\\-\\s]*) \\((\\d{4})-(\\d{4}), ([\\w\\b]*)',player.text)\n",
    "            inputdata = [play[1],unique_id[1],play[2],play[3],play[4],'https://www.hockey-reference.com'+plink[0]['href']]\n",
    "            #print(i,inputdata)\n",
    "            nhlplayers = nhlplayers.append(dict(zip(nhlplayers.columns, inputdata)), ignore_index=True)\n",
    "        print(\"Finished adding %d players for letter %s\" % (i,letter))\n",
    "    except:\n",
    "        print(plink)"
   ]
  },
  {
   "cell_type": "markdown",
   "metadata": {},
   "source": [
    "<h2>Filtering the Players</h2>\n",
    "<p>While we previously filtered only players in the NHL, we now need to refine the filtering slightly, removing players who played before the availablility of game logs).  Initially, I'll only keep players who played after 1990 in the hopes that I can get the injury data for them.  This filtering drops the number of available players from 7983 to 4842.  The other thing I'll do for simplification is to change the reduce number of positions to Forward, Defense or Goalie.</p>"
   ]
  },
  {
   "cell_type": "code",
   "execution_count": 43,
   "metadata": {},
   "outputs": [],
   "source": [
    "#convert datatypes as appropriate\n",
    "nhlplayers[['year_start','year_finish']] = nhlplayers[['year_start','year_finish']].astype(int)"
   ]
  },
  {
   "cell_type": "code",
   "execution_count": 44,
   "metadata": {},
   "outputs": [
    {
     "name": "stdout",
     "output_type": "stream",
     "text": [
      "<class 'pandas.core.frame.DataFrame'>\n",
      "Int64Index: 4842 entries, 0 to 7982\n",
      "Data columns (total 6 columns):\n",
      " #   Column       Non-Null Count  Dtype \n",
      "---  ------       --------------  ----- \n",
      " 0   player       4842 non-null   object\n",
      " 1   unique_id    4842 non-null   object\n",
      " 2   year_start   4842 non-null   int32 \n",
      " 3   year_finish  4842 non-null   int32 \n",
      " 4   position     4842 non-null   object\n",
      " 5   link         4842 non-null   object\n",
      "dtypes: int32(2), object(4)\n",
      "memory usage: 227.0+ KB\n"
     ]
    }
   ],
   "source": [
    "nhlplayers.info()"
   ]
  },
  {
   "cell_type": "code",
   "execution_count": 45,
   "metadata": {},
   "outputs": [],
   "source": [
    "#drop players who finished before 1990\n",
    "nhlplayers.drop(nhlplayers[nhlplayers['year_finish']<1990].index,inplace=True)"
   ]
  },
  {
   "cell_type": "code",
   "execution_count": 46,
   "metadata": {},
   "outputs": [
    {
     "name": "stdout",
     "output_type": "stream",
     "text": [
      "<class 'pandas.core.frame.DataFrame'>\n",
      "Int64Index: 4842 entries, 0 to 7982\n",
      "Data columns (total 6 columns):\n",
      " #   Column       Non-Null Count  Dtype \n",
      "---  ------       --------------  ----- \n",
      " 0   player       4842 non-null   object\n",
      " 1   unique_id    4842 non-null   object\n",
      " 2   year_start   4842 non-null   int32 \n",
      " 3   year_finish  4842 non-null   int32 \n",
      " 4   position     4842 non-null   object\n",
      " 5   link         4842 non-null   object\n",
      "dtypes: int32(2), object(4)\n",
      "memory usage: 227.0+ KB\n"
     ]
    }
   ],
   "source": [
    "nhlplayers.info()"
   ]
  },
  {
   "cell_type": "code",
   "execution_count": 47,
   "metadata": {},
   "outputs": [
    {
     "data": {
      "text/plain": [
       "array(['C', 'LW', 'RW', 'G', 'D', 'F', 'W'], dtype=object)"
      ]
     },
     "execution_count": 47,
     "metadata": {},
     "output_type": "execute_result"
    }
   ],
   "source": [
    "nhlplayers['position'].unique()"
   ]
  },
  {
   "cell_type": "code",
   "execution_count": 48,
   "metadata": {},
   "outputs": [
    {
     "data": {
      "text/plain": [
       "array(['F', 'G', 'D'], dtype=object)"
      ]
     },
     "execution_count": 48,
     "metadata": {},
     "output_type": "execute_result"
    }
   ],
   "source": [
    "position_remap = {'C':'F','LW':'F','RW':'F','D':'D','G':'G','W':'F'}\n",
    "nhlplayers['position'] = nhlplayers['position'].replace(position_remap)\n",
    "nhlplayers['position'].unique()"
   ]
  },
  {
   "cell_type": "code",
   "execution_count": 50,
   "metadata": {},
   "outputs": [],
   "source": [
    "nhlplayers[nhlplayers['position']=='G'].reset_index().to_csv('nhlplayerlist_goalieonly.txt','\\t')"
   ]
  },
  {
   "cell_type": "code",
   "execution_count": 51,
   "metadata": {},
   "outputs": [
    {
     "data": {
      "text/html": [
       "<div>\n",
       "<style scoped>\n",
       "    .dataframe tbody tr th:only-of-type {\n",
       "        vertical-align: middle;\n",
       "    }\n",
       "\n",
       "    .dataframe tbody tr th {\n",
       "        vertical-align: top;\n",
       "    }\n",
       "\n",
       "    .dataframe thead th {\n",
       "        text-align: right;\n",
       "    }\n",
       "</style>\n",
       "<table border=\"1\" class=\"dataframe\">\n",
       "  <thead>\n",
       "    <tr style=\"text-align: right;\">\n",
       "      <th></th>\n",
       "      <th>player</th>\n",
       "      <th>unique_id</th>\n",
       "      <th>year_start</th>\n",
       "      <th>year_finish</th>\n",
       "      <th>position</th>\n",
       "      <th>link</th>\n",
       "    </tr>\n",
       "  </thead>\n",
       "  <tbody>\n",
       "    <tr>\n",
       "      <th>31</th>\n",
       "      <td>David Aebischer</td>\n",
       "      <td>aebisda01</td>\n",
       "      <td>2001</td>\n",
       "      <td>2008</td>\n",
       "      <td>G</td>\n",
       "      <td>https://www.hockey-reference.com/players/a/aeb...</td>\n",
       "    </tr>\n",
       "    <tr>\n",
       "      <th>49</th>\n",
       "      <td>Sami Aittokallio</td>\n",
       "      <td>aittosa01</td>\n",
       "      <td>2013</td>\n",
       "      <td>2014</td>\n",
       "      <td>G</td>\n",
       "      <td>https://www.hockey-reference.com/players/a/ait...</td>\n",
       "    </tr>\n",
       "    <tr>\n",
       "      <th>70</th>\n",
       "      <td>Jake Allen</td>\n",
       "      <td>allenja01</td>\n",
       "      <td>2013</td>\n",
       "      <td>2020</td>\n",
       "      <td>G</td>\n",
       "      <td>https://www.hockey-reference.com/players/a/all...</td>\n",
       "    </tr>\n",
       "    <tr>\n",
       "      <th>85</th>\n",
       "      <td>Jorge Alves</td>\n",
       "      <td>alvesjo01</td>\n",
       "      <td>2017</td>\n",
       "      <td>2017</td>\n",
       "      <td>G</td>\n",
       "      <td>https://www.hockey-reference.com/players/a/alv...</td>\n",
       "    </tr>\n",
       "    <tr>\n",
       "      <th>92</th>\n",
       "      <td>Frederik Andersen</td>\n",
       "      <td>anderfr01</td>\n",
       "      <td>2014</td>\n",
       "      <td>2020</td>\n",
       "      <td>G</td>\n",
       "      <td>https://www.hockey-reference.com/players/a/and...</td>\n",
       "    </tr>\n",
       "    <tr>\n",
       "      <th>...</th>\n",
       "      <td>...</td>\n",
       "      <td>...</td>\n",
       "      <td>...</td>\n",
       "      <td>...</td>\n",
       "      <td>...</td>\n",
       "      <td>...</td>\n",
       "    </tr>\n",
       "    <tr>\n",
       "      <th>7904</th>\n",
       "      <td>Allen York</td>\n",
       "      <td>yorkal01</td>\n",
       "      <td>2012</td>\n",
       "      <td>2012</td>\n",
       "      <td>G</td>\n",
       "      <td>https://www.hockey-reference.com/players/y/yor...</td>\n",
       "    </tr>\n",
       "    <tr>\n",
       "      <th>7917</th>\n",
       "      <td>Wendell Young</td>\n",
       "      <td>youngwe01</td>\n",
       "      <td>1986</td>\n",
       "      <td>1995</td>\n",
       "      <td>G</td>\n",
       "      <td>https://www.hockey-reference.com/players/y/you...</td>\n",
       "    </tr>\n",
       "    <tr>\n",
       "      <th>7923</th>\n",
       "      <td>Matt Zaba</td>\n",
       "      <td>zabama01</td>\n",
       "      <td>2010</td>\n",
       "      <td>2010</td>\n",
       "      <td>G</td>\n",
       "      <td>https://www.hockey-reference.com/players/z/zab...</td>\n",
       "    </tr>\n",
       "    <tr>\n",
       "      <th>7941</th>\n",
       "      <td>Jeff Zatkoff</td>\n",
       "      <td>zatkoje01</td>\n",
       "      <td>2014</td>\n",
       "      <td>2017</td>\n",
       "      <td>G</td>\n",
       "      <td>https://www.hockey-reference.com/players/z/zat...</td>\n",
       "    </tr>\n",
       "    <tr>\n",
       "      <th>7952</th>\n",
       "      <td>Rob Zepp</td>\n",
       "      <td>zeppro01</td>\n",
       "      <td>2015</td>\n",
       "      <td>2015</td>\n",
       "      <td>G</td>\n",
       "      <td>https://www.hockey-reference.com/players/z/zep...</td>\n",
       "    </tr>\n",
       "  </tbody>\n",
       "</table>\n",
       "<p>481 rows × 6 columns</p>\n",
       "</div>"
      ],
      "text/plain": [
       "                 player  unique_id  year_start  year_finish position  \\\n",
       "31      David Aebischer  aebisda01        2001         2008        G   \n",
       "49     Sami Aittokallio  aittosa01        2013         2014        G   \n",
       "70           Jake Allen  allenja01        2013         2020        G   \n",
       "85          Jorge Alves  alvesjo01        2017         2017        G   \n",
       "92    Frederik Andersen  anderfr01        2014         2020        G   \n",
       "...                 ...        ...         ...          ...      ...   \n",
       "7904         Allen York   yorkal01        2012         2012        G   \n",
       "7917      Wendell Young  youngwe01        1986         1995        G   \n",
       "7923          Matt Zaba   zabama01        2010         2010        G   \n",
       "7941       Jeff Zatkoff  zatkoje01        2014         2017        G   \n",
       "7952           Rob Zepp   zeppro01        2015         2015        G   \n",
       "\n",
       "                                                   link  \n",
       "31    https://www.hockey-reference.com/players/a/aeb...  \n",
       "49    https://www.hockey-reference.com/players/a/ait...  \n",
       "70    https://www.hockey-reference.com/players/a/all...  \n",
       "85    https://www.hockey-reference.com/players/a/alv...  \n",
       "92    https://www.hockey-reference.com/players/a/and...  \n",
       "...                                                 ...  \n",
       "7904  https://www.hockey-reference.com/players/y/yor...  \n",
       "7917  https://www.hockey-reference.com/players/y/you...  \n",
       "7923  https://www.hockey-reference.com/players/z/zab...  \n",
       "7941  https://www.hockey-reference.com/players/z/zat...  \n",
       "7952  https://www.hockey-reference.com/players/z/zep...  \n",
       "\n",
       "[481 rows x 6 columns]"
      ]
     },
     "execution_count": 51,
     "metadata": {},
     "output_type": "execute_result"
    }
   ],
   "source": [
    "nhlplayers[nhlplayers['position']=='G']"
   ]
  },
  {
   "cell_type": "code",
   "execution_count": null,
   "metadata": {},
   "outputs": [],
   "source": []
  }
 ],
 "metadata": {
  "kernelspec": {
   "display_name": "Python 3",
   "language": "python",
   "name": "python3"
  },
  "language_info": {
   "codemirror_mode": {
    "name": "ipython",
    "version": 3
   },
   "file_extension": ".py",
   "mimetype": "text/x-python",
   "name": "python",
   "nbconvert_exporter": "python",
   "pygments_lexer": "ipython3",
   "version": "3.7.9"
  }
 },
 "nbformat": 4,
 "nbformat_minor": 4
}
