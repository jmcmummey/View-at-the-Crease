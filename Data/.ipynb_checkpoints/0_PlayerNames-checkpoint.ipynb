{
 "cells": [
  {
   "cell_type": "markdown",
   "metadata": {},
   "source": [
    "<h1>Player Fetcher</h1>\n",
    "<p>The purpose of this code is to scrape a list of nhl players off the hockey-reference website</p>"
   ]
  },
  {
   "cell_type": "code",
   "execution_count": 1,
   "metadata": {},
   "outputs": [],
   "source": [
    "import pandas as pd\n",
    "import numpy as np\n",
    "import requests as r\n",
    "import re\n",
    "from string import ascii_lowercase as al #these are the lowercase ascii letters\n",
    "from bs4 import BeautifulSoup as bs"
   ]
  },
  {
   "cell_type": "markdown",
   "metadata": {},
   "source": [
    "<h2>Gathering the Players</h2>\n",
    "<p>Before we gather any data, we need to see who we are gathering the data for.  The following code sweeps through the player inventory on <a href=\"https://hockey-reference.com\">\"hockey-reference.com</a> capturing all nhl players regardless of the year played</p>"
   ]
  },
  {
   "cell_type": "code",
   "execution_count": 2,
   "metadata": {},
   "outputs": [],
   "source": [
    "#Main Url\n",
    "url = \"https://www.hockey-reference.com/players/\""
   ]
  },
  {
   "cell_type": "code",
   "execution_count": 3,
   "metadata": {
    "scrolled": true
   },
   "outputs": [
    {
     "name": "stdout",
     "output_type": "stream",
     "text": [
      "Finished adding 224 players for letter a\n",
      "Finished adding 760 players for letter b\n",
      "Finished adding 324 players for letter c\n",
      "Finished adding 373 players for letter d\n",
      "Finished adding 132 players for letter e\n",
      "Finished adding 270 players for letter f\n",
      "Finished adding 397 players for letter g\n",
      "Finished adding 555 players for letter h\n",
      "Finished adding 33 players for letter i\n",
      "Finished adding 209 players for letter j\n",
      "Finished adding 397 players for letter k\n",
      "Finished adding 384 players for letter l\n",
      "Finished adding 850 players for letter m\n",
      "Finished adding 169 players for letter n\n",
      "Finished adding 119 players for letter o\n",
      "Finished adding 422 players for letter p\n",
      "Finished adding 16 players for letter q\n",
      "Finished adding 385 players for letter r\n",
      "Finished adding 805 players for letter s\n",
      "Finished adding 274 players for letter t\n",
      "Finished adding 13 players for letter u\n",
      "Finished adding 140 players for letter v\n",
      "Finished adding 288 players for letter w\n",
      "Finished adding 288 players for letter x\n",
      "Finished adding 42 players for letter y\n",
      "Finished adding 59 players for letter z\n"
     ]
    }
   ],
   "source": [
    "nhlplayers = pd.DataFrame(columns=['player','unique_id','year_start','year_finish','position','link'])\n",
    "\n",
    "for letter in al: #for each letter in al \n",
    "    try: \n",
    "        t = r.get(url+letter) #searching for hockey players with the surname starting with letter\n",
    "        soup = bs(t.text, 'html.parser')\n",
    "        players = soup.find_all('p', class_='nhl') #only get the nhl players\n",
    "        for i,player in enumerate(players):\n",
    "            plink = player.find_all('a',href=True)\n",
    "            unique_id = re.search(r'\\/([\\w\\d]*)\\.html',plink[0]['href'])\n",
    "            play = re.search(r'([\\w\\.\\-\\s]*) \\((\\d{4})-(\\d{4}), ([\\w\\b]*)',player.text)\n",
    "            inputdata = [play[1],unique_id[1],play[2],play[3],play[4],'https://www.hockey-reference.com'+plink[0]['href']]\n",
    "            #print(i,inputdata)\n",
    "            nhlplayers = nhlplayers.append(dict(zip(nhlplayers.columns, inputdata)), ignore_index=True)\n",
    "    except:\n",
    "        pass\n",
    "    print(\"Finished adding %d players for letter %s\" % (i,letter))"
   ]
  },
  {
   "cell_type": "markdown",
   "metadata": {},
   "source": [
    "<h2>Filtering the Players</h2>\n",
    "<p>While we previously filtered only players in the NHL, we now need to refine the filtering slightly, removing players who played before the availablility of game logs).  Initially, I'll only keep players who played after 1990 in the hopes that I can get the injury data for them.  This filtering drops the number of available players from 7762 to 4675.  The other thing I'll do for simplification is to change the reduce number of positions to Forward, Defense or Goalie.</p>"
   ]
  },
  {
   "cell_type": "code",
   "execution_count": 4,
   "metadata": {},
   "outputs": [],
   "source": [
    "#convert datatypes as appropriate\n",
    "nhlplayers[['year_start','year_finish']] = nhlplayers[['year_start','year_finish']].astype(int)"
   ]
  },
  {
   "cell_type": "code",
   "execution_count": 5,
   "metadata": {},
   "outputs": [
    {
     "name": "stdout",
     "output_type": "stream",
     "text": [
      "<class 'pandas.core.frame.DataFrame'>\n",
      "RangeIndex: 7662 entries, 0 to 7661\n",
      "Data columns (total 6 columns):\n",
      " #   Column       Non-Null Count  Dtype \n",
      "---  ------       --------------  ----- \n",
      " 0   player       7662 non-null   object\n",
      " 1   unique_id    7662 non-null   object\n",
      " 2   year_start   7662 non-null   int32 \n",
      " 3   year_finish  7662 non-null   int32 \n",
      " 4   position     7662 non-null   object\n",
      " 5   link         7662 non-null   object\n",
      "dtypes: int32(2), object(4)\n",
      "memory usage: 299.4+ KB\n"
     ]
    }
   ],
   "source": [
    "nhlplayers.info()"
   ]
  },
  {
   "cell_type": "code",
   "execution_count": 6,
   "metadata": {},
   "outputs": [],
   "source": [
    "#drop players who finished before 1990\n",
    "nhlplayers.drop(nhlplayers[nhlplayers['year_finish']<1990].index,inplace=True)"
   ]
  },
  {
   "cell_type": "code",
   "execution_count": 7,
   "metadata": {},
   "outputs": [
    {
     "name": "stdout",
     "output_type": "stream",
     "text": [
      "<class 'pandas.core.frame.DataFrame'>\n",
      "Int64Index: 4675 entries, 0 to 7661\n",
      "Data columns (total 6 columns):\n",
      " #   Column       Non-Null Count  Dtype \n",
      "---  ------       --------------  ----- \n",
      " 0   player       4675 non-null   object\n",
      " 1   unique_id    4675 non-null   object\n",
      " 2   year_start   4675 non-null   int32 \n",
      " 3   year_finish  4675 non-null   int32 \n",
      " 4   position     4675 non-null   object\n",
      " 5   link         4675 non-null   object\n",
      "dtypes: int32(2), object(4)\n",
      "memory usage: 219.1+ KB\n"
     ]
    }
   ],
   "source": [
    "nhlplayers.info()"
   ]
  },
  {
   "cell_type": "code",
   "execution_count": 8,
   "metadata": {},
   "outputs": [
    {
     "data": {
      "text/plain": [
       "array(['C', 'LW', 'RW', 'G', 'D', 'F', 'W'], dtype=object)"
      ]
     },
     "execution_count": 8,
     "metadata": {},
     "output_type": "execute_result"
    }
   ],
   "source": [
    "nhlplayers['position'].unique()"
   ]
  },
  {
   "cell_type": "code",
   "execution_count": 9,
   "metadata": {},
   "outputs": [
    {
     "data": {
      "text/plain": [
       "array(['F', 'G', 'D'], dtype=object)"
      ]
     },
     "execution_count": 9,
     "metadata": {},
     "output_type": "execute_result"
    }
   ],
   "source": [
    "position_remap = {'C':'F','LW':'F','RW':'F','D':'D','G':'G','W':'F'}\n",
    "nhlplayers['position'] = nhlplayers['position'].replace(position_remap)\n",
    "nhlplayers['position'].unique()"
   ]
  },
  {
   "cell_type": "code",
   "execution_count": 10,
   "metadata": {},
   "outputs": [],
   "source": [
    "nhlplayers.reset_index().to_csv('nhlplayerlist.txt','\\t')"
   ]
  }
 ],
 "metadata": {
  "kernelspec": {
   "display_name": "Python 3",
   "language": "python",
   "name": "python3"
  },
  "language_info": {
   "codemirror_mode": {
    "name": "ipython",
    "version": 3
   },
   "file_extension": ".py",
   "mimetype": "text/x-python",
   "name": "python",
   "nbconvert_exporter": "python",
   "pygments_lexer": "ipython3",
   "version": "3.7.9"
  }
 },
 "nbformat": 4,
 "nbformat_minor": 4
}
