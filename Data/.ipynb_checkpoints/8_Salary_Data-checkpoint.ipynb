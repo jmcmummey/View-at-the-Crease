{
 "cells": [
  {
   "cell_type": "code",
   "execution_count": null,
   "metadata": {},
   "outputs": [],
   "source": []
  },
  {
   "cell_type": "code",
   "execution_count": 1,
   "metadata": {},
   "outputs": [],
   "source": [
    "import pandas as pd\n",
    "import numpy as np\n",
    "import requests as r\n",
    "import re\n",
    "from bs4 import BeautifulSoup as bs\n",
    "\n",
    "pd.set_option('display.max_rows', 50)\n",
    "pd.set_option('display.max_columns', 50)\n",
    "pd.set_option('display.width', 1000)"
   ]
  },
  {
   "cell_type": "markdown",
   "metadata": {},
   "source": [
    "<h3>SQLite Handling functions</h3>\n",
    "<p>Use Pandas to import dataframe into SQLlite</p>"
   ]
  },
  {
   "cell_type": "code",
   "execution_count": 2,
   "metadata": {},
   "outputs": [],
   "source": [
    "DB = \"..\\\\Data\\\\hockey_data_goalies.db\"\n",
    "\n",
    "#SQL Handle functions\n",
    "def run_query(q):\n",
    "    with sqlite3.connect(DB) as conn:\n",
    "        x = pd.read_sql(q,conn)\n",
    "    return x\n",
    "   \n",
    "#send command\n",
    "def run_command(c):\n",
    "    with sqlite3.connect(DB) as conn:\n",
    "        conn.isolation_level = None\n",
    "        return conn.execute(c)\n",
    "    \n",
    "#show tables\n",
    "def show_tables():\n",
    "    r = \"\"\"\n",
    "    Select name,type\n",
    "    FROM sqlite_master\n",
    "    WHERE type in (\"table\",\"view\");\n",
    "        \"\"\"\n",
    "    return run_query(r)"
   ]
  },
  {
   "cell_type": "code",
   "execution_count": 49,
   "metadata": {},
   "outputs": [
    {
     "data": {
      "text/plain": [
       "[<div class=\"table-container\">\n",
       " <table width=\"100%\">\n",
       " <thead>\n",
       " <tr style=\"border-top: thin solid\">\n",
       " <td style=\"text-align: left;\"><strong>Season  </strong></td>\n",
       " <td style=\"text-align: right;\"><strong>Salary<br>($US)</br></strong></td>\n",
       " <td style=\"text-align: right;\"><strong>In today's<br>$</br></strong></td>\n",
       " <td style=\"text-align: right;\"><strong>NHL<br/>Rank</strong></td>\n",
       " <td style=\"text-align: right;\"><strong>+/-<br/>($)</strong></td>\n",
       " <td style=\"text-align: right;\"><strong>+/-<br/>(%)</strong></td>\n",
       " </tr>\n",
       " </thead>\n",
       " <tbody>\n",
       " <tr style=\"border-top: thin solid\">\n",
       " <td style=\"text-align: left;\"><strong>2016-17</strong></td>\n",
       " <td style=\"text-align: right;\"><strong>$925,000</strong></td>\n",
       " <td style=\"text-align: right;\">$985,510</td>\n",
       " <td style=\"text-align: right;\">515</td>\n",
       " <td style=\"text-align: right;\"></td>\n",
       " <td style=\"text-align: right;\"></td>\n",
       " </tr>\n",
       " <tr>\n",
       " <td></td>\n",
       " <td colspan=\"5\" style=\"text-align: right;\"><small>Source: NHLPA</small></td>\n",
       " </tr>\n",
       " <tr style=\"border-top: thin solid\">\n",
       " <td style=\"text-align: left;\"><strong>2017-18</strong></td>\n",
       " <td style=\"text-align: right;\"><strong>$925,000</strong></td>\n",
       " <td style=\"text-align: right;\">$965,004</td>\n",
       " <td style=\"text-align: right;\">481</td>\n",
       " <td style=\"text-align: right;\"></td>\n",
       " <td style=\"text-align: right;\"></td>\n",
       " </tr>\n",
       " <tr>\n",
       " <td></td>\n",
       " <td colspan=\"5\" style=\"text-align: right;\"><small>Source: NHLPA</small></td>\n",
       " </tr>\n",
       " <tr style=\"border-top: thin solid\">\n",
       " <td style=\"text-align: left;\"><strong>2018-19</strong></td>\n",
       " <td style=\"text-align: right;\"><strong>$832,500</strong></td>\n",
       " <td style=\"text-align: right;\">$847,751</td>\n",
       " <td style=\"text-align: right;\">749</td>\n",
       " <td style=\"text-align: right;\">-$92,500</td>\n",
       " <td style=\"text-align: right;\">-10%</td>\n",
       " </tr>\n",
       " <tr>\n",
       " <td></td>\n",
       " <td colspan=\"5\" style=\"text-align: right;\"><small>Source: NHLPA</small></td>\n",
       " </tr>\n",
       " <tr style=\"border-top: thin solid\">\n",
       " <td style=\"text-align: left;\"><strong>2019-20</strong></td>\n",
       " <td style=\"text-align: right;\"><strong>$16,000,000</strong></td>\n",
       " <td style=\"text-align: right;\">$16,000,000</td>\n",
       " <td style=\"text-align: right;\">1</td>\n",
       " <td style=\"text-align: right;\">$15,167,500</td>\n",
       " <td style=\"text-align: right;\">1822%</td>\n",
       " </tr>\n",
       " <tr>\n",
       " <td></td>\n",
       " <td colspan=\"5\" style=\"text-align: right;\"><small>Source: NHLPA</small></td>\n",
       " </tr>\n",
       " <tr style=\"border-top: thin solid\">\n",
       " <td style=\"text-align: left;\"></td>\n",
       " <td style=\"text-align: right;\"><strong>Total:</strong><br/>\n",
       " <strong>US $18,682,500</strong><br/><br/>\n",
       " \tIn today's dollars:<br/>\n",
       " \tUS $18,798,265</td>\n",
       " <td style=\"text-align: right;\"><strong>NHL Rank:</strong><br/>\n",
       " <strong>636</strong><br/><br/>\n",
       " \tIn today's dollars:<br/>\n",
       " \t763</td>\n",
       " <td style=\"text-align: RIGHT;\"></td>\n",
       " <td style=\"text-align: RIGHT;\"></td>\n",
       " <td style=\"text-align: RIGHT;\"></td>\n",
       " </tr>\n",
       " </tbody>\n",
       " </table>\n",
       " </div>]"
      ]
     },
     "execution_count": 49,
     "metadata": {},
     "output_type": "execute_result"
    }
   ],
   "source": [
    "baseurl = 'http://www.hockeyzoneplus.com'\n",
    " = baseurl + '/search-results/filter?q={0}+{1}'.format('Mitch','Marner')\n",
    "\n",
    "page = r.get(searchurl)\n",
    "soup = bs(page.text,'html.parser')\n",
    "soup.find_all('a',href=\"table-container\")\n",
    "\n",
    "page2 = r.get(baseurl+link)\n",
    "soup2 = bs(page2.text,'html.parser')\n",
    "soup2.find_all('div',class_=\"table-container\")"
   ]
  },
  {
   "cell_type": "code",
   "execution_count": 52,
   "metadata": {},
   "outputs": [
    {
     "ename": "SyntaxError",
     "evalue": "invalid syntax (<ipython-input-52-3ec2544b7769>, line 3)",
     "output_type": "error",
     "traceback": [
      "\u001b[1;36m  File \u001b[1;32m\"<ipython-input-52-3ec2544b7769>\"\u001b[1;36m, line \u001b[1;32m3\u001b[0m\n\u001b[1;33m    soup.find_all('a',href=\"table-container\")|\u001b[0m\n\u001b[1;37m                                              ^\u001b[0m\n\u001b[1;31mSyntaxError\u001b[0m\u001b[1;31m:\u001b[0m invalid syntax\n"
     ]
    }
   ],
   "source": [
    "page = r.get(searchurl)\n",
    "soup = bs(page.text,'html.parser')\n",
    "soup.find_all('a',href=\"table-container\")|"
   ]
  },
  {
   "cell_type": "code",
   "execution_count": 51,
   "metadata": {
    "scrolled": false
   },
   "outputs": [
    {
     "data": {
      "text/plain": [
       "[<div class=\"table-container\">\n",
       " <table width=\"100%\">\n",
       " <thead>\n",
       " <tr style=\"border-top: thin solid\">\n",
       " <td style=\"text-align: left;\"><strong>Season  </strong></td>\n",
       " <td style=\"text-align: right;\"><strong>Salary<br>($US)</br></strong></td>\n",
       " <td style=\"text-align: right;\"><strong>In today's<br>$</br></strong></td>\n",
       " <td style=\"text-align: right;\"><strong>NHL<br/>Rank</strong></td>\n",
       " <td style=\"text-align: right;\"><strong>+/-<br/>($)</strong></td>\n",
       " <td style=\"text-align: right;\"><strong>+/-<br/>(%)</strong></td>\n",
       " </tr>\n",
       " </thead>\n",
       " <tbody>\n",
       " <tr style=\"border-top: thin solid\">\n",
       " <td style=\"text-align: left;\"><strong>2016-17</strong></td>\n",
       " <td style=\"text-align: right;\"><strong>$925,000</strong></td>\n",
       " <td style=\"text-align: right;\">$985,510</td>\n",
       " <td style=\"text-align: right;\">515</td>\n",
       " <td style=\"text-align: right;\"></td>\n",
       " <td style=\"text-align: right;\"></td>\n",
       " </tr>\n",
       " <tr>\n",
       " <td></td>\n",
       " <td colspan=\"5\" style=\"text-align: right;\"><small>Source: NHLPA</small></td>\n",
       " </tr>\n",
       " <tr style=\"border-top: thin solid\">\n",
       " <td style=\"text-align: left;\"><strong>2017-18</strong></td>\n",
       " <td style=\"text-align: right;\"><strong>$925,000</strong></td>\n",
       " <td style=\"text-align: right;\">$965,004</td>\n",
       " <td style=\"text-align: right;\">481</td>\n",
       " <td style=\"text-align: right;\"></td>\n",
       " <td style=\"text-align: right;\"></td>\n",
       " </tr>\n",
       " <tr>\n",
       " <td></td>\n",
       " <td colspan=\"5\" style=\"text-align: right;\"><small>Source: NHLPA</small></td>\n",
       " </tr>\n",
       " <tr style=\"border-top: thin solid\">\n",
       " <td style=\"text-align: left;\"><strong>2018-19</strong></td>\n",
       " <td style=\"text-align: right;\"><strong>$832,500</strong></td>\n",
       " <td style=\"text-align: right;\">$847,751</td>\n",
       " <td style=\"text-align: right;\">749</td>\n",
       " <td style=\"text-align: right;\">-$92,500</td>\n",
       " <td style=\"text-align: right;\">-10%</td>\n",
       " </tr>\n",
       " <tr>\n",
       " <td></td>\n",
       " <td colspan=\"5\" style=\"text-align: right;\"><small>Source: NHLPA</small></td>\n",
       " </tr>\n",
       " <tr style=\"border-top: thin solid\">\n",
       " <td style=\"text-align: left;\"><strong>2019-20</strong></td>\n",
       " <td style=\"text-align: right;\"><strong>$16,000,000</strong></td>\n",
       " <td style=\"text-align: right;\">$16,000,000</td>\n",
       " <td style=\"text-align: right;\">1</td>\n",
       " <td style=\"text-align: right;\">$15,167,500</td>\n",
       " <td style=\"text-align: right;\">1822%</td>\n",
       " </tr>\n",
       " <tr>\n",
       " <td></td>\n",
       " <td colspan=\"5\" style=\"text-align: right;\"><small>Source: NHLPA</small></td>\n",
       " </tr>\n",
       " <tr style=\"border-top: thin solid\">\n",
       " <td style=\"text-align: left;\"></td>\n",
       " <td style=\"text-align: right;\"><strong>Total:</strong><br/>\n",
       " <strong>US $18,682,500</strong><br/><br/>\n",
       " \tIn today's dollars:<br/>\n",
       " \tUS $18,798,265</td>\n",
       " <td style=\"text-align: right;\"><strong>NHL Rank:</strong><br/>\n",
       " <strong>636</strong><br/><br/>\n",
       " \tIn today's dollars:<br/>\n",
       " \t763</td>\n",
       " <td style=\"text-align: RIGHT;\"></td>\n",
       " <td style=\"text-align: RIGHT;\"></td>\n",
       " <td style=\"text-align: RIGHT;\"></td>\n",
       " </tr>\n",
       " </tbody>\n",
       " </table>\n",
       " </div>]"
      ]
     },
     "execution_count": 51,
     "metadata": {},
     "output_type": "execute_result"
    }
   ],
   "source": []
  },
  {
   "cell_type": "code",
   "execution_count": 35,
   "metadata": {},
   "outputs": [
    {
     "ename": "TypeError",
     "evalue": "string indices must be integers",
     "output_type": "error",
     "traceback": [
      "\u001b[1;31m---------------------------------------------------------------------------\u001b[0m",
      "\u001b[1;31mTypeError\u001b[0m                                 Traceback (most recent call last)",
      "\u001b[1;32m<ipython-input-35-d15eac9041c2>\u001b[0m in \u001b[0;36m<module>\u001b[1;34m\u001b[0m\n\u001b[1;32m----> 1\u001b[1;33m \u001b[0mbaseurl\u001b[0m\u001b[1;33m+\u001b[0m\u001b[0mlink\u001b[0m\u001b[1;33m[\u001b[0m\u001b[1;36m0\u001b[0m\u001b[1;33m]\u001b[0m\u001b[1;33m[\u001b[0m\u001b[1;34m'href'\u001b[0m\u001b[1;33m]\u001b[0m\u001b[1;33m\u001b[0m\u001b[1;33m\u001b[0m\u001b[0m\n\u001b[0m",
      "\u001b[1;31mTypeError\u001b[0m: string indices must be integers"
     ]
    }
   ],
   "source": [
    "baseurl+link[0]['href']"
   ]
  },
  {
   "cell_type": "code",
   "execution_count": null,
   "metadata": {},
   "outputs": [],
   "source": []
  }
 ],
 "metadata": {
  "kernelspec": {
   "display_name": "Python 3",
   "language": "python",
   "name": "python3"
  },
  "language_info": {
   "codemirror_mode": {
    "name": "ipython",
    "version": 3
   },
   "file_extension": ".py",
   "mimetype": "text/x-python",
   "name": "python",
   "nbconvert_exporter": "python",
   "pygments_lexer": "ipython3",
   "version": "3.7.9"
  }
 },
 "nbformat": 4,
 "nbformat_minor": 4
}
