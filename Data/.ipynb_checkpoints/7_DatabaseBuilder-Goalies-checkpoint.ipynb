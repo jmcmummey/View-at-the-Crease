{
 "cells": [
  {
   "cell_type": "markdown",
   "metadata": {},
   "source": [
    "<h1>SQLite Database Creator</h1>\n",
    "<p>This notebook aggreates a range of data collected for the take-a-seat project and converts it into an SQLite database based on the following schema: <img src=\"schema.png\" alt=\"Schema for Database\"></p>\n",
    "<p>The data is converted into csvs, then added into the SQLite .db</p>"
   ]
  },
  {
   "cell_type": "code",
   "execution_count": 84,
   "metadata": {},
   "outputs": [],
   "source": [
    "import pandas as pd\n",
    "import numpy as np\n",
    "import os\n",
    "from datetime import datetime as dt, timedelta\n",
    "from dateutil.relativedelta import *\n",
    "import re\n",
    "from matplotlib import pyplot as plt\n",
    "import sqlite3\n",
    "import os"
   ]
  },
  {
   "cell_type": "markdown",
   "metadata": {},
   "source": [
    "<h3>SQLite Handling functions</h3>\n",
    "<p>Use Pandas to import dataframe into SQLlite</p>"
   ]
  },
  {
   "cell_type": "code",
   "execution_count": 85,
   "metadata": {},
   "outputs": [],
   "source": [
    "DB = \"hockey_data_goalies.db\"\n",
    "\n",
    "#SQL Handle functions\n",
    "def run_query(q):\n",
    "    with sqlite3.connect(DB) as conn:\n",
    "        x = pd.read_sql(q,conn)\n",
    "    return x\n",
    "   \n",
    "#send command\n",
    "def run_command(c):\n",
    "    with sqlite3.connect(DB) as conn:\n",
    "        conn.isolation_level = None\n",
    "        return conn.execute(c)\n",
    "    \n",
    "#show tables\n",
    "def show_tables():\n",
    "    r = \"\"\"\n",
    "    Select name,type\n",
    "    FROM sqlite_master\n",
    "    WHERE type in (\"table\",\"view\");\n",
    "        \"\"\"\n",
    "    return run_query(r)"
   ]
  },
  {
   "cell_type": "markdown",
   "metadata": {},
   "source": [
    "<h2>Import and Clean up csvs</h2>\n",
    "    <p><ul>\n",
    "        <li><b>team_list</b>: This csv gets piped straight into its own table</li>\n",
    "        <li><b>player_list</b>: Only count those players who have played more than 113 games (median no)</li>\n",
    "</ul><p>"
   ]
  },
  {
   "cell_type": "code",
   "execution_count": 86,
   "metadata": {},
   "outputs": [
    {
     "data": {
      "text/html": [
       "<div>\n",
       "<style scoped>\n",
       "    .dataframe tbody tr th:only-of-type {\n",
       "        vertical-align: middle;\n",
       "    }\n",
       "\n",
       "    .dataframe tbody tr th {\n",
       "        vertical-align: top;\n",
       "    }\n",
       "\n",
       "    .dataframe thead th {\n",
       "        text-align: right;\n",
       "    }\n",
       "</style>\n",
       "<table border=\"1\" class=\"dataframe\">\n",
       "  <thead>\n",
       "    <tr style=\"text-align: right;\">\n",
       "      <th></th>\n",
       "      <th>team_name</th>\n",
       "      <th>years_active</th>\n",
       "      <th>city</th>\n",
       "      <th>latitude</th>\n",
       "      <th>longitude</th>\n",
       "      <th>timezone</th>\n",
       "    </tr>\n",
       "    <tr>\n",
       "      <th>team_abbr</th>\n",
       "      <th></th>\n",
       "      <th></th>\n",
       "      <th></th>\n",
       "      <th></th>\n",
       "      <th></th>\n",
       "      <th></th>\n",
       "    </tr>\n",
       "  </thead>\n",
       "  <tbody>\n",
       "    <tr>\n",
       "      <th>ANA</th>\n",
       "      <td>Anaheim Ducks</td>\n",
       "      <td>2006-2020</td>\n",
       "      <td>Anaheim</td>\n",
       "      <td>33.808</td>\n",
       "      <td>-117.876</td>\n",
       "      <td>-8</td>\n",
       "    </tr>\n",
       "    <tr>\n",
       "      <th>MDA</th>\n",
       "      <td>Mighty Ducks of Anaheim</td>\n",
       "      <td>1993-2006</td>\n",
       "      <td>Anaheim</td>\n",
       "      <td>33.808</td>\n",
       "      <td>-117.876</td>\n",
       "      <td>-8</td>\n",
       "    </tr>\n",
       "    <tr>\n",
       "      <th>ARI</th>\n",
       "      <td>Arizona Coyotes</td>\n",
       "      <td>2014-2020</td>\n",
       "      <td>Glendale</td>\n",
       "      <td>33.532</td>\n",
       "      <td>-112.261</td>\n",
       "      <td>-7</td>\n",
       "    </tr>\n",
       "    <tr>\n",
       "      <th>PHX</th>\n",
       "      <td>Phoenix Coyotes</td>\n",
       "      <td>1996-2014</td>\n",
       "      <td>Glendale</td>\n",
       "      <td>33.532</td>\n",
       "      <td>-112.261</td>\n",
       "      <td>-7</td>\n",
       "    </tr>\n",
       "    <tr>\n",
       "      <th>WIN</th>\n",
       "      <td>Winnipeg Jets</td>\n",
       "      <td>1990-1996</td>\n",
       "      <td>Winnipeg</td>\n",
       "      <td>49.893</td>\n",
       "      <td>-97.144</td>\n",
       "      <td>-6</td>\n",
       "    </tr>\n",
       "  </tbody>\n",
       "</table>\n",
       "</div>"
      ],
      "text/plain": [
       "                         team_name years_active      city  latitude  \\\n",
       "team_abbr                                                             \n",
       "ANA                  Anaheim Ducks    2006-2020   Anaheim    33.808   \n",
       "MDA        Mighty Ducks of Anaheim    1993-2006   Anaheim    33.808   \n",
       "ARI                Arizona Coyotes    2014-2020  Glendale    33.532   \n",
       "PHX                Phoenix Coyotes    1996-2014  Glendale    33.532   \n",
       "WIN                  Winnipeg Jets    1990-1996  Winnipeg    49.893   \n",
       "\n",
       "           longitude  timezone  \n",
       "team_abbr                       \n",
       "ANA         -117.876        -8  \n",
       "MDA         -117.876        -8  \n",
       "ARI         -112.261        -7  \n",
       "PHX         -112.261        -7  \n",
       "WIN          -97.144        -6  "
      ]
     },
     "execution_count": 86,
     "metadata": {},
     "output_type": "execute_result"
    }
   ],
   "source": [
    "#import team list data\n",
    "teams = pd.read_csv('team_list.csv',encoding = \"ISO-8859-1\")\n",
    "teams['longitude'] = teams['longitude'].astype(float)\n",
    "teams.drop(columns=['index'],inplace=True)\n",
    "teams = teams.set_index('team_abbr')\n",
    "teams.head()"
   ]
  },
  {
   "cell_type": "markdown",
   "metadata": {},
   "source": [
    "<h2>Wipe Database first</h2>\n",
    "<p>Since we're building the db from scratch here</p>"
   ]
  },
  {
   "cell_type": "code",
   "execution_count": 87,
   "metadata": {},
   "outputs": [],
   "source": [
    "tables = show_tables() #gets the tables in the db\n",
    "with sqlite3.connect(DB) as conn:\n",
    "    for row,data in tables.iterrows():\n",
    "        run_command(\"DROP TABLE IF EXISTS {}\".format(tables.loc[row,'name'])) #clear DB of existing tables"
   ]
  },
  {
   "cell_type": "markdown",
   "metadata": {},
   "source": [
    "<h3>Enter Team Data</h3>"
   ]
  },
  {
   "cell_type": "code",
   "execution_count": 88,
   "metadata": {},
   "outputs": [],
   "source": [
    "#make a new table with the appropriate keys\n",
    "c1 = \"\"\"\n",
    "    CREATE TABLE IF NOT EXISTS team_list (\n",
    "    team_abbr TEXT PRIMARY KEY,\n",
    "    team_name TEXT,\n",
    "    years_active TEXT,\n",
    "    city TEXT,\n",
    "    latitude REAL,\n",
    "    longitude REAL,\n",
    "    timezone INTEGER\n",
    ");\n",
    "\"\"\"\n",
    "run_command(c1)\n",
    "\n",
    "#inject data into the table\n",
    "teams.to_sql('team_list',con=sqlite3.connect(DB), if_exists='append')"
   ]
  },
  {
   "cell_type": "markdown",
   "metadata": {},
   "source": [
    "<h2>Enter Player Data</h2>"
   ]
  },
  {
   "cell_type": "code",
   "execution_count": 89,
   "metadata": {},
   "outputs": [],
   "source": [
    "#import player list data\n",
    "players = pd.read_csv('nhlplayerlistr3.txt','\\t')\n",
    "players.drop(columns=['Unnamed: 0','link','height','weight'],inplace=True)\n",
    "players = players.set_index('unique_id')\n",
    "#sort based ons whether or not there is injury data\n",
    "players = players[(players['position']=='G')&(players['total_games']>10)].copy()"
   ]
  },
  {
   "cell_type": "code",
   "execution_count": 90,
   "metadata": {},
   "outputs": [],
   "source": [
    "#make a new table with the appropriate keys #drop position as we're only dealing with Goalies\n",
    "c1 = \"\"\"\n",
    "    CREATE TABLE IF NOT EXISTS player_list (\n",
    "    unique_id TEXT PRIMARY KEY,\n",
    "    player TEXT,\n",
    "    year_start INTEGER,\n",
    "    year_finish INTEGER,\n",
    "    height_cm INTEGER,\n",
    "    weight_kg INTEGER,\n",
    "    total_games INTEGER\n",
    ");\n",
    "\"\"\"\n",
    "\n",
    "run_command(c1)\n",
    "\n",
    "#inject data into the table\n",
    "players[['player','year_start','year_finish','height_cm','weight_kg','total_games']].to_sql('player_list',con=sqlite3.connect(DB), if_exists='append')"
   ]
  },
  {
   "cell_type": "markdown",
   "metadata": {},
   "source": [
    "<h2>Enter Game Logs by Team</h2>"
   ]
  },
  {
   "cell_type": "code",
   "execution_count": 93,
   "metadata": {},
   "outputs": [
    {
     "data": {
      "text/plain": [
       "<sqlite3.Cursor at 0x2e5691f2c00>"
      ]
     },
     "execution_count": 93,
     "metadata": {},
     "output_type": "execute_result"
    }
   ],
   "source": [
    "#make a new table with the appropriate keys #drop position as we're only dealing with Goalies\n",
    "c1 = \"\"\"\n",
    "    CREATE TABLE IF NOT EXISTS team_log (\n",
    "    season_id TEXT PRIMARY KEY,\n",
    "    team_id TEXT,\n",
    "    date_game TEXT,\n",
    "    game_location BLOB,\n",
    "    opp_name TEXT,\n",
    "    goals INTEGER,\n",
    "    opp_goals INTEGER,\n",
    "    game_outcome TEXT,\n",
    "    overtimes TEXT,\n",
    "    shots INTEGER,\n",
    "    shots_against INTEGER,\n",
    "    FOREIGN KEY (team_id) REFERENCES team_list(team_id)\n",
    ");\n",
    "\"\"\"\n",
    "\n",
    "run_command(c1)"
   ]
  },
  {
   "cell_type": "code",
   "execution_count": 94,
   "metadata": {},
   "outputs": [],
   "source": [
    "#import player list into a dataframe\n",
    "for files in os.listdir('C:\\\\Users\\\\jesse\\\\Documents\\\\Projects\\\\takeaseat\\\\Data\\\\team_gamelogs\\\\'):\n",
    "    season_log = pd.read_csv('team_gamelogs\\\\'+files,'\\t')\n",
    "    season_log['team_id'] = files[:3]\n",
    "    season_log['season_id'] = season_log['team_id']+season_log['date_game'].astype('datetime64').map(lambda x:x.strftime('%Y%m%d'))\n",
    "    season_log.drop(columns=['Unnamed: 0'],inplace=True)\n",
    "    season_log = season_log.set_index('season_id')\n",
    "    season_log[['team_id','date_game','game_location', 'opp_name', 'goals','opp_goals','game_outcome','overtimes','shots','shots_against']].to_sql('team_log',con=sqlite3.connect(DB), if_exists='append')"
   ]
  },
  {
   "cell_type": "markdown",
   "metadata": {},
   "source": [
    "<h2>Player Logs</h2>\n",
    "Now add goalie player logs"
   ]
  },
  {
   "cell_type": "code",
   "execution_count": null,
   "metadata": {},
   "outputs": [],
   "source": []
  },
  {
   "cell_type": "code",
   "execution_count": null,
   "metadata": {},
   "outputs": [],
   "source": [
    "#make a new table with the appropriate keys\n",
    "c1 = \"\"\"\n",
    "    CREATE TABLE IF NOT EXISTS player_log(\n",
    "    gamelog_id TEXT PRIMARY KEY,\n",
    "    player_id TEXT,\n",
    "    team_id TEXT,\n",
    "    date_game TEXT,\n",
    "    age REAL,\n",
    "    min_season REAL,\n",
    "    min_3w REAL,\n",
    "    days_to_next_g INTEGER,\n",
    "    timec REAL,\n",
    "    venuec REAL,\n",
    "    injured INT,\n",
    "    FOREIGN KEY (player_id) REFERENCES player_list(unique_id)\n",
    "    FOREIGN KEY (team_id) REFERENCES team_list(team_id)\n",
    ");\"\"\"\n",
    "            \n",
    "run_command(c1)\n",
    "show_tables()"
   ]
  }
 ],
 "metadata": {
  "kernelspec": {
   "display_name": "Python 3",
   "language": "python",
   "name": "python3"
  },
  "language_info": {
   "codemirror_mode": {
    "name": "ipython",
    "version": 3
   },
   "file_extension": ".py",
   "mimetype": "text/x-python",
   "name": "python",
   "nbconvert_exporter": "python",
   "pygments_lexer": "ipython3",
   "version": "3.7.9"
  }
 },
 "nbformat": 4,
 "nbformat_minor": 4
}
