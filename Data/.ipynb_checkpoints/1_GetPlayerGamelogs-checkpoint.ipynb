{
 "cells": [
  {
   "cell_type": "markdown",
   "metadata": {},
   "source": [
    "<h1>Gamelog Grabber</h1>\n",
    "<p>The following code...</p>"
   ]
  },
  {
   "cell_type": "code",
   "execution_count": 1,
   "metadata": {},
   "outputs": [],
   "source": [
    "import pandas as pd\n",
    "import numpy as np\n",
    "import requests as r\n",
    "import re\n",
    "from string import ascii_lowercase as al #these are the lowercase ascii letters\n",
    "from bs4 import BeautifulSoup as bs"
   ]
  },
  {
   "cell_type": "code",
   "execution_count": 28,
   "metadata": {},
   "outputs": [
    {
     "data": {
      "text/html": [
       "<div>\n",
       "<style scoped>\n",
       "    .dataframe tbody tr th:only-of-type {\n",
       "        vertical-align: middle;\n",
       "    }\n",
       "\n",
       "    .dataframe tbody tr th {\n",
       "        vertical-align: top;\n",
       "    }\n",
       "\n",
       "    .dataframe thead th {\n",
       "        text-align: right;\n",
       "    }\n",
       "</style>\n",
       "<table border=\"1\" class=\"dataframe\">\n",
       "  <thead>\n",
       "    <tr style=\"text-align: right;\">\n",
       "      <th></th>\n",
       "      <th>player</th>\n",
       "      <th>unique_id</th>\n",
       "      <th>year_start</th>\n",
       "      <th>year_finish</th>\n",
       "      <th>position</th>\n",
       "      <th>link</th>\n",
       "    </tr>\n",
       "  </thead>\n",
       "  <tbody>\n",
       "    <tr>\n",
       "      <th>0</th>\n",
       "      <td>Antti Aalto</td>\n",
       "      <td>aaltoan01</td>\n",
       "      <td>1998</td>\n",
       "      <td>2001</td>\n",
       "      <td>F</td>\n",
       "      <td>https://www.hockey-reference.com/players/a/aal...</td>\n",
       "    </tr>\n",
       "    <tr>\n",
       "      <th>1</th>\n",
       "      <td>Spencer Abbott</td>\n",
       "      <td>abbotsp01</td>\n",
       "      <td>2014</td>\n",
       "      <td>2017</td>\n",
       "      <td>F</td>\n",
       "      <td>https://www.hockey-reference.com/players/a/abb...</td>\n",
       "    </tr>\n",
       "    <tr>\n",
       "      <th>2</th>\n",
       "      <td>Justin Abdelkader</td>\n",
       "      <td>abdelju01</td>\n",
       "      <td>2008</td>\n",
       "      <td>2020</td>\n",
       "      <td>F</td>\n",
       "      <td>https://www.hockey-reference.com/players/a/abd...</td>\n",
       "    </tr>\n",
       "    <tr>\n",
       "      <th>3</th>\n",
       "      <td>Pontus Aberg</td>\n",
       "      <td>abergpo01</td>\n",
       "      <td>2017</td>\n",
       "      <td>2020</td>\n",
       "      <td>F</td>\n",
       "      <td>https://www.hockey-reference.com/players/a/abe...</td>\n",
       "    </tr>\n",
       "    <tr>\n",
       "      <th>4</th>\n",
       "      <td>Ramzi Abid</td>\n",
       "      <td>abidra01</td>\n",
       "      <td>2003</td>\n",
       "      <td>2007</td>\n",
       "      <td>F</td>\n",
       "      <td>https://www.hockey-reference.com/players/a/abi...</td>\n",
       "    </tr>\n",
       "  </tbody>\n",
       "</table>\n",
       "</div>"
      ],
      "text/plain": [
       "              player  unique_id  year_start  year_finish position  \\\n",
       "0        Antti Aalto  aaltoan01        1998         2001        F   \n",
       "1     Spencer Abbott  abbotsp01        2014         2017        F   \n",
       "2  Justin Abdelkader  abdelju01        2008         2020        F   \n",
       "3       Pontus Aberg  abergpo01        2017         2020        F   \n",
       "4         Ramzi Abid   abidra01        2003         2007        F   \n",
       "\n",
       "                                                link  \n",
       "0  https://www.hockey-reference.com/players/a/aal...  \n",
       "1  https://www.hockey-reference.com/players/a/abb...  \n",
       "2  https://www.hockey-reference.com/players/a/abd...  \n",
       "3  https://www.hockey-reference.com/players/a/abe...  \n",
       "4  https://www.hockey-reference.com/players/a/abi...  "
      ]
     },
     "execution_count": 28,
     "metadata": {},
     "output_type": "execute_result"
    }
   ],
   "source": [
    "#import player list from csv and tidy \n",
    "players = pd.read_csv('nhlplayerlist.txt','\\t')\n",
    "players.drop(columns=['Unnamed: 0','index'],axis=1,inplace=True)\n",
    "players.head(5)"
   ]
  },
  {
   "cell_type": "code",
   "execution_count": 43,
   "metadata": {},
   "outputs": [],
   "source": [
    "page = r.get(players['link'][0])\n",
    "soup = bs(page.text,'html.parser')\n",
    "links = soup.find_all('a',href=True)\n",
    "gamelogs = []\n",
    "for l in links:\n",
    "    if 'gamelog' in l['href']:\n",
    "        gamelogs.append(l['href'])"
   ]
  },
  {
   "cell_type": "code",
   "execution_count": 42,
   "metadata": {},
   "outputs": [
    {
     "data": {
      "text/plain": [
       "'/players/a/aaltoan01/gamelog/playoffs'"
      ]
     },
     "execution_count": 42,
     "metadata": {},
     "output_type": "execute_result"
    }
   ],
   "source": [
    "re.search()"
   ]
  },
  {
   "cell_type": "code",
   "execution_count": null,
   "metadata": {},
   "outputs": [],
   "source": []
  }
 ],
 "metadata": {
  "kernelspec": {
   "display_name": "Python 3",
   "language": "python",
   "name": "python3"
  },
  "language_info": {
   "codemirror_mode": {
    "name": "ipython",
    "version": 3
   },
   "file_extension": ".py",
   "mimetype": "text/x-python",
   "name": "python",
   "nbconvert_exporter": "python",
   "pygments_lexer": "ipython3",
   "version": "3.7.9"
  }
 },
 "nbformat": 4,
 "nbformat_minor": 4
}
