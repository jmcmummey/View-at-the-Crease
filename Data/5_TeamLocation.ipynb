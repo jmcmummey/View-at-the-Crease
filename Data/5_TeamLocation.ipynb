{
 "cells": [
  {
   "cell_type": "markdown",
   "metadata": {},
   "source": [
    "<h2>Gets Team Location and Timezone</h2>\n",
    "<p>put together a list of the teams with the following information<ul><li>team_abbr</li><li>team_name</li><li>years_active</li><li>city</li><li>latitude</li><li>longitude</li><li>timezone</li></ul></p>"
   ]
  },
  {
   "cell_type": "code",
   "execution_count": 1,
   "metadata": {},
   "outputs": [],
   "source": [
    "import pandas as pd\n",
    "import numpy as np\n",
    "import requests as r\n",
    "import re\n",
    "from bs4 import BeautifulSoup as bs\n",
    "\n",
    "pd.set_option('display.max_rows', 50)\n",
    "pd.set_option('display.max_columns', 50)\n",
    "pd.set_option('display.width', 1000)"
   ]
  },
  {
   "cell_type": "code",
   "execution_count": 2,
   "metadata": {},
   "outputs": [],
   "source": [
    "#load gamelog list"
   ]
  },
  {
   "cell_type": "code",
   "execution_count": 6,
   "metadata": {},
   "outputs": [
    {
     "data": {
      "text/html": [
       "<div>\n",
       "<style scoped>\n",
       "    .dataframe tbody tr th:only-of-type {\n",
       "        vertical-align: middle;\n",
       "    }\n",
       "\n",
       "    .dataframe tbody tr th {\n",
       "        vertical-align: top;\n",
       "    }\n",
       "\n",
       "    .dataframe thead th {\n",
       "        text-align: right;\n",
       "    }\n",
       "</style>\n",
       "<table border=\"1\" class=\"dataframe\">\n",
       "  <thead>\n",
       "    <tr style=\"text-align: right;\">\n",
       "      <th></th>\n",
       "      <th>Season</th>\n",
       "      <th>team_name</th>\n",
       "      <th>team_abbr</th>\n",
       "      <th>link</th>\n",
       "    </tr>\n",
       "  </thead>\n",
       "  <tbody>\n",
       "    <tr>\n",
       "      <th>0</th>\n",
       "      <td>2019-20</td>\n",
       "      <td>Anaheim Ducks</td>\n",
       "      <td>ANA</td>\n",
       "      <td>teams/ANA/2020_gamelog.html</td>\n",
       "    </tr>\n",
       "    <tr>\n",
       "      <th>1</th>\n",
       "      <td>2018-19</td>\n",
       "      <td>Anaheim Ducks</td>\n",
       "      <td>ANA</td>\n",
       "      <td>teams/ANA/2019_gamelog.html</td>\n",
       "    </tr>\n",
       "    <tr>\n",
       "      <th>2</th>\n",
       "      <td>2017-18</td>\n",
       "      <td>Anaheim Ducks</td>\n",
       "      <td>ANA</td>\n",
       "      <td>teams/ANA/2018_gamelog.html</td>\n",
       "    </tr>\n",
       "    <tr>\n",
       "      <th>3</th>\n",
       "      <td>2016-17</td>\n",
       "      <td>Anaheim Ducks</td>\n",
       "      <td>ANA</td>\n",
       "      <td>teams/ANA/2017_gamelog.html</td>\n",
       "    </tr>\n",
       "    <tr>\n",
       "      <th>4</th>\n",
       "      <td>2015-16</td>\n",
       "      <td>Anaheim Ducks</td>\n",
       "      <td>ANA</td>\n",
       "      <td>teams/ANA/2016_gamelog.html</td>\n",
       "    </tr>\n",
       "    <tr>\n",
       "      <th>...</th>\n",
       "      <td>...</td>\n",
       "      <td>...</td>\n",
       "      <td>...</td>\n",
       "      <td>...</td>\n",
       "    </tr>\n",
       "    <tr>\n",
       "      <th>820</th>\n",
       "      <td>2003-04</td>\n",
       "      <td>Atlanta Thrashers</td>\n",
       "      <td>ATL</td>\n",
       "      <td>teams/ATL/2004_gamelog.html</td>\n",
       "    </tr>\n",
       "    <tr>\n",
       "      <th>821</th>\n",
       "      <td>2002-03</td>\n",
       "      <td>Atlanta Thrashers</td>\n",
       "      <td>ATL</td>\n",
       "      <td>teams/ATL/2003_gamelog.html</td>\n",
       "    </tr>\n",
       "    <tr>\n",
       "      <th>822</th>\n",
       "      <td>2001-02</td>\n",
       "      <td>Atlanta Thrashers</td>\n",
       "      <td>ATL</td>\n",
       "      <td>teams/ATL/2002_gamelog.html</td>\n",
       "    </tr>\n",
       "    <tr>\n",
       "      <th>823</th>\n",
       "      <td>2000-01</td>\n",
       "      <td>Atlanta Thrashers</td>\n",
       "      <td>ATL</td>\n",
       "      <td>teams/ATL/2001_gamelog.html</td>\n",
       "    </tr>\n",
       "    <tr>\n",
       "      <th>824</th>\n",
       "      <td>1999-00</td>\n",
       "      <td>Atlanta Thrashers</td>\n",
       "      <td>ATL</td>\n",
       "      <td>teams/ATL/2000_gamelog.html</td>\n",
       "    </tr>\n",
       "  </tbody>\n",
       "</table>\n",
       "<p>825 rows × 4 columns</p>\n",
       "</div>"
      ],
      "text/plain": [
       "      Season          team_name team_abbr                         link\n",
       "0    2019-20      Anaheim Ducks       ANA  teams/ANA/2020_gamelog.html\n",
       "1    2018-19      Anaheim Ducks       ANA  teams/ANA/2019_gamelog.html\n",
       "2    2017-18      Anaheim Ducks       ANA  teams/ANA/2018_gamelog.html\n",
       "3    2016-17      Anaheim Ducks       ANA  teams/ANA/2017_gamelog.html\n",
       "4    2015-16      Anaheim Ducks       ANA  teams/ANA/2016_gamelog.html\n",
       "..       ...                ...       ...                          ...\n",
       "820  2003-04  Atlanta Thrashers       ATL  teams/ATL/2004_gamelog.html\n",
       "821  2002-03  Atlanta Thrashers       ATL  teams/ATL/2003_gamelog.html\n",
       "822  2001-02  Atlanta Thrashers       ATL  teams/ATL/2002_gamelog.html\n",
       "823  2000-01  Atlanta Thrashers       ATL  teams/ATL/2001_gamelog.html\n",
       "824  1999-00  Atlanta Thrashers       ATL  teams/ATL/2000_gamelog.html\n",
       "\n",
       "[825 rows x 4 columns]"
      ]
     },
     "execution_count": 6,
     "metadata": {},
     "output_type": "execute_result"
    }
   ],
   "source": [
    "teamDataFrame = pd.read_csv('team_gamelog_list.txt','\\t')\n",
    "teamDataFrame.drop(columns=['Unnamed: 0'],inplace=True)\n",
    "teamDataFrame"
   ]
  },
  {
   "cell_type": "code",
   "execution_count": 12,
   "metadata": {},
   "outputs": [],
   "source": [
    "#list the unique abbreviations:\n",
    "abbrs = teamDataFrame['team_abbr'].unique()"
   ]
  },
  {
   "cell_type": "code",
   "execution_count": 35,
   "metadata": {},
   "outputs": [],
   "source": [
    "teams = pd.DataFrame(columns=['team_abbr','team_name','years_active','city','latitude','longitude','timezone'])\n",
    "for r,abr in enumerate(abbrs):\n",
    "    #input abr\n",
    "    teams.loc[r,'team_abbr'] = abr\n",
    "    #input team name\n",
    "    teams.loc[r,'team_name'] = teamDataFrame[teamDataFrame['team_abbr']==abr]['team_name'].unique()[0]\n",
    "    #input years active\n",
    "    ya = teamDataFrame[teamDataFrame['team_abbr']==abr]['Season'].str[:4].astype(int).describe()\n",
    "    teams.loc[r,'years_active'] = str(int(ya['min']))+'-'+str(int(ya['max'])+1)"
   ]
  },
  {
   "cell_type": "code",
   "execution_count": 37,
   "metadata": {},
   "outputs": [],
   "source": [
    "#fill in the rest by hand\n",
    "teams.to_csv('team_list.csv',',')"
   ]
  }
 ],
 "metadata": {
  "kernelspec": {
   "display_name": "Python 3",
   "language": "python",
   "name": "python3"
  },
  "language_info": {
   "codemirror_mode": {
    "name": "ipython",
    "version": 3
   },
   "file_extension": ".py",
   "mimetype": "text/x-python",
   "name": "python",
   "nbconvert_exporter": "python",
   "pygments_lexer": "ipython3",
   "version": "3.7.9"
  }
 },
 "nbformat": 4,
 "nbformat_minor": 4
}
