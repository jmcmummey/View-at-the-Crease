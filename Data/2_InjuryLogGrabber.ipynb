{
 "cells": [
  {
   "cell_type": "markdown",
   "metadata": {},
   "source": [
    "<h1>Get the player injury logs</h1>\n",
    "<p>The following code looks at the injury lists and scrapes them off <a href=\"http://www.prosportstransactions.com\">prosportstransactions.com</a>.  It will take further significant work to turn them into useful datapoints.</p>"
   ]
  },
  {
   "cell_type": "code",
   "execution_count": null,
   "metadata": {},
   "outputs": [],
   "source": [
    "import pandas as pd\n",
    "import numpy as np\n",
    "import requests as r\n",
    "import re\n",
    "from bs4 import BeautifulSoup as bs\n",
    "\n",
    "pd.set_option('display.max_rows', 50)\n",
    "pd.set_option('display.max_columns', 50)\n",
    "pd.set_option('display.width', 1000)"
   ]
  },
  {
   "cell_type": "code",
   "execution_count": null,
   "metadata": {},
   "outputs": [],
   "source": [
    "#import player list from csv and tidy \n",
    "players = pd.read_csv('nhlplayerlist_goalieonly.txt','\\t')\n",
    "players.drop(columns=['Unnamed: 0','index'],axis=1,inplace=True)\n",
    "players.head(5)\n",
    "#add a new injuries_found column to the list\n",
    "players['injuries_found'] = np.nan"
   ]
  },
  {
   "cell_type": "markdown",
   "metadata": {},
   "source": [
    "<h2>Grab the injury list</h2>\n",
    "<p>For each player, grab the table of injuries off of <a href=\"http://www.prosportstransactions.com\">prosportstransactions.com</a>.  This dataframe is then saved to a new folder.  Additionally, the player list is updated denoting players without injury reports or if they have them,the length of the table.  Later on I will need to cycle back and reformat the injury report.</p>"
   ]
  },
  {
   "cell_type": "code",
   "execution_count": null,
   "metadata": {
    "scrolled": true
   },
   "outputs": [],
   "source": [
    "#for each player in the list\n",
    "for i,player in players.iterrows():\n",
    "\n",
    "    pageno = 0 #current page no\n",
    "    page_max = 99 #total number of pages\n",
    "    injurytable = pd.DataFrame()\n",
    "\n",
    "    while pageno <= page_max:\n",
    "        #website - check for Craig Anderson\n",
    "        url= 'http://www.prosportstransactions.com/hockey/Search/SearchResults.php?Player=%s&Team=&BeginDate=1990-09-01&EndDate=&ILChkBx=yes&InjuriesChkBx=yes&submit=Search&start=%d' %(player['player'],pageno*25)\n",
    "        page = r.get(url)\n",
    "        soup = bs(page.text,'html.parser')\n",
    "        table = soup.find_all('tr')\n",
    "        #check to see if there's any data?\n",
    "        if len(table)==0:\n",
    "            players.loc[i,'injuries_found'] = 0\n",
    "            break\n",
    "        else:\n",
    "            for ri,row in enumerate(table):\n",
    "                rowe = []\n",
    "                #get data\n",
    "                for c in row.find_all('td'):\n",
    "                    rowe.append(c.text)\n",
    "\n",
    "                #check if we're on the final row of the page\n",
    "                if (rowe[0]=='\\xa0'):\n",
    "                    if pageno==0:\n",
    "                        page_max=int(rowe[2].split()[-1])-1 #set the maximum number of pages (only the first time)\n",
    "                else:\n",
    "                    if (ri==0): #its the header of the table\n",
    "                        if pageno==0: #import the first time\n",
    "                            injurytable = pd.DataFrame(columns=rowe)\n",
    "                        else:\n",
    "                            pass #burn the repeated table headers\n",
    "                    else:\n",
    "                        injurytable = injurytable.append(dict(zip(injurytable.columns,rowe)),ignore_index=True)\n",
    "            pageno += 1\n",
    "    players.loc[i,'injuries_found'] = injurytable.shape[0]\n",
    "    if injurytable.shape[0]>0:\n",
    "        injurytable.to_csv('player_injurylist\\\\'+player['unique_id']+'.txt','\\t')\n",
    "    \n",
    "players.to_csv('nhlplayerlist_goalies.txt','\\t')"
   ]
  },
  {
   "cell_type": "code",
   "execution_count": null,
   "metadata": {},
   "outputs": [],
   "source": [
    "print('There are injuries reported for a total of %s of %s players' % (players[players['injuries_found']>0].count()[0],players.shape[0]))"
   ]
  },
  {
   "cell_type": "code",
   "execution_count": null,
   "metadata": {},
   "outputs": [],
   "source": []
  }
 ],
 "metadata": {
  "kernelspec": {
   "display_name": "Python 3",
   "language": "python",
   "name": "python3"
  },
  "language_info": {
   "codemirror_mode": {
    "name": "ipython",
    "version": 3
   },
   "file_extension": ".py",
   "mimetype": "text/x-python",
   "name": "python",
   "nbconvert_exporter": "python",
   "pygments_lexer": "ipython3",
   "version": "3.7.9"
  }
 },
 "nbformat": 4,
 "nbformat_minor": 4
}
