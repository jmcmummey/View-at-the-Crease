{
 "cells": [
  {
   "cell_type": "markdown",
   "metadata": {},
   "source": [
    "<h1>SQLite Database Creator</h1>\n",
    "<p>This notebook aggreates a range of data collected for the take-a-seat project and converts it into an SQLite database based on the following schema: <img src=\"schema.png\" alt=\"Schema for Database\"></p>\n",
    "<p>The data is converted into csvs, then added into the SQLite .db</p>"
   ]
  },
  {
   "cell_type": "code",
   "execution_count": 15,
   "metadata": {},
   "outputs": [],
   "source": [
    "import pandas as pd\n",
    "import numpy as np\n",
    "import os\n",
    "from datetime import datetime as dt, timedelta\n",
    "from dateutil.relativedelta import *\n",
    "import re\n",
    "from matplotlib import pyplot as plt\n",
    "import sqlite3"
   ]
  },
  {
   "cell_type": "markdown",
   "metadata": {},
   "source": [
    "<h3>SQLite Handling functions</h3>\n",
    "<p>Use Pandas to import dataframe into SQLlite</p>"
   ]
  },
  {
   "cell_type": "code",
   "execution_count": 16,
   "metadata": {},
   "outputs": [],
   "source": [
    "DB = \"hockey_data.db\"\n",
    "\n",
    "#SQL Handle functions\n",
    "def run_query(q):\n",
    "    with sqlite3.connect(DB) as conn:\n",
    "        x = pd.read_sql(q,conn)\n",
    "    return x\n",
    "   \n",
    "#send command\n",
    "def run_command(c):\n",
    "    with sqlite3.connect(DB) as conn:\n",
    "        conn.isolation_level = None\n",
    "        return conn.execute(c)\n",
    "    \n",
    "#show tables\n",
    "def show_tables():\n",
    "    r = \"\"\"\n",
    "    Select name,type\n",
    "    FROM sqlite_master\n",
    "    WHERE type in (\"table\",\"view\");\n",
    "        \"\"\"\n",
    "    return run_query(r)"
   ]
  },
  {
   "cell_type": "markdown",
   "metadata": {},
   "source": [
    "<h2>Import and Clean up csvs</h2>\n",
    "    <p><ul>\n",
    "        <li><b>team_list</b>: This csv gets piped straight into its own table</li>\n",
    "        <li><b>player_list</b>: Only count those players who have played more than 113 games (median no)</li>\n",
    "</ul><p>"
   ]
  },
  {
   "cell_type": "code",
   "execution_count": 36,
   "metadata": {
    "scrolled": false
   },
   "outputs": [
    {
     "data": {
      "text/html": [
       "<div>\n",
       "<style scoped>\n",
       "    .dataframe tbody tr th:only-of-type {\n",
       "        vertical-align: middle;\n",
       "    }\n",
       "\n",
       "    .dataframe tbody tr th {\n",
       "        vertical-align: top;\n",
       "    }\n",
       "\n",
       "    .dataframe thead th {\n",
       "        text-align: right;\n",
       "    }\n",
       "</style>\n",
       "<table border=\"1\" class=\"dataframe\">\n",
       "  <thead>\n",
       "    <tr style=\"text-align: right;\">\n",
       "      <th></th>\n",
       "      <th>team_name</th>\n",
       "      <th>years_active</th>\n",
       "      <th>city</th>\n",
       "      <th>latitude</th>\n",
       "      <th>longitude</th>\n",
       "      <th>timezone</th>\n",
       "    </tr>\n",
       "    <tr>\n",
       "      <th>team_abbr</th>\n",
       "      <th></th>\n",
       "      <th></th>\n",
       "      <th></th>\n",
       "      <th></th>\n",
       "      <th></th>\n",
       "      <th></th>\n",
       "    </tr>\n",
       "  </thead>\n",
       "  <tbody>\n",
       "    <tr>\n",
       "      <th>ANA</th>\n",
       "      <td>Anaheim Ducks</td>\n",
       "      <td>2006-2020</td>\n",
       "      <td>Anaheim</td>\n",
       "      <td>33.808</td>\n",
       "      <td>-117.876</td>\n",
       "      <td>-8</td>\n",
       "    </tr>\n",
       "    <tr>\n",
       "      <th>MDA</th>\n",
       "      <td>Mighty Ducks of Anaheim</td>\n",
       "      <td>1993-2006</td>\n",
       "      <td>Anaheim</td>\n",
       "      <td>33.808</td>\n",
       "      <td>-117.876</td>\n",
       "      <td>-8</td>\n",
       "    </tr>\n",
       "    <tr>\n",
       "      <th>ARI</th>\n",
       "      <td>Arizona Coyotes</td>\n",
       "      <td>2014-2020</td>\n",
       "      <td>Glendale</td>\n",
       "      <td>33.532</td>\n",
       "      <td>-112.261</td>\n",
       "      <td>-7</td>\n",
       "    </tr>\n",
       "    <tr>\n",
       "      <th>PHX</th>\n",
       "      <td>Phoenix Coyotes</td>\n",
       "      <td>1996-2014</td>\n",
       "      <td>Glendale</td>\n",
       "      <td>33.532</td>\n",
       "      <td>-112.261</td>\n",
       "      <td>-7</td>\n",
       "    </tr>\n",
       "    <tr>\n",
       "      <th>WIN</th>\n",
       "      <td>Winnipeg Jets</td>\n",
       "      <td>1990-1996</td>\n",
       "      <td>Winnipeg</td>\n",
       "      <td>49.893</td>\n",
       "      <td>-97.144</td>\n",
       "      <td>-6</td>\n",
       "    </tr>\n",
       "  </tbody>\n",
       "</table>\n",
       "</div>"
      ],
      "text/plain": [
       "                         team_name years_active      city  latitude  \\\n",
       "team_abbr                                                             \n",
       "ANA                  Anaheim Ducks    2006-2020   Anaheim    33.808   \n",
       "MDA        Mighty Ducks of Anaheim    1993-2006   Anaheim    33.808   \n",
       "ARI                Arizona Coyotes    2014-2020  Glendale    33.532   \n",
       "PHX                Phoenix Coyotes    1996-2014  Glendale    33.532   \n",
       "WIN                  Winnipeg Jets    1990-1996  Winnipeg    49.893   \n",
       "\n",
       "           longitude  timezone  \n",
       "team_abbr                       \n",
       "ANA         -117.876        -8  \n",
       "MDA         -117.876        -8  \n",
       "ARI         -112.261        -7  \n",
       "PHX         -112.261        -7  \n",
       "WIN          -97.144        -6  "
      ]
     },
     "execution_count": 36,
     "metadata": {},
     "output_type": "execute_result"
    }
   ],
   "source": [
    "#import team list data\n",
    "teams = pd.read_csv('team_list.csv',encoding = \"ISO-8859-1\")\n",
    "teams['longitude'] = teams['longitude'].astype(float)\n",
    "teams.drop(columns=['index'],inplace=True)\n",
    "teams = teams.set_index('team_abbr')\n",
    "teams.head()"
   ]
  },
  {
   "cell_type": "code",
   "execution_count": 27,
   "metadata": {},
   "outputs": [
    {
     "data": {
      "text/html": [
       "<div>\n",
       "<style scoped>\n",
       "    .dataframe tbody tr th:only-of-type {\n",
       "        vertical-align: middle;\n",
       "    }\n",
       "\n",
       "    .dataframe tbody tr th {\n",
       "        vertical-align: top;\n",
       "    }\n",
       "\n",
       "    .dataframe thead th {\n",
       "        text-align: right;\n",
       "    }\n",
       "</style>\n",
       "<table border=\"1\" class=\"dataframe\">\n",
       "  <thead>\n",
       "    <tr style=\"text-align: right;\">\n",
       "      <th></th>\n",
       "      <th>player</th>\n",
       "      <th>year_start</th>\n",
       "      <th>year_finish</th>\n",
       "      <th>position</th>\n",
       "      <th>injuries_found</th>\n",
       "      <th>height_cm</th>\n",
       "      <th>weight_kg</th>\n",
       "      <th>total_games</th>\n",
       "    </tr>\n",
       "    <tr>\n",
       "      <th>unique_id</th>\n",
       "      <th></th>\n",
       "      <th></th>\n",
       "      <th></th>\n",
       "      <th></th>\n",
       "      <th></th>\n",
       "      <th></th>\n",
       "      <th></th>\n",
       "      <th></th>\n",
       "    </tr>\n",
       "  </thead>\n",
       "  <tbody>\n",
       "    <tr>\n",
       "      <th>aaltoan01</th>\n",
       "      <td>Antti Aalto</td>\n",
       "      <td>1998</td>\n",
       "      <td>2001</td>\n",
       "      <td>F</td>\n",
       "      <td>0.0</td>\n",
       "      <td>185.0</td>\n",
       "      <td>95.0</td>\n",
       "      <td>151.0</td>\n",
       "    </tr>\n",
       "    <tr>\n",
       "      <th>abbotsp01</th>\n",
       "      <td>Spencer Abbott</td>\n",
       "      <td>2014</td>\n",
       "      <td>2017</td>\n",
       "      <td>F</td>\n",
       "      <td>0.0</td>\n",
       "      <td>175.0</td>\n",
       "      <td>77.0</td>\n",
       "      <td>2.0</td>\n",
       "    </tr>\n",
       "    <tr>\n",
       "      <th>abdelju01</th>\n",
       "      <td>Justin Abdelkader</td>\n",
       "      <td>2008</td>\n",
       "      <td>2020</td>\n",
       "      <td>F</td>\n",
       "      <td>32.0</td>\n",
       "      <td>188.0</td>\n",
       "      <td>96.0</td>\n",
       "      <td>739.0</td>\n",
       "    </tr>\n",
       "    <tr>\n",
       "      <th>abergpo01</th>\n",
       "      <td>Pontus Aberg</td>\n",
       "      <td>2017</td>\n",
       "      <td>2020</td>\n",
       "      <td>F</td>\n",
       "      <td>6.0</td>\n",
       "      <td>180.0</td>\n",
       "      <td>88.0</td>\n",
       "      <td>132.0</td>\n",
       "    </tr>\n",
       "    <tr>\n",
       "      <th>abidra01</th>\n",
       "      <td>Ramzi Abid</td>\n",
       "      <td>2003</td>\n",
       "      <td>2007</td>\n",
       "      <td>F</td>\n",
       "      <td>3.0</td>\n",
       "      <td>188.0</td>\n",
       "      <td>95.0</td>\n",
       "      <td>68.0</td>\n",
       "    </tr>\n",
       "  </tbody>\n",
       "</table>\n",
       "</div>"
      ],
      "text/plain": [
       "                      player  year_start  year_finish position  \\\n",
       "unique_id                                                        \n",
       "aaltoan01        Antti Aalto        1998         2001        F   \n",
       "abbotsp01     Spencer Abbott        2014         2017        F   \n",
       "abdelju01  Justin Abdelkader        2008         2020        F   \n",
       "abergpo01       Pontus Aberg        2017         2020        F   \n",
       "abidra01          Ramzi Abid        2003         2007        F   \n",
       "\n",
       "           injuries_found  height_cm  weight_kg  total_games  \n",
       "unique_id                                                     \n",
       "aaltoan01             0.0      185.0       95.0        151.0  \n",
       "abbotsp01             0.0      175.0       77.0          2.0  \n",
       "abdelju01            32.0      188.0       96.0        739.0  \n",
       "abergpo01             6.0      180.0       88.0        132.0  \n",
       "abidra01              3.0      188.0       95.0         68.0  "
      ]
     },
     "execution_count": 27,
     "metadata": {},
     "output_type": "execute_result"
    }
   ],
   "source": [
    "#import player list data\n",
    "players = pd.read_csv('nhlplayerlistr3.txt','\\t')\n",
    "players.drop(columns=['Unnamed: 0','link','height','weight'],inplace=True)\n",
    "players = players.set_index('unique_id')\n",
    "#sort based ons whether or not there is injury data\n",
    "players.head()"
   ]
  },
  {
   "cell_type": "code",
   "execution_count": 54,
   "metadata": {},
   "outputs": [
    {
     "data": {
      "text/plain": [
       "Text(0.5, 1.0, '')"
      ]
     },
     "execution_count": 54,
     "metadata": {},
     "output_type": "execute_result"
    },
    {
     "data": {
      "image/png": "[encoded data removed]",
      "text/plain": [
       "<Figure size 432x288 with 1 Axes>"
      ]
     },
     "metadata": {
      "needs_background": "light"
     },
     "output_type": "display_data"
    }
   ],
   "source": [
    "plt.plot(players['weight_kg'],players['injuries_found'],'r.')\n",
    "plt.xlabel('No of games')\n",
    "plt.ylabel('No of injuries')\n",
    "plt.title('')"
   ]
  },
  {
   "cell_type": "code",
   "execution_count": 35,
   "metadata": {
    "scrolled": true
   },
   "outputs": [
    {
     "data": {
      "text/html": [
       "<div>\n",
       "<style scoped>\n",
       "    .dataframe tbody tr th:only-of-type {\n",
       "        vertical-align: middle;\n",
       "    }\n",
       "\n",
       "    .dataframe tbody tr th {\n",
       "        vertical-align: top;\n",
       "    }\n",
       "\n",
       "    .dataframe thead th {\n",
       "        text-align: right;\n",
       "    }\n",
       "</style>\n",
       "<table border=\"1\" class=\"dataframe\">\n",
       "  <thead>\n",
       "    <tr style=\"text-align: right;\">\n",
       "      <th></th>\n",
       "      <th>year_start</th>\n",
       "      <th>year_finish</th>\n",
       "      <th>injuries_found</th>\n",
       "      <th>height_cm</th>\n",
       "      <th>weight_kg</th>\n",
       "      <th>total_games</th>\n",
       "    </tr>\n",
       "  </thead>\n",
       "  <tbody>\n",
       "    <tr>\n",
       "      <th>count</th>\n",
       "      <td>4675.000000</td>\n",
       "      <td>4675.000000</td>\n",
       "      <td>4675.000000</td>\n",
       "      <td>4669.000000</td>\n",
       "      <td>4669.000000</td>\n",
       "      <td>4675.000000</td>\n",
       "    </tr>\n",
       "    <tr>\n",
       "      <th>mean</th>\n",
       "      <td>2002.775829</td>\n",
       "      <td>2008.680214</td>\n",
       "      <td>6.683422</td>\n",
       "      <td>185.235382</td>\n",
       "      <td>81.762690</td>\n",
       "      <td>257.860107</td>\n",
       "    </tr>\n",
       "    <tr>\n",
       "      <th>std</th>\n",
       "      <td>10.960944</td>\n",
       "      <td>9.507479</td>\n",
       "      <td>11.476674</td>\n",
       "      <td>5.297255</td>\n",
       "      <td>23.969145</td>\n",
       "      <td>313.641730</td>\n",
       "    </tr>\n",
       "    <tr>\n",
       "      <th>min</th>\n",
       "      <td>1972.000000</td>\n",
       "      <td>1990.000000</td>\n",
       "      <td>0.000000</td>\n",
       "      <td>163.000000</td>\n",
       "      <td>0.000000</td>\n",
       "      <td>0.000000</td>\n",
       "    </tr>\n",
       "    <tr>\n",
       "      <th>25%</th>\n",
       "      <td>1994.000000</td>\n",
       "      <td>2001.000000</td>\n",
       "      <td>0.000000</td>\n",
       "      <td>183.000000</td>\n",
       "      <td>83.000000</td>\n",
       "      <td>17.000000</td>\n",
       "    </tr>\n",
       "    <tr>\n",
       "      <th>50%</th>\n",
       "      <td>2003.000000</td>\n",
       "      <td>2010.000000</td>\n",
       "      <td>1.000000</td>\n",
       "      <td>185.000000</td>\n",
       "      <td>88.000000</td>\n",
       "      <td>113.000000</td>\n",
       "    </tr>\n",
       "    <tr>\n",
       "      <th>75%</th>\n",
       "      <td>2012.000000</td>\n",
       "      <td>2018.000000</td>\n",
       "      <td>8.000000</td>\n",
       "      <td>188.000000</td>\n",
       "      <td>92.000000</td>\n",
       "      <td>415.500000</td>\n",
       "    </tr>\n",
       "    <tr>\n",
       "      <th>max</th>\n",
       "      <td>2020.000000</td>\n",
       "      <td>2020.000000</td>\n",
       "      <td>99.000000</td>\n",
       "      <td>206.000000</td>\n",
       "      <td>99.000000</td>\n",
       "      <td>1733.000000</td>\n",
       "    </tr>\n",
       "  </tbody>\n",
       "</table>\n",
       "</div>"
      ],
      "text/plain": [
       "        year_start  year_finish  injuries_found    height_cm    weight_kg  \\\n",
       "count  4675.000000  4675.000000     4675.000000  4669.000000  4669.000000   \n",
       "mean   2002.775829  2008.680214        6.683422   185.235382    81.762690   \n",
       "std      10.960944     9.507479       11.476674     5.297255    23.969145   \n",
       "min    1972.000000  1990.000000        0.000000   163.000000     0.000000   \n",
       "25%    1994.000000  2001.000000        0.000000   183.000000    83.000000   \n",
       "50%    2003.000000  2010.000000        1.000000   185.000000    88.000000   \n",
       "75%    2012.000000  2018.000000        8.000000   188.000000    92.000000   \n",
       "max    2020.000000  2020.000000       99.000000   206.000000    99.000000   \n",
       "\n",
       "       total_games  \n",
       "count  4675.000000  \n",
       "mean    257.860107  \n",
       "std     313.641730  \n",
       "min       0.000000  \n",
       "25%      17.000000  \n",
       "50%     113.000000  \n",
       "75%     415.500000  \n",
       "max    1733.000000  "
      ]
     },
     "execution_count": 35,
     "metadata": {},
     "output_type": "execute_result"
    }
   ],
   "source": [
    "players.describe()"
   ]
  },
  {
   "cell_type": "markdown",
   "metadata": {},
   "source": [
    "<h2>Wipe Database first</h2>\n",
    "<p>Since we're building the db from scratch here</p>"
   ]
  },
  {
   "cell_type": "code",
   "execution_count": 50,
   "metadata": {},
   "outputs": [],
   "source": [
    "tables = show_tables() #gets the tables in the db\n",
    "with sqlite3.connect(DB) as conn:\n",
    "    for row,data in tables.iterrows():\n",
    "        run_command(\"DROP TABLE IF EXISTS {}\".format(tables.loc[row,'name'])) #clear DB of existing tables"
   ]
  },
  {
   "cell_type": "markdown",
   "metadata": {},
   "source": [
    "<h3>Enter Team Data</h3>"
   ]
  },
  {
   "cell_type": "code",
   "execution_count": 51,
   "metadata": {},
   "outputs": [],
   "source": [
    "#make a new table with the appropriate keys\n",
    "c1 = \"\"\"\n",
    "    CREATE TABLE IF NOT EXISTS team_list (\n",
    "    team_abbr TEXT PRIMARY KEY,\n",
    "    team_name TEXT,\n",
    "    years_active TEXT,\n",
    "    city TEXT,\n",
    "    latitude REAL,\n",
    "    longitude REAL,\n",
    "    timezone INTEGER\n",
    ");\n",
    "\"\"\"\n",
    "run_command(c1)\n",
    "\n",
    "#inject data into the table\n",
    "teams.to_sql('team_list',con=sqlite3.connect(DB), if_exists='append')"
   ]
  },
  {
   "cell_type": "markdown",
   "metadata": {},
   "source": [
    "<h3>Enter Player Data</h3>"
   ]
  },
  {
   "cell_type": "code",
   "execution_count": null,
   "metadata": {},
   "outputs": [],
   "source": [
    "#make a new table with the appropriate keys\n",
    "c1 = \"\"\"\n",
    "    CREATE TABLE IF NOT EXISTS player_list (\n",
    "    unique_id TEXT PRIMARY KEY,\n",
    "    player TEXT,\n",
    "    year_start INTEGER,\n",
    "    year_finish INTEGER,\n",
    "    position TEXT,\n",
    "    height_cm INTEGER,\n",
    "    weight_cm INTEGER\n",
    ");\n",
    "\"\"\"\n",
    "\n",
    "run_command(c1)\n",
    "\n",
    "#inject data into the table\n",
    "players[[]].to_sql('player_list',con=sqlite3.connect(DB), if_exists='append')"
   ]
  },
  {
   "cell_type": "code",
   "execution_count": null,
   "metadata": {},
   "outputs": [],
   "source": [
    "run_command(\"DROP TABLE teams\")\n",
    "run_command(\"DROP TABLE team_list\")"
   ]
  },
  {
   "cell_type": "code",
   "execution_count": null,
   "metadata": {},
   "outputs": [],
   "source": [
    "show_tables()"
   ]
  },
  {
   "cell_type": "code",
   "execution_count": null,
   "metadata": {},
   "outputs": [],
   "source": [
    "run_query(\"SELECT * FROM team_list\")"
   ]
  },
  {
   "cell_type": "code",
   "execution_count": null,
   "metadata": {},
   "outputs": [],
   "source": [
    "<p>.  Create a new </p>\n",
    "\n",
    "#clear DB of existing tables\n",
    "run_command(\"DROP TABLE IF EXISTS {}\".format(name)) "
   ]
  }
 ],
 "metadata": {
  "kernelspec": {
   "display_name": "Python 3",
   "language": "python",
   "name": "python3"
  },
  "language_info": {
   "codemirror_mode": {
    "name": "ipython",
    "version": 3
   },
   "file_extension": ".py",
   "mimetype": "text/x-python",
   "name": "python",
   "nbconvert_exporter": "python",
   "pygments_lexer": "ipython3",
   "version": "3.7.9"
  }
 },
 "nbformat": 4,
 "nbformat_minor": 4
}
