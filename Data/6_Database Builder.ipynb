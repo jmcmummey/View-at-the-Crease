{
 "cells": [
  {
   "cell_type": "markdown",
   "metadata": {},
   "source": [
    "<h1>SQLite Database Creator</h1>\n",
    "<p>This notebook aggreates a range of data collected for the take-a-seat project and converts it into an SQLite database based on the following schema: <img src=\"schema.png\" alt=\"Schema for Database\"></p>\n",
    "<p>The data is converted into csvs, then added into the SQLite .db</p>"
   ]
  },
  {
   "cell_type": "code",
   "execution_count": 1,
   "metadata": {},
   "outputs": [],
   "source": [
    "import pandas as pd\n",
    "import numpy as np\n",
    "import os\n",
    "from datetime import datetime as dt, timedelta\n",
    "from dateutil.relativedelta import *\n",
    "import re\n",
    "from matplotlib import pyplot as plt\n",
    "import sqlite3"
   ]
  },
  {
   "cell_type": "markdown",
   "metadata": {},
   "source": [
    "<h3>SQLite Handling functions</h3>\n",
    "<p>Use Pandas to import dataframe into SQLlite</p>"
   ]
  },
  {
   "cell_type": "code",
   "execution_count": 2,
   "metadata": {},
   "outputs": [],
   "source": [
    "DB = \"hockey_data.db\"\n",
    "\n",
    "#SQL Handle functions\n",
    "def run_query(q):\n",
    "    with sqlite3.connect(DB) as conn:\n",
    "        x = pd.read_sql(q,conn)\n",
    "    return x\n",
    "   \n",
    "#send command\n",
    "def run_command(c):\n",
    "    with sqlite3.connect(DB) as conn:\n",
    "        conn.isolation_level = None\n",
    "        return conn.execute(c)\n",
    "    \n",
    "#show tables\n",
    "def show_tables():\n",
    "    r = \"\"\"\n",
    "    Select name,type\n",
    "    FROM sqlite_master\n",
    "    WHERE type in (\"table\",\"view\");\n",
    "        \"\"\"\n",
    "    return run_query(r)"
   ]
  },
  {
   "cell_type": "markdown",
   "metadata": {},
   "source": [
    "<h2>Import and Clean up csvs</h2>\n",
    "    <p><ul>\n",
    "        <li><b>team_list</b>: This csv gets piped straight into its own table</li>\n",
    "        <li><b>player_list</b>: Only count those players who have played more than 113 games (median no)</li>\n",
    "</ul><p>"
   ]
  },
  {
   "cell_type": "code",
   "execution_count": 3,
   "metadata": {
    "scrolled": false
   },
   "outputs": [
    {
     "data": {
      "text/html": [
       "<div>\n",
       "<style scoped>\n",
       "    .dataframe tbody tr th:only-of-type {\n",
       "        vertical-align: middle;\n",
       "    }\n",
       "\n",
       "    .dataframe tbody tr th {\n",
       "        vertical-align: top;\n",
       "    }\n",
       "\n",
       "    .dataframe thead th {\n",
       "        text-align: right;\n",
       "    }\n",
       "</style>\n",
       "<table border=\"1\" class=\"dataframe\">\n",
       "  <thead>\n",
       "    <tr style=\"text-align: right;\">\n",
       "      <th></th>\n",
       "      <th>team_name</th>\n",
       "      <th>years_active</th>\n",
       "      <th>city</th>\n",
       "      <th>latitude</th>\n",
       "      <th>longitude</th>\n",
       "      <th>timezone</th>\n",
       "    </tr>\n",
       "    <tr>\n",
       "      <th>team_abbr</th>\n",
       "      <th></th>\n",
       "      <th></th>\n",
       "      <th></th>\n",
       "      <th></th>\n",
       "      <th></th>\n",
       "      <th></th>\n",
       "    </tr>\n",
       "  </thead>\n",
       "  <tbody>\n",
       "    <tr>\n",
       "      <th>ANA</th>\n",
       "      <td>Anaheim Ducks</td>\n",
       "      <td>2006-2020</td>\n",
       "      <td>Anaheim</td>\n",
       "      <td>33.808</td>\n",
       "      <td>-117.876</td>\n",
       "      <td>-8</td>\n",
       "    </tr>\n",
       "    <tr>\n",
       "      <th>MDA</th>\n",
       "      <td>Mighty Ducks of Anaheim</td>\n",
       "      <td>1993-2006</td>\n",
       "      <td>Anaheim</td>\n",
       "      <td>33.808</td>\n",
       "      <td>-117.876</td>\n",
       "      <td>-8</td>\n",
       "    </tr>\n",
       "    <tr>\n",
       "      <th>ARI</th>\n",
       "      <td>Arizona Coyotes</td>\n",
       "      <td>2014-2020</td>\n",
       "      <td>Glendale</td>\n",
       "      <td>33.532</td>\n",
       "      <td>-112.261</td>\n",
       "      <td>-7</td>\n",
       "    </tr>\n",
       "    <tr>\n",
       "      <th>PHX</th>\n",
       "      <td>Phoenix Coyotes</td>\n",
       "      <td>1996-2014</td>\n",
       "      <td>Glendale</td>\n",
       "      <td>33.532</td>\n",
       "      <td>-112.261</td>\n",
       "      <td>-7</td>\n",
       "    </tr>\n",
       "    <tr>\n",
       "      <th>WIN</th>\n",
       "      <td>Winnipeg Jets</td>\n",
       "      <td>1990-1996</td>\n",
       "      <td>Winnipeg</td>\n",
       "      <td>49.893</td>\n",
       "      <td>-97.144</td>\n",
       "      <td>-6</td>\n",
       "    </tr>\n",
       "  </tbody>\n",
       "</table>\n",
       "</div>"
      ],
      "text/plain": [
       "                         team_name years_active      city  latitude  \\\n",
       "team_abbr                                                             \n",
       "ANA                  Anaheim Ducks    2006-2020   Anaheim    33.808   \n",
       "MDA        Mighty Ducks of Anaheim    1993-2006   Anaheim    33.808   \n",
       "ARI                Arizona Coyotes    2014-2020  Glendale    33.532   \n",
       "PHX                Phoenix Coyotes    1996-2014  Glendale    33.532   \n",
       "WIN                  Winnipeg Jets    1990-1996  Winnipeg    49.893   \n",
       "\n",
       "           longitude  timezone  \n",
       "team_abbr                       \n",
       "ANA         -117.876        -8  \n",
       "MDA         -117.876        -8  \n",
       "ARI         -112.261        -7  \n",
       "PHX         -112.261        -7  \n",
       "WIN          -97.144        -6  "
      ]
     },
     "execution_count": 3,
     "metadata": {},
     "output_type": "execute_result"
    }
   ],
   "source": [
    "#import team list data\n",
    "teams = pd.read_csv('team_list.csv',encoding = \"ISO-8859-1\")\n",
    "teams['longitude'] = teams['longitude'].astype(float)\n",
    "teams.drop(columns=['index'],inplace=True)\n",
    "teams = teams.set_index('team_abbr')\n",
    "teams.head()"
   ]
  },
  {
   "cell_type": "code",
   "execution_count": 4,
   "metadata": {},
   "outputs": [
    {
     "data": {
      "text/html": [
       "<div>\n",
       "<style scoped>\n",
       "    .dataframe tbody tr th:only-of-type {\n",
       "        vertical-align: middle;\n",
       "    }\n",
       "\n",
       "    .dataframe tbody tr th {\n",
       "        vertical-align: top;\n",
       "    }\n",
       "\n",
       "    .dataframe thead th {\n",
       "        text-align: right;\n",
       "    }\n",
       "</style>\n",
       "<table border=\"1\" class=\"dataframe\">\n",
       "  <thead>\n",
       "    <tr style=\"text-align: right;\">\n",
       "      <th></th>\n",
       "      <th>player</th>\n",
       "      <th>year_start</th>\n",
       "      <th>year_finish</th>\n",
       "      <th>position</th>\n",
       "      <th>injuries_found</th>\n",
       "      <th>height_cm</th>\n",
       "      <th>weight_kg</th>\n",
       "      <th>total_games</th>\n",
       "    </tr>\n",
       "    <tr>\n",
       "      <th>unique_id</th>\n",
       "      <th></th>\n",
       "      <th></th>\n",
       "      <th></th>\n",
       "      <th></th>\n",
       "      <th></th>\n",
       "      <th></th>\n",
       "      <th></th>\n",
       "      <th></th>\n",
       "    </tr>\n",
       "  </thead>\n",
       "  <tbody>\n",
       "    <tr>\n",
       "      <th>aebisda01</th>\n",
       "      <td>David Aebischer</td>\n",
       "      <td>2001</td>\n",
       "      <td>2008</td>\n",
       "      <td>G</td>\n",
       "      <td>0.0</td>\n",
       "      <td>185.0</td>\n",
       "      <td>83.0</td>\n",
       "      <td>214.0</td>\n",
       "    </tr>\n",
       "    <tr>\n",
       "      <th>aittosa01</th>\n",
       "      <td>Sami Aittokallio</td>\n",
       "      <td>2013</td>\n",
       "      <td>2014</td>\n",
       "      <td>G</td>\n",
       "      <td>1.0</td>\n",
       "      <td>185.0</td>\n",
       "      <td>78.0</td>\n",
       "      <td>2.0</td>\n",
       "    </tr>\n",
       "    <tr>\n",
       "      <th>allenja01</th>\n",
       "      <td>Jake Allen</td>\n",
       "      <td>2013</td>\n",
       "      <td>2020</td>\n",
       "      <td>G</td>\n",
       "      <td>4.0</td>\n",
       "      <td>188.0</td>\n",
       "      <td>92.0</td>\n",
       "      <td>289.0</td>\n",
       "    </tr>\n",
       "    <tr>\n",
       "      <th>alvesjo01</th>\n",
       "      <td>Jorge Alves</td>\n",
       "      <td>2017</td>\n",
       "      <td>2017</td>\n",
       "      <td>G</td>\n",
       "      <td>0.0</td>\n",
       "      <td>NaN</td>\n",
       "      <td>NaN</td>\n",
       "      <td>1.0</td>\n",
       "    </tr>\n",
       "    <tr>\n",
       "      <th>anderfr01</th>\n",
       "      <td>Frederik Andersen</td>\n",
       "      <td>2014</td>\n",
       "      <td>2020</td>\n",
       "      <td>G</td>\n",
       "      <td>27.0</td>\n",
       "      <td>193.0</td>\n",
       "      <td>104.0</td>\n",
       "      <td>369.0</td>\n",
       "    </tr>\n",
       "  </tbody>\n",
       "</table>\n",
       "</div>"
      ],
      "text/plain": [
       "                      player  year_start  year_finish position  \\\n",
       "unique_id                                                        \n",
       "aebisda01    David Aebischer        2001         2008        G   \n",
       "aittosa01   Sami Aittokallio        2013         2014        G   \n",
       "allenja01         Jake Allen        2013         2020        G   \n",
       "alvesjo01        Jorge Alves        2017         2017        G   \n",
       "anderfr01  Frederik Andersen        2014         2020        G   \n",
       "\n",
       "           injuries_found  height_cm  weight_kg  total_games  \n",
       "unique_id                                                     \n",
       "aebisda01             0.0      185.0       83.0        214.0  \n",
       "aittosa01             1.0      185.0       78.0          2.0  \n",
       "allenja01             4.0      188.0       92.0        289.0  \n",
       "alvesjo01             0.0        NaN        NaN          1.0  \n",
       "anderfr01            27.0      193.0      104.0        369.0  "
      ]
     },
     "execution_count": 4,
     "metadata": {},
     "output_type": "execute_result"
    }
   ],
   "source": [
    "#import player list data\n",
    "players = pd.read_csv('nhlplayerlist_goalieswhwtg.txt','\\t')\n",
    "players.drop(columns=['Unnamed: 0','link','height','weight'],inplace=True)\n",
    "players = players.set_index('unique_id')\n",
    "#sort based ons whether or not there is injury data\n",
    "players.head()"
   ]
  },
  {
   "cell_type": "code",
   "execution_count": 5,
   "metadata": {},
   "outputs": [
    {
     "data": {
      "text/plain": [
       "Text(0.5, 1.0, '')"
      ]
     },
     "execution_count": 5,
     "metadata": {},
     "output_type": "execute_result"
    },
    {
     "data": {
      "image/png": "[encoded data removed]",
      "text/plain": [
       "<Figure size 432x288 with 1 Axes>"
      ]
     },
     "metadata": {
      "needs_background": "light"
     },
     "output_type": "display_data"
    }
   ],
   "source": [
    "plt.plot(players['weight_kg'],players['injuries_found'],'r.')\n",
    "plt.xlabel('No of games')\n",
    "plt.ylabel('No of injuries')\n",
    "plt.title('')"
   ]
  },
  {
   "cell_type": "code",
   "execution_count": 6,
   "metadata": {},
   "outputs": [
    {
     "data": {
      "text/plain": [
       "86.6910229645094"
      ]
     },
     "execution_count": 6,
     "metadata": {},
     "output_type": "execute_result"
    }
   ],
   "source": [
    "players['weight_kg'].mean()"
   ]
  },
  {
   "cell_type": "code",
   "execution_count": 7,
   "metadata": {
    "scrolled": true
   },
   "outputs": [
    {
     "data": {
      "text/plain": [
       "90.2672623883022"
      ]
     },
     "execution_count": 7,
     "metadata": {},
     "output_type": "execute_result"
    }
   ],
   "source": [
    "(players['weight_kg']*players['injuries_found']).sum()/(players['injuries_found']).sum()"
   ]
  },
  {
   "cell_type": "markdown",
   "metadata": {},
   "source": [
    "<h2>Wipe Database first</h2>\n",
    "<p>Since we're building the db from scratch here</p>"
   ]
  },
  {
   "cell_type": "code",
   "execution_count": 8,
   "metadata": {},
   "outputs": [],
   "source": [
    "tables = show_tables() #gets the tables in the db\n",
    "with sqlite3.connect(DB) as conn:\n",
    "    for row,data in tables.iterrows():\n",
    "        run_command(\"DROP TABLE IF EXISTS {}\".format(tables.loc[row,'name'])) #clear DB of existing tables"
   ]
  },
  {
   "cell_type": "markdown",
   "metadata": {},
   "source": [
    "<h3>Enter Team Data</h3>"
   ]
  },
  {
   "cell_type": "code",
   "execution_count": 9,
   "metadata": {},
   "outputs": [],
   "source": [
    "#make a new table with the appropriate keys\n",
    "c1 = \"\"\"\n",
    "    CREATE TABLE IF NOT EXISTS team_list (\n",
    "    team_abbr TEXT PRIMARY KEY,\n",
    "    team_name TEXT,\n",
    "    years_active TEXT,\n",
    "    city TEXT,\n",
    "    latitude REAL,\n",
    "    longitude REAL,\n",
    "    timezone INTEGER\n",
    ");\n",
    "\"\"\"\n",
    "run_command(c1)\n",
    "\n",
    "#inject data into the table\n",
    "teams.to_sql('team_list',con=sqlite3.connect(DB), if_exists='append')"
   ]
  },
  {
   "cell_type": "markdown",
   "metadata": {},
   "source": [
    "<h3>Enter Player Data</h3>"
   ]
  },
  {
   "cell_type": "code",
   "execution_count": 10,
   "metadata": {},
   "outputs": [],
   "source": [
    "#make a new table with the appropriate keys\n",
    "c1 = \"\"\"\n",
    "    CREATE TABLE IF NOT EXISTS player_list (\n",
    "    unique_id TEXT PRIMARY KEY,\n",
    "    player TEXT,\n",
    "    year_start INTEGER,\n",
    "    year_finish INTEGER,\n",
    "    position TEXT,\n",
    "    height_cm INTEGER,\n",
    "    weight_kg INTEGER\n",
    ");\n",
    "\"\"\"\n",
    "\n",
    "run_command(c1)\n",
    "\n",
    "#inject data into the table\n",
    "players[players['total_games']>=113][['player','year_start','year_finish','position','height_cm','weight_kg']].to_sql('player_list',con=sqlite3.connect(DB), if_exists='append')"
   ]
  },
  {
   "cell_type": "code",
   "execution_count": 11,
   "metadata": {},
   "outputs": [
    {
     "ename": "OperationalError",
     "evalue": "no such table: teams",
     "output_type": "error",
     "traceback": [
      "\u001b[1;31m---------------------------------------------------------------------------\u001b[0m",
      "\u001b[1;31mOperationalError\u001b[0m                          Traceback (most recent call last)",
      "\u001b[1;32m<ipython-input-11-5a653fe2f1b0>\u001b[0m in \u001b[0;36m<module>\u001b[1;34m\u001b[0m\n\u001b[1;32m----> 1\u001b[1;33m \u001b[0mrun_command\u001b[0m\u001b[1;33m(\u001b[0m\u001b[1;34m\"DROP TABLE teams\"\u001b[0m\u001b[1;33m)\u001b[0m\u001b[1;33m\u001b[0m\u001b[1;33m\u001b[0m\u001b[0m\n\u001b[0m\u001b[0;32m      2\u001b[0m \u001b[0mrun_command\u001b[0m\u001b[1;33m(\u001b[0m\u001b[1;34m\"DROP TABLE team_list\"\u001b[0m\u001b[1;33m)\u001b[0m\u001b[1;33m\u001b[0m\u001b[1;33m\u001b[0m\u001b[0m\n",
      "\u001b[1;32m<ipython-input-2-bd7fc9205f1b>\u001b[0m in \u001b[0;36mrun_command\u001b[1;34m(c)\u001b[0m\n\u001b[0;32m     11\u001b[0m     \u001b[1;32mwith\u001b[0m \u001b[0msqlite3\u001b[0m\u001b[1;33m.\u001b[0m\u001b[0mconnect\u001b[0m\u001b[1;33m(\u001b[0m\u001b[0mDB\u001b[0m\u001b[1;33m)\u001b[0m \u001b[1;32mas\u001b[0m \u001b[0mconn\u001b[0m\u001b[1;33m:\u001b[0m\u001b[1;33m\u001b[0m\u001b[1;33m\u001b[0m\u001b[0m\n\u001b[0;32m     12\u001b[0m         \u001b[0mconn\u001b[0m\u001b[1;33m.\u001b[0m\u001b[0misolation_level\u001b[0m \u001b[1;33m=\u001b[0m \u001b[1;32mNone\u001b[0m\u001b[1;33m\u001b[0m\u001b[1;33m\u001b[0m\u001b[0m\n\u001b[1;32m---> 13\u001b[1;33m         \u001b[1;32mreturn\u001b[0m \u001b[0mconn\u001b[0m\u001b[1;33m.\u001b[0m\u001b[0mexecute\u001b[0m\u001b[1;33m(\u001b[0m\u001b[0mc\u001b[0m\u001b[1;33m)\u001b[0m\u001b[1;33m\u001b[0m\u001b[1;33m\u001b[0m\u001b[0m\n\u001b[0m\u001b[0;32m     14\u001b[0m \u001b[1;33m\u001b[0m\u001b[0m\n\u001b[0;32m     15\u001b[0m \u001b[1;31m#show tables\u001b[0m\u001b[1;33m\u001b[0m\u001b[1;33m\u001b[0m\u001b[1;33m\u001b[0m\u001b[0m\n",
      "\u001b[1;31mOperationalError\u001b[0m: no such table: teams"
     ]
    }
   ],
   "source": [
    "run_command(\"DROP TABLE teams\")\n",
    "run_command(\"DROP TABLE team_list\")"
   ]
  },
  {
   "cell_type": "code",
   "execution_count": 81,
   "metadata": {},
   "outputs": [
    {
     "data": {
      "text/html": [
       "<div>\n",
       "<style scoped>\n",
       "    .dataframe tbody tr th:only-of-type {\n",
       "        vertical-align: middle;\n",
       "    }\n",
       "\n",
       "    .dataframe tbody tr th {\n",
       "        vertical-align: top;\n",
       "    }\n",
       "\n",
       "    .dataframe thead th {\n",
       "        text-align: right;\n",
       "    }\n",
       "</style>\n",
       "<table border=\"1\" class=\"dataframe\">\n",
       "  <thead>\n",
       "    <tr style=\"text-align: right;\">\n",
       "      <th></th>\n",
       "      <th>name</th>\n",
       "      <th>type</th>\n",
       "    </tr>\n",
       "  </thead>\n",
       "  <tbody>\n",
       "    <tr>\n",
       "      <th>0</th>\n",
       "      <td>team_list</td>\n",
       "      <td>table</td>\n",
       "    </tr>\n",
       "    <tr>\n",
       "      <th>1</th>\n",
       "      <td>player_list</td>\n",
       "      <td>table</td>\n",
       "    </tr>\n",
       "  </tbody>\n",
       "</table>\n",
       "</div>"
      ],
      "text/plain": [
       "          name   type\n",
       "0    team_list  table\n",
       "1  player_list  table"
      ]
     },
     "execution_count": 81,
     "metadata": {},
     "output_type": "execute_result"
    }
   ],
   "source": [
    "show_tables()"
   ]
  },
  {
   "cell_type": "code",
   "execution_count": 82,
   "metadata": {},
   "outputs": [
    {
     "data": {
      "text/html": [
       "<div>\n",
       "<style scoped>\n",
       "    .dataframe tbody tr th:only-of-type {\n",
       "        vertical-align: middle;\n",
       "    }\n",
       "\n",
       "    .dataframe tbody tr th {\n",
       "        vertical-align: top;\n",
       "    }\n",
       "\n",
       "    .dataframe thead th {\n",
       "        text-align: right;\n",
       "    }\n",
       "</style>\n",
       "<table border=\"1\" class=\"dataframe\">\n",
       "  <thead>\n",
       "    <tr style=\"text-align: right;\">\n",
       "      <th></th>\n",
       "      <th>unique_id</th>\n",
       "      <th>player</th>\n",
       "      <th>year_start</th>\n",
       "      <th>year_finish</th>\n",
       "      <th>position</th>\n",
       "      <th>height_cm</th>\n",
       "      <th>weight_kg</th>\n",
       "    </tr>\n",
       "  </thead>\n",
       "  <tbody>\n",
       "    <tr>\n",
       "      <th>0</th>\n",
       "      <td>aaltoan01</td>\n",
       "      <td>Antti Aalto</td>\n",
       "      <td>1998</td>\n",
       "      <td>2001</td>\n",
       "      <td>F</td>\n",
       "      <td>185</td>\n",
       "      <td>95</td>\n",
       "    </tr>\n",
       "    <tr>\n",
       "      <th>1</th>\n",
       "      <td>abdelju01</td>\n",
       "      <td>Justin Abdelkader</td>\n",
       "      <td>2008</td>\n",
       "      <td>2020</td>\n",
       "      <td>F</td>\n",
       "      <td>188</td>\n",
       "      <td>96</td>\n",
       "    </tr>\n",
       "    <tr>\n",
       "      <th>2</th>\n",
       "      <td>abergpo01</td>\n",
       "      <td>Pontus Aberg</td>\n",
       "      <td>2017</td>\n",
       "      <td>2020</td>\n",
       "      <td>F</td>\n",
       "      <td>180</td>\n",
       "      <td>88</td>\n",
       "    </tr>\n",
       "    <tr>\n",
       "      <th>3</th>\n",
       "      <td>acciano01</td>\n",
       "      <td>Noel Acciari</td>\n",
       "      <td>2016</td>\n",
       "      <td>2020</td>\n",
       "      <td>F</td>\n",
       "      <td>178</td>\n",
       "      <td>92</td>\n",
       "    </tr>\n",
       "    <tr>\n",
       "      <th>4</th>\n",
       "      <td>actonke01</td>\n",
       "      <td>Keith Acton</td>\n",
       "      <td>1980</td>\n",
       "      <td>1994</td>\n",
       "      <td>F</td>\n",
       "      <td>173</td>\n",
       "      <td>77</td>\n",
       "    </tr>\n",
       "    <tr>\n",
       "      <th>...</th>\n",
       "      <td>...</td>\n",
       "      <td>...</td>\n",
       "      <td>...</td>\n",
       "      <td>...</td>\n",
       "      <td>...</td>\n",
       "      <td>...</td>\n",
       "      <td>...</td>\n",
       "    </tr>\n",
       "    <tr>\n",
       "      <th>2334</th>\n",
       "      <td>zubovse01</td>\n",
       "      <td>Sergei Zubov</td>\n",
       "      <td>1993</td>\n",
       "      <td>2009</td>\n",
       "      <td>D</td>\n",
       "      <td>185</td>\n",
       "      <td>89</td>\n",
       "    </tr>\n",
       "    <tr>\n",
       "      <th>2335</th>\n",
       "      <td>zubruda01</td>\n",
       "      <td>Dainius Zubrus</td>\n",
       "      <td>1997</td>\n",
       "      <td>2016</td>\n",
       "      <td>F</td>\n",
       "      <td>196</td>\n",
       "      <td>102</td>\n",
       "    </tr>\n",
       "    <tr>\n",
       "      <th>2336</th>\n",
       "      <td>zuccama01</td>\n",
       "      <td>Mats Zuccarello</td>\n",
       "      <td>2011</td>\n",
       "      <td>2020</td>\n",
       "      <td>F</td>\n",
       "      <td>173</td>\n",
       "      <td>83</td>\n",
       "    </tr>\n",
       "    <tr>\n",
       "      <th>2337</th>\n",
       "      <td>zuckeja01</td>\n",
       "      <td>Jason Zucker</td>\n",
       "      <td>2012</td>\n",
       "      <td>2020</td>\n",
       "      <td>F</td>\n",
       "      <td>180</td>\n",
       "      <td>83</td>\n",
       "    </tr>\n",
       "    <tr>\n",
       "      <th>2338</th>\n",
       "      <td>zyuzian01</td>\n",
       "      <td>Andrei Zyuzin</td>\n",
       "      <td>1998</td>\n",
       "      <td>2008</td>\n",
       "      <td>D</td>\n",
       "      <td>185</td>\n",
       "      <td>94</td>\n",
       "    </tr>\n",
       "  </tbody>\n",
       "</table>\n",
       "<p>2339 rows × 7 columns</p>\n",
       "</div>"
      ],
      "text/plain": [
       "      unique_id             player  year_start  year_finish position  \\\n",
       "0     aaltoan01        Antti Aalto        1998         2001        F   \n",
       "1     abdelju01  Justin Abdelkader        2008         2020        F   \n",
       "2     abergpo01       Pontus Aberg        2017         2020        F   \n",
       "3     acciano01       Noel Acciari        2016         2020        F   \n",
       "4     actonke01        Keith Acton        1980         1994        F   \n",
       "...         ...                ...         ...          ...      ...   \n",
       "2334  zubovse01       Sergei Zubov        1993         2009        D   \n",
       "2335  zubruda01     Dainius Zubrus        1997         2016        F   \n",
       "2336  zuccama01    Mats Zuccarello        2011         2020        F   \n",
       "2337  zuckeja01       Jason Zucker        2012         2020        F   \n",
       "2338  zyuzian01      Andrei Zyuzin        1998         2008        D   \n",
       "\n",
       "      height_cm  weight_kg  \n",
       "0           185         95  \n",
       "1           188         96  \n",
       "2           180         88  \n",
       "3           178         92  \n",
       "4           173         77  \n",
       "...         ...        ...  \n",
       "2334        185         89  \n",
       "2335        196        102  \n",
       "2336        173         83  \n",
       "2337        180         83  \n",
       "2338        185         94  \n",
       "\n",
       "[2339 rows x 7 columns]"
      ]
     },
     "execution_count": 82,
     "metadata": {},
     "output_type": "execute_result"
    }
   ],
   "source": [
    "run_query(\"SELECT * FROM player_list\")"
   ]
  },
  {
   "cell_type": "code",
   "execution_count": null,
   "metadata": {},
   "outputs": [],
   "source": []
  }
 ],
 "metadata": {
  "kernelspec": {
   "display_name": "Python 3",
   "language": "python",
   "name": "python3"
  },
  "language_info": {
   "codemirror_mode": {
    "name": "ipython",
    "version": 3
   },
   "file_extension": ".py",
   "mimetype": "text/x-python",
   "name": "python",
   "nbconvert_exporter": "python",
   "pygments_lexer": "ipython3",
   "version": "3.7.9"
  }
 },
 "nbformat": 4,
 "nbformat_minor": 4
}
