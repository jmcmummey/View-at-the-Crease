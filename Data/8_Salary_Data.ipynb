{
 "cells": [
  {
   "cell_type": "code",
   "execution_count": null,
   "metadata": {},
   "outputs": [],
   "source": []
  },
  {
   "cell_type": "code",
   "execution_count": 86,
   "metadata": {},
   "outputs": [],
   "source": [
    "import pandas as pd\n",
    "import numpy as np\n",
    "import requests as r\n",
    "import re\n",
    "from bs4 import BeautifulSoup as bs\n",
    "import sqlite3\n",
    "\n",
    "pd.set_option('display.max_rows', 50)\n",
    "pd.set_option('display.max_columns', 50)\n",
    "pd.set_option('display.width', 1000)"
   ]
  },
  {
   "cell_type": "markdown",
   "metadata": {},
   "source": [
    "<h3>SQLite Handling functions</h3>\n",
    "<p>Use Pandas to import dataframe into SQLlite</p>"
   ]
  },
  {
   "cell_type": "code",
   "execution_count": 87,
   "metadata": {},
   "outputs": [],
   "source": [
    "DB = \"..\\\\Data\\\\hockey_data_goalies.db\"\n",
    "\n",
    "#SQL Handle functions\n",
    "def run_query(q):\n",
    "    with sqlite3.connect(DB) as conn:\n",
    "        x = pd.read_sql(q,conn)\n",
    "    return x\n",
    "   \n",
    "#send command\n",
    "def run_command(c):\n",
    "    with sqlite3.connect(DB) as conn:\n",
    "        conn.isolation_level = None\n",
    "        return conn.execute(c)\n",
    "    \n",
    "#show tables\n",
    "def show_tables():\n",
    "    r = \"\"\"\n",
    "    Select name,type\n",
    "    FROM sqlite_master\n",
    "    WHERE type in (\"table\",\"view\");\n",
    "        \"\"\"\n",
    "    return run_query(r)"
   ]
  },
  {
   "cell_type": "code",
   "execution_count": 91,
   "metadata": {},
   "outputs": [
    {
     "data": {
      "text/html": [
       "<div>\n",
       "<style scoped>\n",
       "    .dataframe tbody tr th:only-of-type {\n",
       "        vertical-align: middle;\n",
       "    }\n",
       "\n",
       "    .dataframe tbody tr th {\n",
       "        vertical-align: top;\n",
       "    }\n",
       "\n",
       "    .dataframe thead th {\n",
       "        text-align: right;\n",
       "    }\n",
       "</style>\n",
       "<table border=\"1\" class=\"dataframe\">\n",
       "  <thead>\n",
       "    <tr style=\"text-align: right;\">\n",
       "      <th></th>\n",
       "      <th>unique_id</th>\n",
       "      <th>player</th>\n",
       "    </tr>\n",
       "  </thead>\n",
       "  <tbody>\n",
       "    <tr>\n",
       "      <th>0</th>\n",
       "      <td>aebisda01</td>\n",
       "      <td>David Aebischer</td>\n",
       "    </tr>\n",
       "    <tr>\n",
       "      <th>1</th>\n",
       "      <td>allenja01</td>\n",
       "      <td>Jake Allen</td>\n",
       "    </tr>\n",
       "    <tr>\n",
       "      <th>2</th>\n",
       "      <td>anderfr01</td>\n",
       "      <td>Frederik Andersen</td>\n",
       "    </tr>\n",
       "    <tr>\n",
       "      <th>3</th>\n",
       "      <td>andercr01</td>\n",
       "      <td>Craig Anderson</td>\n",
       "    </tr>\n",
       "    <tr>\n",
       "      <th>4</th>\n",
       "      <td>aubinje01</td>\n",
       "      <td>Jean-Sebastien Aubin</td>\n",
       "    </tr>\n",
       "    <tr>\n",
       "      <th>...</th>\n",
       "      <td>...</td>\n",
       "      <td>...</td>\n",
       "    </tr>\n",
       "    <tr>\n",
       "      <th>310</th>\n",
       "      <td>wilkide01</td>\n",
       "      <td>Derek Wilkinson</td>\n",
       "    </tr>\n",
       "    <tr>\n",
       "      <th>311</th>\n",
       "      <td>wreggke01</td>\n",
       "      <td>Ken Wregget</td>\n",
       "    </tr>\n",
       "    <tr>\n",
       "      <th>312</th>\n",
       "      <td>yorkal01</td>\n",
       "      <td>Allen York</td>\n",
       "    </tr>\n",
       "    <tr>\n",
       "      <th>313</th>\n",
       "      <td>youngwe01</td>\n",
       "      <td>Wendell Young</td>\n",
       "    </tr>\n",
       "    <tr>\n",
       "      <th>314</th>\n",
       "      <td>zatkoje01</td>\n",
       "      <td>Jeff Zatkoff</td>\n",
       "    </tr>\n",
       "  </tbody>\n",
       "</table>\n",
       "<p>315 rows × 2 columns</p>\n",
       "</div>"
      ],
      "text/plain": [
       "     unique_id                player\n",
       "0    aebisda01       David Aebischer\n",
       "1    allenja01            Jake Allen\n",
       "2    anderfr01     Frederik Andersen\n",
       "3    andercr01        Craig Anderson\n",
       "4    aubinje01  Jean-Sebastien Aubin\n",
       "..         ...                   ...\n",
       "310  wilkide01       Derek Wilkinson\n",
       "311  wreggke01           Ken Wregget\n",
       "312   yorkal01            Allen York\n",
       "313  youngwe01         Wendell Young\n",
       "314  zatkoje01          Jeff Zatkoff\n",
       "\n",
       "[315 rows x 2 columns]"
      ]
     },
     "execution_count": 91,
     "metadata": {},
     "output_type": "execute_result"
    }
   ],
   "source": [
    "q = 'SELECT unique_id, player FROM player_list'\n",
    "players = run_query(q)\n",
    "players"
   ]
  },
  {
   "cell_type": "code",
   "execution_count": 110,
   "metadata": {},
   "outputs": [],
   "source": [
    "def salary(prenom,surnom):\n",
    "    baseurl = 'http://www.hockeyzoneplus.com'\n",
    "    searchurl = baseurl + '/search-results/filter?q={0}+{1}'.format(prenom,surnom)\n",
    "    \n",
    "    page = r.get(searchurl)\n",
    "    soup = bs(page.text,'html.parser')\n",
    "    link = soup.find_all('a',href=True,itemprop=\"url\")[0]['href']\n",
    "\n",
    "    page2 = r.get(baseurl+link)\n",
    "    soup2 = bs(page2.text,'html.parser')\n",
    "    table = soup2.find_all('div',class_=\"table-container\")\n",
    "\n",
    "    for i,eachrow in enumerate(table[0].find_all('tr')):\n",
    "        columnz = []\n",
    "        if i == 0:\n",
    "            for col in eachrow.find_all('td'):\n",
    "                columnz.append(col.text)\n",
    "            tableDF = pd.DataFrame(columns=columnz)\n",
    "        else:\n",
    "            for col in eachrow.find_all('td'):\n",
    "                columnz.append(col.text)\n",
    "            tableDF = tableDF.append(dict(zip(tableDF.columns,columnz)),ignore_index=True)\n",
    "    tableDF['Salary($US)'] = tableDF['Salary($US)'].str.strip('$').str.replace(',','')        \n",
    "    tableDF = tableDF.dropna(subset=['NHLRank'])\n",
    "\n",
    "    return tableDF.reset_index(drop=True)[:-1].copy()"
   ]
  },
  {
   "cell_type": "code",
   "execution_count": 123,
   "metadata": {},
   "outputs": [
    {
     "name": "stdout",
     "output_type": "stream",
     "text": [
      "Error with Dan Cloutier\n",
      "Error with Scott Fankhouser\n",
      "Error with Jeff Glass\n",
      "Error with Matt Hackett\n",
      "Error with Adin Hill\n",
      "Error with Dieter Kochan\n",
      "Error with Reggie Lemelin\n",
      "Error with Marek Mazanec\n",
      "Error with Sam Montembeault\n",
      "Error with Adam Munro\n",
      "Error with Neill\n",
      "Error with Maxime Ouellet\n",
      "Error with Calvin Petersen\n",
      "Error with Daren Puppa\n",
      "Error with Philippe Sauve\n",
      "Error with Peter Sidorkiewicz\n",
      "Error with Cam Talbot\n",
      "Error with Steve Valiquette\n",
      "Error with Scott Wedgewood\n"
     ]
    }
   ],
   "source": [
    "for i,player in players.iterrows():\n",
    "    name = player['player'].split(' ')\n",
    "    try:\n",
    "        player_wages = salary(name[0],name[1]).iloc[:,:2]\n",
    "    except:\n",
    "        print('Error with %s'%player['player'])\n",
    "    player_wages.columns = ['Season','Salary']\n",
    "    player_wages.iloc[:,:2].to_csv('salaries\\\\'+player['unique_id']+'.csv')"
   ]
  },
  {
   "cell_type": "code",
   "execution_count": 131,
   "metadata": {},
   "outputs": [
    {
     "data": {
      "text/html": [
       "<div>\n",
       "<style scoped>\n",
       "    .dataframe tbody tr th:only-of-type {\n",
       "        vertical-align: middle;\n",
       "    }\n",
       "\n",
       "    .dataframe tbody tr th {\n",
       "        vertical-align: top;\n",
       "    }\n",
       "\n",
       "    .dataframe thead th {\n",
       "        text-align: right;\n",
       "    }\n",
       "</style>\n",
       "<table border=\"1\" class=\"dataframe\">\n",
       "  <thead>\n",
       "    <tr style=\"text-align: right;\">\n",
       "      <th></th>\n",
       "      <th>unique_id</th>\n",
       "      <th>player</th>\n",
       "    </tr>\n",
       "  </thead>\n",
       "  <tbody>\n",
       "    <tr>\n",
       "      <th>0</th>\n",
       "      <td>valiqst01</td>\n",
       "      <td>Steve Valiquette</td>\n",
       "    </tr>\n",
       "  </tbody>\n",
       "</table>\n",
       "</div>"
      ],
      "text/plain": [
       "   unique_id            player\n",
       "0  valiqst01  Steve Valiquette"
      ]
     },
     "execution_count": 131,
     "metadata": {},
     "output_type": "execute_result"
    }
   ],
   "source": [
    "q = 'SELECT unique_id, player FROM player_list WHERE player = \"Calvin Petersen\"'\n",
    "players = run_query(q)\n",
    "players"
   ]
  },
  {
   "cell_type": "code",
   "execution_count": 132,
   "metadata": {},
   "outputs": [],
   "source": [
    "player_wages = salary('Stephen','Valiquette').iloc[:,:2]\n",
    "player_wages.columns = ['Season','Salary']\n",
    "player_wages.iloc[:,:2].to_csv('salaries\\\\'+player['unique_id']+'.csv')"
   ]
  },
  {
   "cell_type": "code",
   "execution_count": null,
   "metadata": {},
   "outputs": [],
   "source": []
  }
 ],
 "metadata": {
  "kernelspec": {
   "display_name": "Python 3",
   "language": "python",
   "name": "python3"
  },
  "language_info": {
   "codemirror_mode": {
    "name": "ipython",
    "version": 3
   },
   "file_extension": ".py",
   "mimetype": "text/x-python",
   "name": "python",
   "nbconvert_exporter": "python",
   "pygments_lexer": "ipython3",
   "version": "3.7.9"
  }
 },
 "nbformat": 4,
 "nbformat_minor": 4
}
