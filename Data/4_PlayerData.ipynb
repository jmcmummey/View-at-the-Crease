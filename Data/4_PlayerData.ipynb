{
 "cells": [
  {
   "cell_type": "markdown",
   "metadata": {},
   "source": [
    "<h1>Get Player Data</h1>\n",
    "<p>Get player weights and heights and total number of games in the nhl</p>"
   ]
  },
  {
   "cell_type": "code",
   "execution_count": 1,
   "metadata": {},
   "outputs": [],
   "source": [
    "import pandas as pd\n",
    "import numpy as np\n",
    "import requests as r\n",
    "import re\n",
    "from bs4 import BeautifulSoup as bs\n",
    "\n",
    "pd.set_option('display.max_rows', 50)\n",
    "pd.set_option('display.max_columns', 50)\n",
    "pd.set_option('display.width', 1000)"
   ]
  },
  {
   "cell_type": "code",
   "execution_count": 2,
   "metadata": {},
   "outputs": [
    {
     "data": {
      "text/html": [
       "<div>\n",
       "<style scoped>\n",
       "    .dataframe tbody tr th:only-of-type {\n",
       "        vertical-align: middle;\n",
       "    }\n",
       "\n",
       "    .dataframe tbody tr th {\n",
       "        vertical-align: top;\n",
       "    }\n",
       "\n",
       "    .dataframe thead th {\n",
       "        text-align: right;\n",
       "    }\n",
       "</style>\n",
       "<table border=\"1\" class=\"dataframe\">\n",
       "  <thead>\n",
       "    <tr style=\"text-align: right;\">\n",
       "      <th></th>\n",
       "      <th>player</th>\n",
       "      <th>unique_id</th>\n",
       "      <th>year_start</th>\n",
       "      <th>year_finish</th>\n",
       "      <th>position</th>\n",
       "      <th>link</th>\n",
       "      <th>injuries_found</th>\n",
       "    </tr>\n",
       "  </thead>\n",
       "  <tbody>\n",
       "    <tr>\n",
       "      <th>0</th>\n",
       "      <td>David Aebischer</td>\n",
       "      <td>aebisda01</td>\n",
       "      <td>2001</td>\n",
       "      <td>2008</td>\n",
       "      <td>G</td>\n",
       "      <td>https://www.hockey-reference.com/players/a/aeb...</td>\n",
       "      <td>0.0</td>\n",
       "    </tr>\n",
       "    <tr>\n",
       "      <th>1</th>\n",
       "      <td>Sami Aittokallio</td>\n",
       "      <td>aittosa01</td>\n",
       "      <td>2013</td>\n",
       "      <td>2014</td>\n",
       "      <td>G</td>\n",
       "      <td>https://www.hockey-reference.com/players/a/ait...</td>\n",
       "      <td>1.0</td>\n",
       "    </tr>\n",
       "    <tr>\n",
       "      <th>2</th>\n",
       "      <td>Jake Allen</td>\n",
       "      <td>allenja01</td>\n",
       "      <td>2013</td>\n",
       "      <td>2020</td>\n",
       "      <td>G</td>\n",
       "      <td>https://www.hockey-reference.com/players/a/all...</td>\n",
       "      <td>4.0</td>\n",
       "    </tr>\n",
       "    <tr>\n",
       "      <th>3</th>\n",
       "      <td>Jorge Alves</td>\n",
       "      <td>alvesjo01</td>\n",
       "      <td>2017</td>\n",
       "      <td>2017</td>\n",
       "      <td>G</td>\n",
       "      <td>https://www.hockey-reference.com/players/a/alv...</td>\n",
       "      <td>0.0</td>\n",
       "    </tr>\n",
       "    <tr>\n",
       "      <th>4</th>\n",
       "      <td>Frederik Andersen</td>\n",
       "      <td>anderfr01</td>\n",
       "      <td>2014</td>\n",
       "      <td>2020</td>\n",
       "      <td>G</td>\n",
       "      <td>https://www.hockey-reference.com/players/a/and...</td>\n",
       "      <td>27.0</td>\n",
       "    </tr>\n",
       "  </tbody>\n",
       "</table>\n",
       "</div>"
      ],
      "text/plain": [
       "              player  unique_id  year_start  year_finish position                                               link  injuries_found\n",
       "0    David Aebischer  aebisda01        2001         2008        G  https://www.hockey-reference.com/players/a/aeb...             0.0\n",
       "1   Sami Aittokallio  aittosa01        2013         2014        G  https://www.hockey-reference.com/players/a/ait...             1.0\n",
       "2         Jake Allen  allenja01        2013         2020        G  https://www.hockey-reference.com/players/a/all...             4.0\n",
       "3        Jorge Alves  alvesjo01        2017         2017        G  https://www.hockey-reference.com/players/a/alv...             0.0\n",
       "4  Frederik Andersen  anderfr01        2014         2020        G  https://www.hockey-reference.com/players/a/and...            27.0"
      ]
     },
     "execution_count": 2,
     "metadata": {},
     "output_type": "execute_result"
    }
   ],
   "source": [
    "#Main Url\n",
    "#import player list from csv and tidy \n",
    "players = pd.read_csv('nhlplayerlist_goalies.txt','\\t')\n",
    "players.drop(columns=['Unnamed: 0'],axis=1,inplace=True)\n",
    "players.head(5)"
   ]
  },
  {
   "cell_type": "markdown",
   "metadata": {},
   "source": [
    "<p>Add columns for height and weight</p>"
   ]
  },
  {
   "cell_type": "code",
   "execution_count": 3,
   "metadata": {},
   "outputs": [
    {
     "name": "stdout",
     "output_type": "stream",
     "text": [
      "Jorge Alves nan nan\n",
      "Cayden Primeau nan nan\n"
     ]
    }
   ],
   "source": [
    "players['height'] = np.nan\n",
    "players['weight'] = np.nan\n",
    "\n",
    "for i,player_link in enumerate(players['link']):\n",
    "    t = r.get(player_link) #searching for hockey players with the surname starting with letter\n",
    "    soup = bs(t.text, 'html.parser').text\n",
    "    \n",
    "    #extract the info from the page\n",
    "    try:\n",
    "        players.loc[i,'height_cm'] = re.search(r'(\\d{3})cm',soup)[1]\n",
    "        players.loc[i,'weight_kg'] = re.search(r'(\\d{2,3})kg',soup)[1]\n",
    "    except: #leave as nan if not found\n",
    "        print(players.loc[i,'player'],players.loc[i,'height_cm'],players.loc[i,'weight_kg'])"
   ]
  },
  {
   "cell_type": "code",
   "execution_count": 4,
   "metadata": {},
   "outputs": [],
   "source": [
    "players['total_games'] = np.nan\n",
    "for row,p in enumerate(players['unique_id']):\n",
    "    t = pd.read_csv('player_gamelogs\\\\'+p+'.txt','\\t')\n",
    "    players.loc[row,'total_games']= t.shape[0]"
   ]
  },
  {
   "cell_type": "code",
   "execution_count": 5,
   "metadata": {},
   "outputs": [],
   "source": [
    "players.to_csv('nhlplayerlist_goalieswhwtg.txt','\\t')"
   ]
  },
  {
   "cell_type": "code",
   "execution_count": null,
   "metadata": {},
   "outputs": [],
   "source": []
  }
 ],
 "metadata": {
  "kernelspec": {
   "display_name": "Python 3",
   "language": "python",
   "name": "python3"
  },
  "language_info": {
   "codemirror_mode": {
    "name": "ipython",
    "version": 3
   },
   "file_extension": ".py",
   "mimetype": "text/x-python",
   "name": "python",
   "nbconvert_exporter": "python",
   "pygments_lexer": "ipython3",
   "version": "3.7.9"
  }
 },
 "nbformat": 4,
 "nbformat_minor": 4
}
