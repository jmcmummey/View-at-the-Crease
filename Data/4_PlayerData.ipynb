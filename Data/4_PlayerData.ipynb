{
 "cells": [
  {
   "cell_type": "markdown",
   "metadata": {},
   "source": [
    "<h1>Get Player Data</h1>\n",
    "<p>Get player weights and heights</p>"
   ]
  },
  {
   "cell_type": "code",
   "execution_count": 2,
   "metadata": {},
   "outputs": [],
   "source": [
    "import pandas as pd\n",
    "import numpy as np\n",
    "import requests as r\n",
    "import re\n",
    "from bs4 import BeautifulSoup as bs\n",
    "\n",
    "pd.set_option('display.max_rows', 50)\n",
    "pd.set_option('display.max_columns', 50)\n",
    "pd.set_option('display.width', 1000)"
   ]
  },
  {
   "cell_type": "code",
   "execution_count": 6,
   "metadata": {},
   "outputs": [
    {
     "data": {
      "text/html": [
       "<div>\n",
       "<style scoped>\n",
       "    .dataframe tbody tr th:only-of-type {\n",
       "        vertical-align: middle;\n",
       "    }\n",
       "\n",
       "    .dataframe tbody tr th {\n",
       "        vertical-align: top;\n",
       "    }\n",
       "\n",
       "    .dataframe thead th {\n",
       "        text-align: right;\n",
       "    }\n",
       "</style>\n",
       "<table border=\"1\" class=\"dataframe\">\n",
       "  <thead>\n",
       "    <tr style=\"text-align: right;\">\n",
       "      <th></th>\n",
       "      <th>player</th>\n",
       "      <th>unique_id</th>\n",
       "      <th>year_start</th>\n",
       "      <th>year_finish</th>\n",
       "      <th>position</th>\n",
       "      <th>link</th>\n",
       "      <th>injuries_found</th>\n",
       "    </tr>\n",
       "  </thead>\n",
       "  <tbody>\n",
       "    <tr>\n",
       "      <th>0</th>\n",
       "      <td>Antti Aalto</td>\n",
       "      <td>aaltoan01</td>\n",
       "      <td>1998</td>\n",
       "      <td>2001</td>\n",
       "      <td>F</td>\n",
       "      <td>https://www.hockey-reference.com/players/a/aal...</td>\n",
       "      <td>0.0</td>\n",
       "    </tr>\n",
       "    <tr>\n",
       "      <th>1</th>\n",
       "      <td>Spencer Abbott</td>\n",
       "      <td>abbotsp01</td>\n",
       "      <td>2014</td>\n",
       "      <td>2017</td>\n",
       "      <td>F</td>\n",
       "      <td>https://www.hockey-reference.com/players/a/abb...</td>\n",
       "      <td>0.0</td>\n",
       "    </tr>\n",
       "    <tr>\n",
       "      <th>2</th>\n",
       "      <td>Justin Abdelkader</td>\n",
       "      <td>abdelju01</td>\n",
       "      <td>2008</td>\n",
       "      <td>2020</td>\n",
       "      <td>F</td>\n",
       "      <td>https://www.hockey-reference.com/players/a/abd...</td>\n",
       "      <td>32.0</td>\n",
       "    </tr>\n",
       "    <tr>\n",
       "      <th>3</th>\n",
       "      <td>Pontus Aberg</td>\n",
       "      <td>abergpo01</td>\n",
       "      <td>2017</td>\n",
       "      <td>2020</td>\n",
       "      <td>F</td>\n",
       "      <td>https://www.hockey-reference.com/players/a/abe...</td>\n",
       "      <td>6.0</td>\n",
       "    </tr>\n",
       "    <tr>\n",
       "      <th>4</th>\n",
       "      <td>Ramzi Abid</td>\n",
       "      <td>abidra01</td>\n",
       "      <td>2003</td>\n",
       "      <td>2007</td>\n",
       "      <td>F</td>\n",
       "      <td>https://www.hockey-reference.com/players/a/abi...</td>\n",
       "      <td>3.0</td>\n",
       "    </tr>\n",
       "  </tbody>\n",
       "</table>\n",
       "</div>"
      ],
      "text/plain": [
       "              player  unique_id  year_start  year_finish position                                               link  injuries_found\n",
       "0        Antti Aalto  aaltoan01        1998         2001        F  https://www.hockey-reference.com/players/a/aal...             0.0\n",
       "1     Spencer Abbott  abbotsp01        2014         2017        F  https://www.hockey-reference.com/players/a/abb...             0.0\n",
       "2  Justin Abdelkader  abdelju01        2008         2020        F  https://www.hockey-reference.com/players/a/abd...            32.0\n",
       "3       Pontus Aberg  abergpo01        2017         2020        F  https://www.hockey-reference.com/players/a/abe...             6.0\n",
       "4         Ramzi Abid   abidra01        2003         2007        F  https://www.hockey-reference.com/players/a/abi...             3.0"
      ]
     },
     "execution_count": 6,
     "metadata": {},
     "output_type": "execute_result"
    }
   ],
   "source": [
    "#Main Url\n",
    "#import player list from csv and tidy \n",
    "players = pd.read_csv('nhlplayerlistr1.txt','\\t')\n",
    "players.drop(columns=['Unnamed: 0'],axis=1,inplace=True)\n",
    "players.head(5)"
   ]
  },
  {
   "cell_type": "markdown",
   "metadata": {},
   "source": [
    "<p>Add columns for height and weight</p>"
   ]
  },
  {
   "cell_type": "code",
   "execution_count": 27,
   "metadata": {},
   "outputs": [
    {
     "name": "stdout",
     "output_type": "stream",
     "text": [
      "Jorge Alves nan nan\n",
      "Michael Anderson nan nan\n",
      "Adam Fox nan nan\n",
      "Cayden Primeau nan nan\n",
      "Nikolai Prokhorkin nan nan\n",
      "Anton Wedin nan nan\n"
     ]
    }
   ],
   "source": [
    "players['height'] = np.nan\n",
    "players['weight'] = np.nan\n",
    "\n",
    "for i,player_link in enumerate(players['link']):\n",
    "    t = r.get(player_link) #searching for hockey players with the surname starting with letter\n",
    "    soup = bs(t.text, 'html.parser').text\n",
    "    \n",
    "    #extract the info from the page\n",
    "    try:\n",
    "        players.loc[i,'height_cm'] = re.search(r'(\\d{3})cm',soup)[1]\n",
    "        players.loc[i,'weight_kg'] = re.search(r'(\\d{2})kg',soup)[1]\n",
    "    except: #leave as nan if not found\n",
    "        print(players.loc[i,'player'],players.loc[i,'height_cm'],players.loc[i,'weight_kg'])"
   ]
  },
  {
   "cell_type": "code",
   "execution_count": 26,
   "metadata": {},
   "outputs": [
    {
     "data": {
      "text/plain": [
       "'https://www.hockey-reference.com/players/a/alvesjo01.html'"
      ]
     },
     "execution_count": 26,
     "metadata": {},
     "output_type": "execute_result"
    }
   ],
   "source": [
    "players.to_csv('nhlplayerlistr2.txt','\\t')"
   ]
  }
 ],
 "metadata": {
  "kernelspec": {
   "display_name": "Python 3",
   "language": "python",
   "name": "python3"
  },
  "language_info": {
   "codemirror_mode": {
    "name": "ipython",
    "version": 3
   },
   "file_extension": ".py",
   "mimetype": "text/x-python",
   "name": "python",
   "nbconvert_exporter": "python",
   "pygments_lexer": "ipython3",
   "version": "3.7.9"
  }
 },
 "nbformat": 4,
 "nbformat_minor": 4
}
