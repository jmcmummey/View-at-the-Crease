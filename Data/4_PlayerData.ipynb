{
 "cells": [
  {
   "cell_type": "markdown",
   "metadata": {},
   "source": [
    "<h1>Get Player Data</h1>\n",
    "<p>Get player weights and heights and total number of games in the nhl</p>"
   ]
  },
  {
   "cell_type": "code",
   "execution_count": null,
   "metadata": {},
   "outputs": [],
   "source": [
    "import pandas as pd\n",
    "import numpy as np\n",
    "import requests as r\n",
    "import re\n",
    "from bs4 import BeautifulSoup as bs\n",
    "\n",
    "pd.set_option('display.max_rows', 50)\n",
    "pd.set_option('display.max_columns', 50)\n",
    "pd.set_option('display.width', 1000)"
   ]
  },
  {
   "cell_type": "code",
   "execution_count": null,
   "metadata": {},
   "outputs": [],
   "source": [
    "#Main Url\n",
    "#import player list from csv and tidy \n",
    "players = pd.read_csv('nhlplayerlistr1.txt','\\t')\n",
    "players.drop(columns=['Unnamed: 0'],axis=1,inplace=True)\n",
    "players.head(5)"
   ]
  },
  {
   "cell_type": "markdown",
   "metadata": {},
   "source": [
    "<p>Add columns for height and weight</p>"
   ]
  },
  {
   "cell_type": "code",
   "execution_count": 6,
   "metadata": {},
   "outputs": [
    {
     "name": "stdout",
     "output_type": "stream",
     "text": [
      "Jorge Alves nan nan\n",
      "Michael Anderson nan nan\n",
      "Adam Fox nan nan\n",
      "Cayden Primeau nan nan\n",
      "Nikolai Prokhorkin nan nan\n",
      "Anton Wedin nan nan\n"
     ]
    }
   ],
   "source": [
    "players['height'] = np.nan\n",
    "players['weight'] = np.nan\n",
    "\n",
    "for i,player_link in enumerate(players['link']):\n",
    "    t = r.get(player_link) #searching for hockey players with the surname starting with letter\n",
    "    soup = bs(t.text, 'html.parser').text\n",
    "    \n",
    "    #extract the info from the page\n",
    "    try:\n",
    "        players.loc[i,'height_cm'] = re.search(r'(\\d{3})cm',soup)[1]\n",
    "        players.loc[i,'weight_kg'] = re.search(r'(\\d{2,3})kg',soup)[1]\n",
    "    except: #leave as nan if not found\n",
    "        print(players.loc[i,'player'],players.loc[i,'height_cm'],players.loc[i,'weight_kg'])"
   ]
  },
  {
   "cell_type": "code",
   "execution_count": 7,
   "metadata": {},
   "outputs": [],
   "source": [
    "players['total_games'] = np.nan\n",
    "for row,p in enumerate(players['unique_id']):\n",
    "    t = pd.read_csv('player_gamelogs\\\\'+p+'.txt','\\t')\n",
    "    players.loc[row,'total_games']= t.shape[0]"
   ]
  },
  {
   "cell_type": "code",
   "execution_count": 8,
   "metadata": {},
   "outputs": [],
   "source": [
    "players.to_csv('nhlplayerlistr3.txt','\\t')"
   ]
  },
  {
   "cell_type": "code",
   "execution_count": null,
   "metadata": {},
   "outputs": [],
   "source": []
  }
 ],
 "metadata": {
  "kernelspec": {
   "display_name": "Python 3",
   "language": "python",
   "name": "python3"
  },
  "language_info": {
   "codemirror_mode": {
    "name": "ipython",
    "version": 3
   },
   "file_extension": ".py",
   "mimetype": "text/x-python",
   "name": "python",
   "nbconvert_exporter": "python",
   "pygments_lexer": "ipython3",
   "version": "3.7.9"
  }
 },
 "nbformat": 4,
 "nbformat_minor": 4
}
