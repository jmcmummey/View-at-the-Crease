{
 "cells": [
  {
   "cell_type": "code",
   "execution_count": 69,
   "metadata": {},
   "outputs": [],
   "source": [
    "import pandas as pd\n",
    "import numpy as np\n",
    "import sqlite3\n",
    "from datetime import datetime as dt, timedelta\n",
    "from dateutil.relativedelta import *\n",
    "import re"
   ]
  },
  {
   "cell_type": "markdown",
   "metadata": {},
   "source": [
    "Give the team, the year and the game #, get the team stats including:\n",
    "<ul>\n",
    "    <li>Record to date for the team and their opponent</li>\n",
    "    <li>Outcomes of last 5 contests - inlcuding previous year</li>\n",
    "    <li>Outcomes of last 5 contests for each team</li>\n",
    "</ul>"
   ]
  },
  {
   "cell_type": "markdown",
   "metadata": {},
   "source": [
    "<h3>SQLite Handling functions</h3>\n",
    "<p>Use Pandas to import dataframe into SQLlite</p>"
   ]
  },
  {
   "cell_type": "code",
   "execution_count": 70,
   "metadata": {},
   "outputs": [],
   "source": [
    "DB = \"..\\\\Data\\\\hockey_data_goalies.db\"\n",
    "\n",
    "#SQL Handle functions\n",
    "def run_query(q):\n",
    "    with sqlite3.connect(DB) as conn:\n",
    "        x = pd.read_sql(q,conn)\n",
    "    return x\n",
    "   \n",
    "#send command\n",
    "def run_command(c):\n",
    "    with sqlite3.connect(DB) as conn:\n",
    "        conn.isolation_level = None\n",
    "        return conn.execute(c)\n",
    "    \n",
    "#show tables\n",
    "def show_tables():\n",
    "    r = \"\"\"\n",
    "    Select name,type\n",
    "    FROM sqlite_master\n",
    "    WHERE type in (\"table\",\"view\");\n",
    "        \"\"\"\n",
    "    return run_query(r)"
   ]
  },
  {
   "cell_type": "markdown",
   "metadata": {},
   "source": [
    "Statistic functions"
   ]
  },
  {
   "cell_type": "code",
   "execution_count": 71,
   "metadata": {},
   "outputs": [],
   "source": [
    "def sos_calc(year,game_no,nme,wind=[0]):\n",
    "    \"\"\"\n",
    "        CALCULATES THE SOS FOR THE TEAM entered faced before a given date\n",
    "    INPUT:\n",
    "        year: the current season (YYYY-YYYY+1)\n",
    "        game_no: the game_no for the current game previous games are [0-game_no-1]\n",
    "        nme: the team abbr to calculate the SOS for\n",
    "        wind: optional window to calc for\n",
    "        RETURN:\n",
    "        sos: the computed sos statistics sum(no_times_faced*(goalsfor-goalsagainst)/no_games)/no_games\n",
    "    \"\"\"\n",
    "    \n",
    "    sos = 0\n",
    "    \n",
    "    #get the details on the game\n",
    "    q = (\"\"\"SELECT * \n",
    "            FROM team_log \n",
    "            WHERE team_id=\\\"{0}\\\"\n",
    "            AND (CAST(SUBSTR(date_game,1,4) AS FLOAT)+CAST(SUBSTR(date_game,6,7) AS FLOAT)/12) > {1}\n",
    "            AND (CAST(SUBSTR(date_game,1,4) AS FLOAT)+CAST(SUBSTR(date_game,6,7) AS FLOAT)/12) < {2}\n",
    "            \"\"\".format(nme,int(year) + .66,int(year)+1.66))\n",
    "    games = run_query(q)\n",
    "    games['date_game'] = games['date_game'].astype('datetime64')\n",
    "    \n",
    "    gamedate = games.at[game_no,'date_game']\n",
    "\n",
    "    if game_no>0:\n",
    "        #list of teams faced to date (and number of times)\n",
    "        if len(wind) ==1:\n",
    "            teams_faced = games.loc[games['date_game']<gamedate,'opp_name'].value_counts()\n",
    "        else:\n",
    "            teams_faced = games.loc[wind,'opp_name'].value_counts()\n",
    "       \n",
    "        #get list of games played in the league that season up until the gameday\n",
    "        q = (\"\"\"SELECT * \n",
    "                FROM team_log \n",
    "                WHERE (CAST(SUBSTR(date_game,1,4) AS FLOAT)+CAST(SUBSTR(date_game,6,7) AS FLOAT)/12) > {1}\n",
    "                AND (CAST(SUBSTR(date_game,1,4) AS FLOAT)+CAST(SUBSTR(date_game,6,7) AS FLOAT)/12) < {2}\n",
    "                \"\"\".format(nme,int(year) + .66,int(year)+1.66))\n",
    "        temp_games = run_query(q)\n",
    "        temp_games['date_game'] = temp_games['date_game'].astype('datetime64')\n",
    "\n",
    "        #calculate statistics for each team\n",
    "        goals = temp_games[temp_games['date_game']<gamedate].groupby('team_id').agg([sum,'count'])\n",
    "\n",
    "        diff = (goals['goals']['sum']-goals['opp_goals']['sum'])/goals['goals']['count'] #calculates metric for all teams to date\n",
    "\n",
    "        for eachteam in teams_faced.index:\n",
    "            #get team_abbr\n",
    "\n",
    "            q = '''SELECT team_abbr FROM team_list WHERE team_name=\\\"{0}\\\" AND CAST(SUBSTR(years_active,6,9) AS INT)>{1}'''.format(eachteam,int(year))\n",
    "            nme = (run_query(q)['team_abbr'].values)[0]\n",
    "            sos = sos + teams_faced[eachteam]*diff[nme]\n",
    "        if len(wind) == 1:\n",
    "            return sos/game_no\n",
    "        else:\n",
    "            return sos/wind.sum()\n",
    "    else:\n",
    "        return 0\n",
    "    \n",
    "def team_stat_gen(team_value,year_value,game_value):\n",
    "    \"\"\"\n",
    "        Generates team based statistics for the season (and the last 3 weeks) upto the selected game\n",
    "        INPUT:\n",
    "            team_value: The team abbr\n",
    "            year_value: The season in question where year is YYYY:YYYY+1\n",
    "            game_value: The game_no for the current game previous games are [0-game_no-1] # must be more than 10\n",
    "        OUTPUT:\n",
    "            returns a data series of team stats\n",
    "    \"\"\"\n",
    "    #get the details on the game\n",
    "    q = (\"\"\"SELECT * \n",
    "            FROM team_log \n",
    "            WHERE team_id=\\\"{0}\\\"\n",
    "            AND (CAST(SUBSTR(date_game,1,4) AS FLOAT)+CAST(SUBSTR(date_game,6,7) AS FLOAT)/12) > {1}\n",
    "            AND (CAST(SUBSTR(date_game,1,4) AS FLOAT)+CAST(SUBSTR(date_game,6,7) AS FLOAT)/12) < {2}\n",
    "            \"\"\".format(team_value,int(year_value) + .66,int(year_value)+1.66))\n",
    "    game_details = run_query(q)\n",
    "    game_details['date_game'] = game_details['date_game'].astype('datetime64')\n",
    "    try:\n",
    "        game_date = game_details.at[game_value,'date_game']\n",
    "    except:\n",
    "        print(game_details,team_value,year_value,game_value)\n",
    "        \n",
    "    rest_days = game_date-game_details.at[game_value-1,'date_game']\n",
    "\n",
    "    #team stats up to this point of the season (basic stats)\n",
    "    cum_total = game_details.loc[game_details.index<game_value,['goals','opp_goals','shots','shots_against']].sum()\n",
    "    games = (game_details.loc[game_details.index<game_value,'game_outcome']=='W').count() \n",
    "    wins = (game_details.loc[game_details.index<game_value,'game_outcome']=='W').sum()\n",
    "    losses = (game_details.loc[game_details.index<game_value,'game_outcome']=='L').sum()\n",
    "    ties = (game_details.loc[game_details.index<game_value,'game_outcome']=='T').sum()\n",
    "    otl = ((game_details.loc[game_details.index<game_value,'game_outcome']=='L')&(game_details['overtimes'].notnull())).sum()\n",
    "    points = wins*2+ties+otl\n",
    "    points_pct = np.round(points/(2*games),3)\n",
    "    sos = sos_calc(year_value,game_value,team_value) #strength of schedule higher is tougher\n",
    "    srs = (cum_total['goals']-cum_total['opp_goals'])/games+sos #simple rating system\n",
    "    cum_total = game_details.loc[game_details.index<game_value,['goals','opp_goals','shots','shots_against']].sum()/game_value\n",
    "    basic_stats = [games,wins,losses,ties,otl,points,points_pct,srs,sos]\n",
    "    basic_stats.extend(cum_total)\n",
    "\n",
    "    #team stats last 3 weeks (basic stats)\n",
    "    window = (game_details['date_game']<game_date)&(game_details['date_game']>(game_date-timedelta(21)))\n",
    "    rec_game_details = game_details.loc[window]\n",
    "    rgames = (rec_game_details['game_outcome']=='W').count() \n",
    "    rwins = (rec_game_details['game_outcome']=='W').sum()\n",
    "    rlosses = (rec_game_details['game_outcome']=='L').sum()\n",
    "    rties = (rec_game_details['game_outcome']=='T').sum()\n",
    "    rotl = ((rec_game_details['game_outcome']=='L')&(rec_game_details['overtimes'].notnull())).sum()\n",
    "    rpoints = rwins*2+rties+rotl\n",
    "    rpoints_pct = np.round(rpoints/(2*rgames),3)\n",
    "    rcumum = rec_game_details[['goals','opp_goals','shots','shots_against']].sum()\n",
    "    sos_rec = sos_calc(year_value,game_value,team_value,window) #strength of schedule higher is tougher\n",
    "    srs_rec = (rcumum['goals']-rcumum['opp_goals'])/rgames+sos_rec #simple rating system\n",
    "    rcumum_total = rcumum/rgames\n",
    "    recent_stats = [rest_days.days,rgames,rwins,rlosses,rties,rotl,rpoints,rpoints_pct,srs_rec,sos_rec]\n",
    "    recent_stats.extend(list(rcumum_total))\n",
    "\n",
    "    labels = ['total_games','wins','loses','ties','otl','points','point_pct','srs','sos','ave_goals','ave_oppgoals','ave_shots','ave_oppshots','rest_days','recent_games','recent_wins','recent_loses','recent_ties','recent_otl','recent_points','recent_point_pct','recent_srs','recent_sos','recent_ave_goals','recent_ave_oppgoals','recent_ave_shots','recent_ave_oppshots']\n",
    "    all_stats = basic_stats+recent_stats\n",
    "    return pd.Series(all_stats,labels)"
   ]
  },
  {
   "cell_type": "code",
   "execution_count": 72,
   "metadata": {},
   "outputs": [],
   "source": [
    "#inputs\n",
    "team_value = 'ANA'\n",
    "year_value = 2016\n",
    "game_num = 56 # for the team"
   ]
  },
  {
   "cell_type": "markdown",
   "metadata": {},
   "source": [
    "<h2>Get record to date</h2>"
   ]
  },
  {
   "cell_type": "code",
   "execution_count": 73,
   "metadata": {},
   "outputs": [
    {
     "name": "stdout",
     "output_type": "stream",
     "text": [
      "2017-02-11 Anaheim Ducks Washington Capitals WSH 55\n"
     ]
    }
   ],
   "source": [
    "#find the game date\n",
    "q = (\"\"\"SELECT *\n",
    "        FROM team_log \n",
    "        WHERE team_id=\\\"{0}\\\" \n",
    "        AND (CAST(SUBSTR(date_game,1,4) AS FLOAT)+CAST(SUBSTR(date_game,6,7) AS FLOAT)/12) > {1}\n",
    "        AND (CAST(SUBSTR(date_game,1,4) AS FLOAT)+CAST(SUBSTR(date_game,6,7) AS FLOAT)/12) < {2}\n",
    "        AND game_number={3}\"\"\".format(team_value,int(year_value) + .66,int(year_value)+1.66,game_num))\n",
    "game_selected = run_query(q)\n",
    "game_date = game_selected['date_game'].values[0]\n",
    "opp_name =  game_selected['opp_name'].values[0]\n",
    "\n",
    "#get home team name\n",
    "q = \"\"\"SELECT team_name\n",
    "       FROM team_list \n",
    "       WHERE team_abbr=\\\"{0}\\\"\"\"\".format(team_value)\n",
    "team_name = run_query(q).at[0,'team_name']\n",
    "\n",
    "#get opponent abbr\n",
    "q = \"\"\"SELECT * \n",
    "       FROM team_list \n",
    "       WHERE team_name=\\\"{0}\\\" \n",
    "       AND CAST(SUBSTR(years_active,6,9) as INT)>{1}\"\"\".format(opp_name,year_value)\n",
    "opp_abbr = run_query(q).at[0,'team_abbr']\n",
    "\n",
    "#get game # for opponent\n",
    "q = \"\"\"SELECT * \n",
    "       FROM team_log \n",
    "       WHERE team_id=\\\"{0}\\\" \n",
    "       AND date_game=\\\"{1}\\\"\"\"\".format(opp_abbr,game_date)\n",
    "opp_gn = run_query(q).at[0,'game_number']\n",
    "\n",
    "print(game_date,team_name,opp_name,opp_abbr,opp_gn)"
   ]
  },
  {
   "cell_type": "code",
   "execution_count": 75,
   "metadata": {},
   "outputs": [],
   "source": [
    "hometeamstats = team_stat_gen(team_value,year_value,game_num)\n",
    "oppteamstats = team_stat_gen(opp_abbr,year_value,opp_gn)\n",
    "stats = pd.concat((hometeamstats,oppteamstats),axis=1)\n",
    "stats.columns = [team_name,opp_name]\n",
    "statst = stats.transpose().iloc[:,:9]\n",
    "statst.columns = ['Total Games', 'Wins','Loses','Ties','OTL','Points','Point_Pct','SRS','SOS']"
   ]
  },
  {
   "cell_type": "code",
   "execution_count": null,
   "metadata": {},
   "outputs": [],
   "source": [
    "stats"
   ]
  },
  {
   "cell_type": "code",
   "execution_count": null,
   "metadata": {},
   "outputs": [],
   "source": []
  }
 ],
 "metadata": {
  "kernelspec": {
   "display_name": "Python 3",
   "language": "python",
   "name": "python3"
  },
  "language_info": {
   "codemirror_mode": {
    "name": "ipython",
    "version": 3
   },
   "file_extension": ".py",
   "mimetype": "text/x-python",
   "name": "python",
   "nbconvert_exporter": "python",
   "pygments_lexer": "ipython3",
   "version": "3.7.9"
  }
 },
 "nbformat": 4,
 "nbformat_minor": 4
}
