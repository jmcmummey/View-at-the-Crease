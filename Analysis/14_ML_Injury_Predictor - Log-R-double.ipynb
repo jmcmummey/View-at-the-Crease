{
 "cells": [
  {
   "cell_type": "markdown",
   "metadata": {},
   "source": [
    "<h1>Revisiting the ML model to refine the feature set to make the output more meaningful</h1>\n",
    "<p>This notebook looks at factors influencing goalie performance (save percentage) and the injury (via t_tests) implementing them in a Logistic Regression ml model</p>"
   ]
  },
  {
   "cell_type": "code",
   "execution_count": 1,
   "metadata": {},
   "outputs": [],
   "source": [
    "import pandas as pd\n",
    "import numpy as np\n",
    "import os\n",
    "from datetime import datetime as dt, timedelta\n",
    "from dateutil.relativedelta import *\n",
    "import re\n",
    "from matplotlib import pyplot as plt\n",
    "import seaborn as sns\n",
    "from scipy.stats import stats\n",
    "import sqlite3\n",
    "from joblib import dump, load\n",
    "pd.set_option('display.max_rows', 500)"
   ]
  },
  {
   "cell_type": "markdown",
   "metadata": {},
   "source": [
    "<h3>SQLite Handling functions</h3>\n",
    "<p>Use Pandas to import dataframe into SQLlite</p>"
   ]
  },
  {
   "cell_type": "code",
   "execution_count": 2,
   "metadata": {},
   "outputs": [],
   "source": [
    "DB = \"../assests/hockey_data_goalies.db\"\n",
    "\n",
    "#SQL Handle functions\n",
    "def run_query(q):\n",
    "    with sqlite3.connect(DB) as conn:\n",
    "        x = pd.read_sql(q,conn)\n",
    "    return x\n",
    "   \n",
    "#send command\n",
    "def run_command(c):\n",
    "    with sqlite3.connect(DB) as conn:\n",
    "        conn.isolation_level = None\n",
    "        return conn.execute(c)\n",
    "    \n",
    "#show tables\n",
    "def show_tables():\n",
    "    r = \"\"\"\n",
    "    Select name,type\n",
    "    FROM sqlite_master\n",
    "    WHERE type in (\"table\",\"view\");\n",
    "        \"\"\"\n",
    "    return run_query(r)"
   ]
  },
  {
   "cell_type": "code",
   "execution_count": 3,
   "metadata": {},
   "outputs": [],
   "source": [
    "def riskfunc(x):\n",
    "    \"\"\"Estimate the increased risk factor by player playing\n",
    "    \"\"\"\n",
    "    y = x**3+0.37*(x**2)-0.2572*x+0.0118\n",
    "    return np.round(10**y,1)\n",
    "\n",
    "def risk(team_value,year_value,game_date,add_min=0):\n",
    "    #add_min are the additional minutes\n",
    "\n",
    "    #get unique ids\n",
    "    q = (\"\"\"SELECT * \n",
    "        FROM player_log \n",
    "        WHERE team_id=\\\"{0}\\\"\n",
    "        AND (CAST(SUBSTR(date_game,1,4) AS FLOAT)+CAST(SUBSTR(date_game,6,7) AS FLOAT)/12) > {1}\n",
    "        AND date_game < \\\"{2}\\\"\n",
    "        GROUP BY player_id\n",
    "        \"\"\".format(team_value,int(year_value) + .66,game_date))\n",
    "\n",
    "    ids = run_query(q)\n",
    "\n",
    "    #now generate data for season\n",
    "\n",
    "    prodf = pd.DataFrame(columns=['player_id','team_id','opp_id','date_game','age','rest_days','min_season',\n",
    "                                    'shots_against','save_pct','min3W','sa3W','svepct3W','future_save_pct','injured'])\n",
    "    row = 0\n",
    "    for each_id in ids['player_id']:\n",
    "        q = (\"\"\"SELECT * \n",
    "        FROM player_log \n",
    "        WHERE (CAST(SUBSTR(date_game,1,4) AS FLOAT)+CAST(SUBSTR(date_game,6,7) AS FLOAT)/12) > {0}\n",
    "        AND date_game < \\\"{1}\\\"\n",
    "        AND player_id = \\\"{2}\\\"\n",
    "        \"\"\".format(int(year_value) + .66,game_date,each_id))\n",
    "        season_logs = run_query(q)\n",
    "        season_logs['date_game'] = season_logs['date_game'].astype('datetime64') #convert to datetime\n",
    "        season_logs['time_on_ice'] = season_logs['time_on_ice'].str.extract(r'(\\d*)\\:\\d*')[0].astype(int)+season_logs['time_on_ice'].str.extract(r'\\d*\\:(\\d*)')[0].astype(int)/60\n",
    "\n",
    "        for r,game in season_logs[-1:].iterrows():\n",
    "            prodf.loc[row,'player_id'] = season_logs.loc[r,'player_id']\n",
    "            prodf.loc[row,'team_id'] = season_logs.loc[r,'team_id']\n",
    "            prodf.loc[row,'opp_id'] = season_logs.loc[r,'opp_id']\n",
    "            prodf.loc[row,'date_game'] = season_logs.loc[r,'date_game']\n",
    "            prodf.loc[row,'age'] = season_logs.loc[r,'age']\n",
    "            prodf.loc[row,'rest_days'] = (season_logs.loc[r,'date_game']-season_logs.loc[r-1,'date_game']).days+add_min/15\n",
    "            prodf.loc[row,'min_season'] = season_logs.loc[:(r-1),'time_on_ice'].sum()+add_min\n",
    "            prodf.loc[row,'shots_against'] = season_logs.loc[:(r-1),'shots_against'].sum()\n",
    "            prodf.loc[row,'save_pct'] = np.round(season_logs.loc[:(r-1),'saves'].sum()/season_logs.loc[:(r-1),'shots_against'].sum(),3)\n",
    "\n",
    "            window = (season_logs.loc[r,'date_game']>season_logs['date_game'])&(season_logs['date_game']>(season_logs.loc[r,'date_game']-timedelta(21)))\n",
    "\n",
    "            prodf.loc[row,'min3W'] = season_logs.loc[window,'time_on_ice'].sum()-add_min/5\n",
    "            prodf.loc[row,'sa3W'] = season_logs.loc[window ,'shots_against'].sum()\n",
    "            prodf.loc[row,'svepct3W'] = season_logs.loc[window,'saves'].sum()/season_logs.loc[window,'shots_against'].sum()\n",
    "            prodf.loc[row,'injured'] = season_logs.loc[r,'injured']    \n",
    "            prodf.loc[row,'pre_inj'] = season_logs.loc[r,'pre_inj']\n",
    "        row+=1\n",
    "    columns = ['age','min_season','rest_days','shots_against','save_pct','min3W','sa3W','svepct3W']\n",
    "    #columns = ['age','min_season','rest_days','pre_inj']\n",
    "    probs = ml_model.predict_proba(num_pipeline.fit_transform(prodf[columns]))[:,1]\n",
    "    riskfunc(probs)\n",
    "    return dict(zip(ids['player_id'].to_list(),riskfunc(probs)))\n",
    "\n",
    "def games_remaining(team_id,year_value,game_date):\n",
    "    \"\"\"Estimates the minutes remaining in the season (exluding overtimes)\"\"\"\n",
    "    #get all the games for the team that season\n",
    "    q = (\"\"\"SELECT * \n",
    "        FROM team_log \n",
    "        WHERE (CAST(SUBSTR(date_game,1,4) AS FLOAT)+CAST(SUBSTR(date_game,6,7) AS FLOAT)/12) < {0}\n",
    "        AND date_game >=  \\\"{1}\\\"\n",
    "        AND team_id = \\\"{2}\\\"\n",
    "        \"\"\".format(int(year_value) + 1.66,game_date,team_id))\n",
    "    team_logs = run_query(q)\n",
    "    \n",
    "    return team_logs.shape[0]*60,team_logs"
   ]
  },
  {
   "cell_type": "markdown",
   "metadata": {},
   "source": [
    "<h2>First look at how the existing model behaves with time</h2>"
   ]
  },
  {
   "cell_type": "code",
   "execution_count": 4,
   "metadata": {},
   "outputs": [],
   "source": [
    "#import data\n",
    "goalie_data =pd.read_csv('advancedgoaliestats_withadditionalgoalies.csv')\n",
    "goalie_data.drop(columns=['Unnamed: 0'],inplace=True)\n",
    "gd_players = goalie_data.groupby('player_id').max()\n",
    "#get list of players with one reported injury\n",
    "player_inj_list = gd_players[gd_players['injured']==1].index\n",
    "goalie_data_inj = pd.DataFrame(columns=goalie_data.columns)\n",
    "#train model on players from this list\n",
    "for players in player_inj_list:\n",
    "    goalie_data_inj = goalie_data_inj.append(goalie_data[goalie_data['player_id']==players].copy())\n",
    "goalie_data_inj[['rest_days','shots_against','sa3W','pre_inj','injured']] = goalie_data_inj[['rest_days','shots_against','sa3W','pre_inj','injured']].astype(int)\n",
    "#goalie_data_inj.loc[goalie_data_inj['pre_inj']>=1,'pre_inj'] = 1\n"
   ]
  },
  {
   "cell_type": "code",
   "execution_count": 21,
   "metadata": {},
   "outputs": [],
   "source": [
    "from sklearn.metrics import mean_squared_error as mse\n",
    "from sklearn.model_selection import cross_validate as CV\n",
    "from sklearn.pipeline import Pipeline\n",
    "from sklearn.preprocessing import StandardScaler\n",
    "from sklearn.preprocessing import OneHotEncoder\n",
    "from sklearn.linear_model import LinearRegression\n",
    "from sklearn.ensemble import RandomForestClassifier\n",
    "from sklearn.model_selection import cross_val_predict\n",
    "from sklearn.model_selection import cross_val_score\n",
    "from sklearn.metrics import roc_curve\n",
    "from sklearn.metrics import precision_recall_curve\n",
    "from sklearn.metrics import roc_auc_score\n",
    "from sklearn.metrics import confusion_matrix\n",
    "from sklearn.linear_model import LogisticRegression\n",
    "from sklearn.model_selection import RepeatedStratifiedKFold\n",
    "\n",
    "from imblearn.pipeline import Pipeline\n",
    "from imblearn.over_sampling import SMOTE\n",
    "from imblearn.under_sampling import RandomUnderSampler\n",
    "from joblib import dump, load"
   ]
  },
  {
   "cell_type": "markdown",
   "metadata": {},
   "source": [
    "<h2>Now Fit</h2>"
   ]
  },
  {
   "cell_type": "code",
   "execution_count": 22,
   "metadata": {
    "scrolled": false
   },
   "outputs": [
    {
     "name": "stdout",
     "output_type": "stream",
     "text": [
      "Precision is 0.63\n",
      "Recall is 0.53\n"
     ]
    },
    {
     "data": {
      "text/plain": [
       "array([[477, 329],\n",
       "       [218, 366]], dtype=int64)"
      ]
     },
     "execution_count": 22,
     "metadata": {},
     "output_type": "execute_result"
    }
   ],
   "source": [
    "ml_model = LogisticRegression()\n",
    "b = 1 #balance factor\n",
    "# #randomise the no injury data\n",
    "# no_injury = goalie_data_inj[goalie_data_inj['injured']==0].sample(frac=1)\n",
    "# inj_no = goalie_data_inj[goalie_data_inj['injured']==1].shape[0]\n",
    "# i = 0\n",
    "# data = no_injury.iloc[(i*inj_no):((i+1)*inj_no)]\n",
    "# data = data.append(goalie_data_inj[goalie_data_inj['injured']==1])\n",
    "# mask = (np.random.rand(data.shape[0]) < 0.8)\n",
    "# train = data[mask].sample(frac=1)\n",
    "# test = data[~mask].sample(frac=1)\n",
    "\n",
    "#split data into those with and without injury\n",
    "no_injury = goalie_data_inj[goalie_data_inj['injured']==0].sample(frac=1)\n",
    "injury= goalie_data_inj[goalie_data_inj['injured']==1].sample(frac=1)\n",
    "\n",
    "#split injuries data further\n",
    "mask = (np.random.rand(injury.shape[0]) < 0.8)\n",
    "traininj = injury[mask].sample(frac=1)\n",
    "testinj = injury[~mask].sample(frac=1)\n",
    "\n",
    "#split noinjuries\n",
    "testnoinj = no_injury[:testinj.shape[0]*59]\n",
    "trainnoinj = no_injury[testinj.shape[0]*59:]\n",
    "test = (testinj.append(testnoinj)).sample(frac=1)\n",
    "\n",
    "#now run multiple times with resampling\n",
    "for i in range(25):\n",
    "    #add no injuries\n",
    "    train = trainnoinj.sample(traininj.shape[0])\n",
    "    #add injuries\n",
    "    train = train.append(traininj)\n",
    "    train = train.sample(frac=1) #mix it up\n",
    "\n",
    "    #create pipeline for standard scaling\n",
    "    num_pipeline = Pipeline([('std_scaler',StandardScaler())])\n",
    "    #select columns to fit\n",
    "    columns = ['age','min_season','rest_days','shots_against','save_pct','min3W','sa3W','svepct3W','pre_inj']\n",
    "    #columns = ['pre_inj']\n",
    "    #columns = ['age','min_season','rest_days','pre_inj','save_pct']\n",
    "\n",
    "    #get training data\n",
    "    trainX = num_pipeline.fit_transform(train[columns])\n",
    "    trainY = np.array(train['injured'])\n",
    "    testX = num_pipeline.fit_transform(test[columns])\n",
    "    testY = np.array(test['injured'])\n",
    "    \n",
    "\n",
    "    ml_model.fit(trainX,trainY)\n",
    "\n",
    "#run on training data\n",
    "predicted = ml_model.predict(trainX)\n",
    "true_positives = np.sum((predicted==1)&(trainY==1))\n",
    "false_positives = np.sum((predicted==1)&(trainY==0))\n",
    "true_negatives = np.sum((predicted==0)&(trainY==0))\n",
    "false_negatives = np.sum((predicted==0)&(trainY==1))\n",
    "\n",
    "print(\"Precision is %0.2f\" % (true_positives/(true_positives+false_positives)))\n",
    "print(\"Recall is %0.2f\" % (true_positives/(true_positives+false_negatives)))\n",
    "confusion_matrix(predicted,trainY)"
   ]
  },
  {
   "cell_type": "code",
   "execution_count": 30,
   "metadata": {},
   "outputs": [
    {
     "data": {
      "text/plain": [
       "Ttest_indResult(statistic=-4.747968643163334, pvalue=2.9707887869233927e-06)"
      ]
     },
     "execution_count": 30,
     "metadata": {},
     "output_type": "execute_result"
    }
   ],
   "source": [
    "test['p'] =ml_model.predict_proba(testX)[:,1]\n",
    "stats.ttest_ind(test.loc[test['injured']==0,'p'].sample((test['injured']==1).sum()),test.loc[test['injured']==1,'p'])"
   ]
  },
  {
   "cell_type": "code",
   "execution_count": null,
   "metadata": {},
   "outputs": [],
   "source": []
  },
  {
   "cell_type": "markdown",
   "metadata": {},
   "source": [
    "<h2>Go back to all data</h2>"
   ]
  },
  {
   "cell_type": "code",
   "execution_count": 9,
   "metadata": {},
   "outputs": [],
   "source": [
    "#calculate probabilities for all the data\n",
    "goalie_data_inj.reset_index(drop=True,inplace=True)\n",
    "goalie_data_inj['ml_prob'] = ml_model.predict_proba(num_pipeline.fit_transform(goalie_data_inj[columns]))[:,1]\n",
    "goalie_data_inj['date_game'] = goalie_data_inj['date_game'].astype('datetime64')"
   ]
  },
  {
   "cell_type": "code",
   "execution_count": 10,
   "metadata": {},
   "outputs": [],
   "source": [
    "day_span = 21\n",
    "goalie_data_inj['risk_factor']=0\n",
    "for r in range(goalie_data_inj.shape[0]):\n",
    "    same_player =  goalie_data_inj['player_id']==goalie_data_inj.loc[r,'player_id']  #same player\n",
    "    happened_recently = goalie_data_inj['date_game']>=(goalie_data_inj.loc[r,'date_game']-timedelta(day_span))\n",
    "    not_happened_yet = (goalie_data_inj.loc[r,'date_game']>=goalie_data_inj['date_game'])\n",
    "    window = same_player & happened_recently & not_happened_yet\n",
    "    goalie_data_inj.loc[r,'risk_factor'] = goalie_data_inj.loc[window,'ml_prob'].mean()"
   ]
  },
  {
   "cell_type": "code",
   "execution_count": 19,
   "metadata": {
    "scrolled": false
   },
   "outputs": [
    {
     "name": "stdout",
     "output_type": "stream",
     "text": [
      "Precision is 0.62\n",
      "Recall is 0.53\n"
     ]
    },
    {
     "data": {
      "text/plain": [
       "array([[484, 335],\n",
       "       [226, 375]], dtype=int64)"
      ]
     },
     "execution_count": 19,
     "metadata": {},
     "output_type": "execute_result"
    }
   ],
   "source": [
    "al_model = LogisticRegression()\n",
    "#split data into those with and without injury\n",
    "no_injury = goalie_data_inj[goalie_data_inj['injured']==0].sample(frac=1)\n",
    "injury= goalie_data_inj[goalie_data_inj['injured']==1].sample(frac=1)\n",
    "\n",
    "#split injuries data further\n",
    "mask = (np.random.rand(injury.shape[0]) < 0.8)\n",
    "traininj = injury[mask].sample(frac=1)\n",
    "testinj = injury[~mask].sample(frac=1)\n",
    "\n",
    "#split noinjuries\n",
    "testnoinj = no_injury[:testinj.shape[0]*59]\n",
    "trainnoinj = no_injury[testinj.shape[0]*59:]\n",
    "test = (testinj.append(testnoinj)).sample(frac=1)\n",
    "\n",
    "#now run multiple times with resampling\n",
    "for i in range(25):\n",
    "    #add no injuries\n",
    "    train = trainnoinj.sample(traininj.shape[0])\n",
    "    #add injuries\n",
    "    train = train.append(traininj)\n",
    "    train = train.sample(frac=1) #mix it up\n",
    "\n",
    "    #create pipeline for standard scaling\n",
    "    num_pipeline2 = Pipeline([('std_scaler',StandardScaler())])\n",
    "    #select columns to fit\n",
    "    columns = ['age','min_season','rest_days','shots_against','save_pct','min3W','sa3W','svepct3W','pre_inj','risk_factor']\n",
    "    #columns = ['pre_inj']\n",
    "    #columns = ['age','min_season','rest_days','pre_inj','save_pct']\n",
    "\n",
    "    #get training data\n",
    "    trainX = num_pipeline2.fit_transform(train[columns])\n",
    "    trainY = np.array(train['injured'])\n",
    "\n",
    "    testX = num_pipeline2.fit_transform(test[columns])\n",
    "    testY = np.array(test['injured'])\n",
    "\n",
    "    al_model.fit(trainX,trainY)\n",
    "\n",
    "#run on training data\n",
    "predicted = al_model.predict(trainX)\n",
    "true_positives = np.sum((predicted==1)&(trainY==1))\n",
    "false_positives = np.sum((predicted==1)&(trainY==0))\n",
    "true_negatives = np.sum((predicted==0)&(trainY==0))\n",
    "false_negatives = np.sum((predicted==0)&(trainY==1))\n",
    "\n",
    "print(\"Precision is %0.2f\" % (true_positives/(true_positives+false_positives)))\n",
    "print(\"Recall is %0.2f\" % (true_positives/(true_positives+false_negatives)))\n",
    "confusion_matrix(predicted,trainY)"
   ]
  },
  {
   "cell_type": "code",
   "execution_count": 20,
   "metadata": {},
   "outputs": [
    {
     "name": "stdout",
     "output_type": "stream",
     "text": [
      "Precision is 0.024379\n",
      "Recall is 0.63\n"
     ]
    },
    {
     "data": {
      "image/png": "[encoded data removed]",
      "text/plain": [
       "<Figure size 720x432 with 1 Axes>"
      ]
     },
     "metadata": {
      "needs_background": "light"
     },
     "output_type": "display_data"
    }
   ],
   "source": [
    "#try on test data\n",
    "\n",
    "predicted = al_model.predict(testX)\n",
    "true_positives = np.sum((predicted==1)&(testY==1))\n",
    "false_positives = np.sum((predicted==1)&(testY==0))\n",
    "true_negatives = np.sum((predicted==0)&(testY==0))\n",
    "false_negatives = np.sum((predicted==0)&(testY==1))\n",
    "\n",
    "print(\"Precision is %03f\" % (true_positives/(true_positives+false_positives)))\n",
    "print(\"Recall is %0.2f\" % (true_positives/(true_positives+false_negatives)))\n",
    "confusion_matrix(predicted,testY)\n",
    "\n",
    "fpr,tpr,thresholds = roc_curve(testY,\n",
    "                               al_model.predict_proba(testX)[:,1])\n",
    "plt.figure(figsize=(10,6))\n",
    "plt.plot(fpr,tpr,\"b--\",label=\"Logistic Regression: AUC=%0.3f\"%(roc_auc_score(testY,al_model.predict_proba(testX)[:,1])))\n",
    "#plt.plot(thresholds,recall[:-1],\"g-\",label=\"recall\")\n",
    "plt.legend(fontsize=16)\n",
    "plt.xlabel('False Positive Rate',font='Garamond',fontsize=25)\n",
    "plt.ylabel('True Positive Rate',font='Garamond',fontsize=25)\n",
    "plt.gca().tick_params(axis='both', which='major', labelsize=12)\n",
    "plt.title('ROC for the Test Data',font='Garamond',fontsize=32,pad = 15)\n",
    "plt.savefig('ROCfortheTestData_LogR.png')\n",
    "plt.show()"
   ]
  },
  {
   "cell_type": "code",
   "execution_count": null,
   "metadata": {},
   "outputs": [],
   "source": []
  }
 ],
 "metadata": {
  "kernelspec": {
   "display_name": "Python 3",
   "language": "python",
   "name": "python3"
  },
  "language_info": {
   "codemirror_mode": {
    "name": "ipython",
    "version": 3
   },
   "file_extension": ".py",
   "mimetype": "text/x-python",
   "name": "python",
   "nbconvert_exporter": "python",
   "pygments_lexer": "ipython3",
   "version": "3.7.9"
  }
 },
 "nbformat": 4,
 "nbformat_minor": 4
}
