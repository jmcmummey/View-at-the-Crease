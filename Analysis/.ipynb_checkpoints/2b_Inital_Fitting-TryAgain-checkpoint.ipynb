{
 "cells": [
  {
   "cell_type": "markdown",
   "metadata": {},
   "source": []
  },
  {
   "cell_type": "code",
   "execution_count": 1,
   "metadata": {},
   "outputs": [],
   "source": [
    "import pandas as pd\n",
    "import numpy as np\n",
    "import os\n",
    "from datetime import datetime as dt, timedelta\n",
    "from dateutil.relativedelta import *\n",
    "import re\n",
    "from matplotlib import pyplot as plt\n",
    "import sqlite3"
   ]
  },
  {
   "cell_type": "markdown",
   "metadata": {},
   "source": [
    "<h3>SQLite Handling functions</h3>\n",
    "<p>Use Pandas to import dataframe into SQLlite</p>"
   ]
  },
  {
   "cell_type": "code",
   "execution_count": 7,
   "metadata": {},
   "outputs": [],
   "source": [
    "DB = \"hockey_dataMVP.db\"\n",
    "\n",
    "#SQL Handle functions\n",
    "def run_query(q):\n",
    "    with sqlite3.connect(DB) as conn:\n",
    "        x = pd.read_sql(q,conn)\n",
    "    return x\n",
    "   \n",
    "#send command\n",
    "def run_command(c):\n",
    "    with sqlite3.connect(DB) as conn:\n",
    "        conn.isolation_level = None\n",
    "        return conn.execute(c)\n",
    "    \n",
    "#show tables\n",
    "def show_tables():\n",
    "    r = \"\"\"\n",
    "    Select name,type\n",
    "    FROM sqlite_master\n",
    "    WHERE type in (\"table\",\"view\");\n",
    "        \"\"\"\n",
    "    return run_query(r)"
   ]
  },
  {
   "cell_type": "code",
   "execution_count": 32,
   "metadata": {},
   "outputs": [
    {
     "name": "stdout",
     "output_type": "stream",
     "text": [
      "There are 11529 injuries in 1.133894e+06ntries\n"
     ]
    }
   ],
   "source": [
    "not_injured = run_query(\"\"\"SELECT COUNT(pl.player_id) as injuries From player_log pl WHERE pl.injured =0\"\"\")['injuries'].values\n",
    "injured = run_query(\"\"\"SELECT COUNT(pl.player_id) as injuries From player_log pl WHERE pl.injured =1\"\"\")['injuries'].values\n",
    "print('There are %d injuries in %entries' % (injured,injured+not_injured))"
   ]
  },
  {
   "cell_type": "code",
   "execution_count": 34,
   "metadata": {
    "scrolled": true
   },
   "outputs": [
    {
     "data": {
      "text/html": [
       "<div>\n",
       "<style scoped>\n",
       "    .dataframe tbody tr th:only-of-type {\n",
       "        vertical-align: middle;\n",
       "    }\n",
       "\n",
       "    .dataframe tbody tr th {\n",
       "        vertical-align: top;\n",
       "    }\n",
       "\n",
       "    .dataframe thead th {\n",
       "        text-align: right;\n",
       "    }\n",
       "</style>\n",
       "<table border=\"1\" class=\"dataframe\">\n",
       "  <thead>\n",
       "    <tr style=\"text-align: right;\">\n",
       "      <th></th>\n",
       "      <th>cid</th>\n",
       "      <th>name</th>\n",
       "      <th>type</th>\n",
       "      <th>notnull</th>\n",
       "      <th>dflt_value</th>\n",
       "      <th>pk</th>\n",
       "    </tr>\n",
       "  </thead>\n",
       "  <tbody>\n",
       "    <tr>\n",
       "      <th>0</th>\n",
       "      <td>0</td>\n",
       "      <td>gamelog_id</td>\n",
       "      <td>TEXT</td>\n",
       "      <td>0</td>\n",
       "      <td>None</td>\n",
       "      <td>1</td>\n",
       "    </tr>\n",
       "    <tr>\n",
       "      <th>1</th>\n",
       "      <td>1</td>\n",
       "      <td>player_id</td>\n",
       "      <td>TEXT</td>\n",
       "      <td>0</td>\n",
       "      <td>None</td>\n",
       "      <td>0</td>\n",
       "    </tr>\n",
       "    <tr>\n",
       "      <th>2</th>\n",
       "      <td>2</td>\n",
       "      <td>date_game</td>\n",
       "      <td>TEXT</td>\n",
       "      <td>0</td>\n",
       "      <td>None</td>\n",
       "      <td>0</td>\n",
       "    </tr>\n",
       "    <tr>\n",
       "      <th>3</th>\n",
       "      <td>3</td>\n",
       "      <td>age</td>\n",
       "      <td>REAL</td>\n",
       "      <td>0</td>\n",
       "      <td>None</td>\n",
       "      <td>0</td>\n",
       "    </tr>\n",
       "    <tr>\n",
       "      <th>4</th>\n",
       "      <td>4</td>\n",
       "      <td>min_season</td>\n",
       "      <td>REAL</td>\n",
       "      <td>0</td>\n",
       "      <td>None</td>\n",
       "      <td>0</td>\n",
       "    </tr>\n",
       "    <tr>\n",
       "      <th>5</th>\n",
       "      <td>5</td>\n",
       "      <td>min_3w</td>\n",
       "      <td>REAL</td>\n",
       "      <td>0</td>\n",
       "      <td>None</td>\n",
       "      <td>0</td>\n",
       "    </tr>\n",
       "    <tr>\n",
       "      <th>6</th>\n",
       "      <td>6</td>\n",
       "      <td>days_to_next_g</td>\n",
       "      <td>INTEGER</td>\n",
       "      <td>0</td>\n",
       "      <td>None</td>\n",
       "      <td>0</td>\n",
       "    </tr>\n",
       "    <tr>\n",
       "      <th>7</th>\n",
       "      <td>7</td>\n",
       "      <td>timec</td>\n",
       "      <td>REAL</td>\n",
       "      <td>0</td>\n",
       "      <td>None</td>\n",
       "      <td>0</td>\n",
       "    </tr>\n",
       "    <tr>\n",
       "      <th>8</th>\n",
       "      <td>8</td>\n",
       "      <td>venuec</td>\n",
       "      <td>REAL</td>\n",
       "      <td>0</td>\n",
       "      <td>None</td>\n",
       "      <td>0</td>\n",
       "    </tr>\n",
       "    <tr>\n",
       "      <th>9</th>\n",
       "      <td>9</td>\n",
       "      <td>injured</td>\n",
       "      <td>INT</td>\n",
       "      <td>0</td>\n",
       "      <td>None</td>\n",
       "      <td>0</td>\n",
       "    </tr>\n",
       "  </tbody>\n",
       "</table>\n",
       "</div>"
      ],
      "text/plain": [
       "   cid            name     type  notnull dflt_value  pk\n",
       "0    0      gamelog_id     TEXT        0       None   1\n",
       "1    1       player_id     TEXT        0       None   0\n",
       "2    2       date_game     TEXT        0       None   0\n",
       "3    3             age     REAL        0       None   0\n",
       "4    4      min_season     REAL        0       None   0\n",
       "5    5          min_3w     REAL        0       None   0\n",
       "6    6  days_to_next_g  INTEGER        0       None   0\n",
       "7    7           timec     REAL        0       None   0\n",
       "8    8          venuec     REAL        0       None   0\n",
       "9    9         injured      INT        0       None   0"
      ]
     },
     "execution_count": 34,
     "metadata": {},
     "output_type": "execute_result"
    }
   ],
   "source": [
    "run_query(\"\"\"PRAGMA table_info(player_log);\"\"\")"
   ]
  },
  {
   "cell_type": "code",
   "execution_count": 92,
   "metadata": {},
   "outputs": [],
   "source": [
    "no_injury = run_query(\"\"\"WITH \n",
    "            /*Add year*/\n",
    "            add_year AS (SELECT pl.*, CAST(SUBSTR(pl.date_game,1,4) AS INT) as YEAR \n",
    "                          FROM player_log pl),\n",
    "            /*REMOVE Record Before 1997 as Time on Ice wasn't recorded*/\n",
    "            post_1997 AS (SELECT ady.*\n",
    "                          FROM add_year ady\n",
    "                          WHERE ady.YEAR > 1997)\n",
    "            /*SELECT 20000 entries with no injuries and join to those with injuries*/\n",
    "            SELECT pl.position,pl.weight_kg,po.age,po.min_season,po.min_3w,po.days_to_next_g,po.timec,po.venuec,po.injured\n",
    "            FROM post_1997 po\n",
    "            LEFT JOIN player_list pl ON pl.unique_id=po.player_id\n",
    "            WHERE injured = 0 AND days_to_next_g < 20\n",
    "            ORDER BY RANDOM()\n",
    "            LIMIT 20000\n",
    "            \"\"\")\n",
    "injury = run_query(\"\"\"WITH \n",
    "            /*Add year*/\n",
    "            add_year AS (SELECT pl.*, CAST(SUBSTR(pl.date_game,1,4) AS INT) as YEAR \n",
    "                          FROM player_log pl),\n",
    "            /*REMOVE Record Before 1997 as Time on Ice wasn't recorded*/\n",
    "            post_1997 AS (SELECT ady.*\n",
    "                          FROM add_year ady\n",
    "                          WHERE ady.YEAR > 1997)\n",
    "            /*SELECT 20000 entries with no injuries and join to those with injuries*/\n",
    "            SELECT pl.position,pl.weight_kg,po.age,po.min_season,po.min_3w,po.days_to_next_g,po.timec,po.venuec,po.injured\n",
    "            FROM post_1997 po\n",
    "            LEFT JOIN player_list pl ON pl.unique_id=po.player_id\n",
    "            WHERE injured = 1 AND days_to_next_g < 20\n",
    "            ORDER BY RANDOM()\n",
    "            LIMIT 10000\n",
    "            \"\"\")"
   ]
  },
  {
   "cell_type": "code",
   "execution_count": 177,
   "metadata": {},
   "outputs": [],
   "source": [
    "dataset = injury.append(no_injury).sample(frac=1) #add together and randomize\n",
    "traindataset = dataset.iloc[:24000]\n",
    "testdataset = dataset.iloc[24000:]"
   ]
  },
  {
   "cell_type": "code",
   "execution_count": 178,
   "metadata": {},
   "outputs": [],
   "source": [
    "from sklearn.metrics import mean_squared_error as mse\n",
    "from sklearn.model_selection import cross_validate as CV\n",
    "from sklearn.pipeline import Pipeline\n",
    "from sklearn.preprocessing import StandardScaler\n",
    "from sklearn.preprocessing import OneHotEncoder\n",
    "from sklearn.ensemble import RandomForestClassifier"
   ]
  },
  {
   "cell_type": "code",
   "execution_count": 179,
   "metadata": {},
   "outputs": [],
   "source": [
    "enc = OneHotEncoder()\n",
    "trposhot = enc.fit_transform(np.array(traindataset['position']).reshape(-1,1))\n",
    "teposhot = enc.fit_transform(np.array(testdataset['position']).reshape(-1,1))"
   ]
  },
  {
   "cell_type": "code",
   "execution_count": 180,
   "metadata": {},
   "outputs": [],
   "source": [
    "#create a pipeline to scale the variables for better weighting.\n",
    "num_pipline = Pipeline([('std_scaler',StandardScaler())])\n",
    "#scale data\n",
    "trainsc = num_pipline.fit_transform(np.array(traindataset.iloc[:,1:-1]))\n",
    "testsc = num_pipline.fit_transform(np.array(testdataset.iloc[:,1:-1]))"
   ]
  },
  {
   "cell_type": "code",
   "execution_count": 181,
   "metadata": {},
   "outputs": [],
   "source": [
    "#put data together\n",
    "train = np.concatenate((trposhot.toarray(),trainsc),axis=1)\n",
    "trainv = np.array(traindataset['injured'])\n",
    "test =  np.concatenate((teposhot.toarray(),testsc),axis=1)\n",
    "testv = np.array(testdataset['injured'])"
   ]
  },
  {
   "cell_type": "code",
   "execution_count": 182,
   "metadata": {},
   "outputs": [
    {
     "data": {
      "text/plain": [
       "RandomForestClassifier()"
      ]
     },
     "execution_count": 182,
     "metadata": {},
     "output_type": "execute_result"
    }
   ],
   "source": [
    "forest_class = RandomForestClassifier()\n",
    "forest_class.fit(train,trainv)"
   ]
  },
  {
   "cell_type": "code",
   "execution_count": 183,
   "metadata": {},
   "outputs": [
    {
     "data": {
      "image/png": "[encoded data removed]",
      "text/plain": [
       "<Figure size 432x288 with 1 Axes>"
      ]
     },
     "metadata": {
      "needs_background": "light"
     },
     "output_type": "display_data"
    }
   ],
   "source": [
    "testp =forest_class.predict(test)\n",
    "plt.plot(testv,testp,'r.')\n",
    "plt.xlabel('injured next game')\n",
    "plt.ylabel('predicted injured next game')\n",
    "plt.show()"
   ]
  },
  {
   "cell_type": "code",
   "execution_count": 184,
   "metadata": {},
   "outputs": [
    {
     "data": {
      "text/plain": [
       "2027"
      ]
     },
     "execution_count": 184,
     "metadata": {},
     "output_type": "execute_result"
    }
   ],
   "source": [
    "testv.sum()"
   ]
  },
  {
   "cell_type": "code",
   "execution_count": 185,
   "metadata": {},
   "outputs": [
    {
     "data": {
      "text/plain": [
       "472"
      ]
     },
     "execution_count": 185,
     "metadata": {},
     "output_type": "execute_result"
    }
   ],
   "source": [
    "testp.sum()"
   ]
  },
  {
   "cell_type": "code",
   "execution_count": 186,
   "metadata": {},
   "outputs": [
    {
     "data": {
      "text/plain": [
       "(6000, 10)"
      ]
     },
     "execution_count": 186,
     "metadata": {},
     "output_type": "execute_result"
    }
   ],
   "source": [
    "test.shape"
   ]
  },
  {
   "cell_type": "code",
   "execution_count": null,
   "metadata": {},
   "outputs": [],
   "source": []
  }
 ],
 "metadata": {
  "kernelspec": {
   "display_name": "Python 3",
   "language": "python",
   "name": "python3"
  },
  "language_info": {
   "codemirror_mode": {
    "name": "ipython",
    "version": 3
   },
   "file_extension": ".py",
   "mimetype": "text/x-python",
   "name": "python",
   "nbconvert_exporter": "python",
   "pygments_lexer": "ipython3",
   "version": "3.7.9"
  }
 },
 "nbformat": 4,
 "nbformat_minor": 4
}
