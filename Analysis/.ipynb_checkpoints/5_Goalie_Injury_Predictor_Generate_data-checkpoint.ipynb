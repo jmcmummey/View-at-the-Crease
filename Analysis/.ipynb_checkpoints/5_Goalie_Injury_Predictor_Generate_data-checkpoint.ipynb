{
 "cells": [
  {
   "cell_type": "code",
   "execution_count": 1,
   "metadata": {},
   "outputs": [],
   "source": [
    "import pandas as pd\n",
    "import numpy as np\n",
    "import os\n",
    "from datetime import datetime as dt, timedelta\n",
    "from dateutil.relativedelta import *\n",
    "import re\n",
    "from matplotlib import pyplot as plt\n",
    "import seaborn as sns\n",
    "import sqlite3"
   ]
  },
  {
   "cell_type": "markdown",
   "metadata": {},
   "source": [
    "<h3>SQLite Handling functions</h3>\n",
    "<p>Use Pandas to import dataframe into SQLlite</p>"
   ]
  },
  {
   "cell_type": "code",
   "execution_count": 2,
   "metadata": {},
   "outputs": [],
   "source": [
    "DB = \"..\\\\Assests\\\\hockey_data_goalies.db\"\n",
    "\n",
    "#SQL Handle functions\n",
    "def run_query(q):\n",
    "    with sqlite3.connect(DB) as conn:\n",
    "        x = pd.read_sql(q,conn)\n",
    "    return x\n",
    "   \n",
    "#send command\n",
    "def run_command(c):\n",
    "    with sqlite3.connect(DB) as conn:\n",
    "        conn.isolation_level = None\n",
    "        return conn.execute(c)\n",
    "    \n",
    "#show tables\n",
    "def show_tables():\n",
    "    r = \"\"\"\n",
    "    Select name,type\n",
    "    FROM sqlite_master\n",
    "    WHERE type in (\"table\",\"view\");\n",
    "        \"\"\"\n",
    "    return run_query(r)"
   ]
  },
  {
   "cell_type": "code",
   "execution_count": 3,
   "metadata": {},
   "outputs": [],
   "source": [
    "def sos_calc(year,game_no,nme,wind=[0]):\n",
    "    \"\"\"\n",
    "        CALCULATES THE SOS FOR THE TEAM entered faced before a given date\n",
    "    INPUT:\n",
    "        year: the current season (YYYY-YYYY+1)\n",
    "        game_no: the game_no for the current game previous games are [0-game_no-1]\n",
    "        nme: the team abbr to calculate the SOS for\n",
    "        RETURN:\n",
    "        sos: the computed sos statistics sum(no_times_faced*(goalsfor-goalsagainst)/no_games)/no_games\n",
    "    \"\"\"\n",
    "    \n",
    "    sos = 0\n",
    "    \n",
    "    #get the details on the game\n",
    "    q = (\"\"\"SELECT * \n",
    "            FROM team_log \n",
    "            WHERE team_id=\\\"{0}\\\"\n",
    "            AND (CAST(SUBSTR(date_game,1,4) AS FLOAT)+CAST(SUBSTR(date_game,6,7) AS FLOAT)/12) > {1}\n",
    "            AND (CAST(SUBSTR(date_game,1,4) AS FLOAT)+CAST(SUBSTR(date_game,6,7) AS FLOAT)/12) < {2}\n",
    "            \"\"\".format(nme,int(year) + .66,int(year)+1.66))\n",
    "    games = run_query(q)\n",
    "    games['date_game'] = games['date_game'].astype('datetime64')\n",
    "    \n",
    "    gamedate = games.at[game_no,'date_game']\n",
    "\n",
    "    if game_no>0:\n",
    "        #list of teams faced to date (and number of times)\n",
    "        if len(wind) ==1:\n",
    "            teams_faced = games.loc[games['date_game']<gamedate,'opp_name'].value_counts()\n",
    "        else:\n",
    "            teams_faced = games.loc[wind,'opp_name'].value_counts()\n",
    "       \n",
    "        #get list of games played in the league that season up until the gameday\n",
    "        q = (\"\"\"SELECT * \n",
    "                FROM team_log \n",
    "                WHERE (CAST(SUBSTR(date_game,1,4) AS FLOAT)+CAST(SUBSTR(date_game,6,7) AS FLOAT)/12) > {1}\n",
    "                AND (CAST(SUBSTR(date_game,1,4) AS FLOAT)+CAST(SUBSTR(date_game,6,7) AS FLOAT)/12) < {2}\n",
    "                \"\"\".format(nme,int(year) + .66,int(year)+1.66))\n",
    "        temp_games = run_query(q)\n",
    "        temp_games['date_game'] = temp_games['date_game'].astype('datetime64')\n",
    "\n",
    "        #calculate statistics for each team\n",
    "        goals = temp_games[temp_games['date_game']<gamedate].groupby('team_id').agg([sum,'count'])\n",
    "\n",
    "        diff = (goals['goals']['sum']-goals['opp_goals']['sum'])/goals['goals']['count'] #calculates metric for all teams to date\n",
    "\n",
    "        for eachteam in teams_faced.index:\n",
    "            #get team_abbr\n",
    "\n",
    "            q = '''SELECT team_abbr FROM team_list WHERE team_name=\\\"{0}\\\" AND CAST(SUBSTR(years_active,6,9) AS INT)>{1}'''.format(eachteam,int(year))\n",
    "            nme = (run_query(q)['team_abbr'].values)[0]\n",
    "            sos = sos + teams_faced[eachteam]*diff[nme]\n",
    "        if len(wind) == 1:\n",
    "            return sos/game_no\n",
    "        else:\n",
    "            return sos/wind.sum()\n",
    "    else:\n",
    "        return 0\n",
    "    \n",
    "def team_stat_gen(team_value,date):\n",
    "    \"\"\"\n",
    "        Generates team based statistics for the season (and the last 3 weeks) upto the selected game\n",
    "        INPUT:\n",
    "            team_value: The team abbr\n",
    "            year_value: The season in question where year is YYYY:YYYY+1\n",
    "            game_value: The game_no for the current game previous games are [0-game_no-1] # must be more than 10\n",
    "        OUTPUT:\n",
    "            returns a data series of team stats\n",
    "    \"\"\"\n",
    "    \n",
    "    if date.month > 8:\n",
    "        year_value = date.year\n",
    "    else:\n",
    "        year_value = date.year-1\n",
    "\n",
    "\n",
    "    q = \"\"\"SELECT game_number FROM team_log WHERE date_game=\\\"{0}\\\" AND team_id=\\\"{1}\\\"\"\"\".format(date.strftime(\"%Y-%m-%d\"),team_value)\n",
    "    game_value=run_query(q)['game_number'][0]\n",
    "        \n",
    "    \n",
    "    #get the details on the game\n",
    "    q = (\"\"\"SELECT * \n",
    "            FROM team_log \n",
    "            WHERE team_id=\\\"{0}\\\"\n",
    "            AND (CAST(SUBSTR(date_game,1,4) AS FLOAT)+CAST(SUBSTR(date_game,6,7) AS FLOAT)/12) > {1}\n",
    "            AND (CAST(SUBSTR(date_game,1,4) AS FLOAT)+CAST(SUBSTR(date_game,6,7) AS FLOAT)/12) < {2}\n",
    "            \"\"\".format(team_value,int(year_value) + .66,int(year_value)+1.66))\n",
    "    game_details = run_query(q)\n",
    "    game_details['date_game'] = game_details['date_game'].astype('datetime64')\n",
    "    try:\n",
    "        game_date = game_details.at[game_value,'date_game']\n",
    "    except:\n",
    "        print(game_details,team_value,year_value,game_value)\n",
    "        \n",
    "    rest_days = game_date-game_details.at[game_value-1,'date_game']\n",
    "\n",
    "    #team stats up to this point of the season (basic stats)\n",
    "    cum_total = game_details.loc[game_details.index<game_value,['goals','opp_goals','shots','shots_against']].sum()\n",
    "    games = (game_details.loc[game_details.index<game_value,'game_outcome']=='W').count() \n",
    "    wins = (game_details.loc[game_details.index<game_value,'game_outcome']=='W').sum()\n",
    "    losses = (game_details.loc[game_details.index<game_value,'game_outcome']=='L').sum()\n",
    "    ties = (game_details.loc[game_details.index<game_value,'game_outcome']=='T').sum()\n",
    "    otl = ((game_details.loc[game_details.index<game_value,'game_outcome']=='L')&(game_details['overtimes'].notnull())).sum()\n",
    "    points = wins*2+ties+otl\n",
    "    points_pct = np.round(points/(2*games),3)\n",
    "    sos = sos_calc(year_value,game_value,team_value) #strength of schedule higher is tougher\n",
    "    srs = (cum_total['goals']-cum_total['opp_goals'])/games+sos #simple rating system\n",
    "    return srs"
   ]
  },
  {
   "cell_type": "markdown",
   "metadata": {},
   "source": [
    "<h2>Stat Functions</h2>\n",
    "<p>Given the player statistics calculate:\n",
    "    <ul>\n",
    "        <li>Age</li>\n",
    "        <li>Total minutes this season</li>\n",
    "        <li>Total minutes last 3 weeks</li>\n",
    "        <li>shots_against this season</li>\n",
    "        <li>shots_against 3 weeks</li>\n",
    "        <li>save_pct this season</li>\n",
    "        <li>save_pct 3 weeks</li>\n",
    "        <li>rest days</li>\n",
    "       \n",
    "</ul></p>"
   ]
  },
  {
   "cell_type": "code",
   "execution_count": 24,
   "metadata": {},
   "outputs": [],
   "source": [
    "def season_finder(date):\n",
    "    if date.month > 8:\n",
    "        return date.year\n",
    "    else:\n",
    "        return date.year-1\n",
    "def season_cumul(player):\n",
    "    \"\"\" \n",
    "    Given the player, generate the career_log_data\n",
    "    \"\"\"\n",
    "     #get the gamelogs for that player\n",
    "    q = \"\"\"SELECT * FROM player_log WHERE player_id=\\\"{0}\\\" \"\"\".format(player)\n",
    "    player_logs = run_query(q)\n",
    "    #unit conversions\n",
    "    player_logs['date_game'] = player_logs['date_game'].astype('datetime64') #convert to datetime\n",
    "    player_logs['time_on_ice'] = player_logs['time_on_ice'].str.extract(r'(\\d*)\\:\\d*')[0].astype(int)+player_logs['time_on_ice'].str.extract(r'\\d*\\:(\\d*)')[0].astype(int)/60\n",
    "    player_logs['season'] = player_logs['date_game'].map(lambda x: season_finder(x))\n",
    "    \n",
    "    prodf = pd.DataFrame(columns=['player_id','team_id','opp_id','date_game','age','rest_days','min_season',\n",
    "                                    'shots_against','save_pct','min3W','sa3W','svepct3W','future_save_pct','pre_inj','injured'])\n",
    "    row = 0\n",
    "    #for each season\n",
    "    for season in player_logs['season'].unique():\n",
    "        season_logs = player_logs[player_logs['season']==season].copy().reset_index(drop=True)\n",
    "        for r,game in season_logs[1:].iterrows():\n",
    "\n",
    "                prodf.loc[row,'player_id'] = season_logs.loc[r,'player_id']\n",
    "                prodf.loc[row,'team_id'] = season_logs.loc[r,'team_id']\n",
    "                #prodf.loc[row,'team_srs'] = team_stat_gen(season_logs.at[r,'team_id'],season_logs.at[r,'date_game'])\n",
    "                prodf.loc[row,'opp_id'] = season_logs.loc[r,'opp_id']\n",
    "                #prodf.loc[row,'opp_srs'] = team_stat_gen(season_logs.at[r,'opp_id'],season_logs.at[r,'date_game'])\n",
    "                prodf.loc[row,'date_game'] = season_logs.loc[r,'date_game']\n",
    "                prodf.loc[row,'age'] = season_logs.loc[r,'age']\n",
    "                prodf.loc[row,'rest_days'] = (season_logs.loc[r,'date_game']-season_logs.loc[r-1,'date_game']).days\n",
    "                prodf.loc[row,'min_season'] = season_logs.loc[:(r-1),'time_on_ice'].sum()\n",
    "                prodf.loc[row,'shots_against'] = season_logs.loc[:(r-1),'shots_against'].sum()\n",
    "                if season_logs.loc[:(r-1),'shots_against'].sum()>0:\n",
    "                    prodf.loc[row,'save_pct'] = np.round(season_logs.loc[:(r-1),'saves'].sum()/season_logs.loc[:(r-1),'shots_against'].sum(),3)\n",
    "                else:\n",
    "                    prodf.loc[row,'save_pct'] = .905 #league average\n",
    "                    \n",
    "                window = (season_logs.loc[r,'date_game']>season_logs['date_game'])&(season_logs['date_game']>(season_logs.loc[r,'date_game']-timedelta(21)))\n",
    "\n",
    "                prodf.loc[row,'min3W'] = season_logs.loc[window,'time_on_ice'].sum()\n",
    "                prodf.loc[row,'sa3W'] = season_logs.loc[window ,'shots_against'].sum()\n",
    "                \n",
    "                if season_logs.loc[window,'shots_against'].sum()>0:\n",
    "                    prodf.loc[row,'svepct3W'] = season_logs.loc[window,'saves'].sum()/season_logs.loc[window,'shots_against'].sum()\n",
    "                else: \n",
    "                    prodf.loc[row,'svepct3W'] = .905 #league average\n",
    "                     \n",
    "                prodf.loc[row,'future_save_pct'] = np.round(season_logs.loc[r,'save_pct'] ,3)\n",
    "                prodf.loc[row,'pre_inj'] = season_logs.loc[r-1,'pre_inj']\n",
    "                prodf.loc[row,'injured'] = season_logs.loc[r,'injured']\n",
    "                row+=1\n",
    "     \n",
    "    return prodf"
   ]
  },
  {
   "cell_type": "code",
   "execution_count": 25,
   "metadata": {
    "scrolled": false
   },
   "outputs": [
    {
     "name": "stdout",
     "output_type": "stream",
     "text": [
      "Finished 0 of 315\n",
      "Finished 25 of 315\n",
      "Finished 50 of 315\n",
      "Finished 75 of 315\n",
      "Finished 100 of 315\n",
      "Finished 125 of 315\n",
      "Finished 150 of 315\n",
      "Finished 175 of 315\n",
      "Finished 200 of 315\n",
      "Finished 225 of 315\n",
      "Finished 250 of 315\n",
      "Finished 275 of 315\n",
      "Finished 300 of 315\n"
     ]
    }
   ],
   "source": [
    "#for each player in the database make the stat calculations\n",
    "players = run_query('Select unique_id FROM player_list')\n",
    "pdf = pd.DataFrame(columns=['player_id','team_id','opp_id','date_game','age','rest_days','min_season',\n",
    "                                    'shots_against','save_pct','min3W','sa3W','svepct3W','future_save_pct','pre_inj','injured'])\n",
    "for i,player in enumerate(players['unique_id']):\n",
    "    season_data = season_cumul(player)\n",
    "    pdf = pdf.append(season_data)\n",
    "    #print(i,season_data.shape[0])\n",
    "    if i%25 == 0:\n",
    "        print(\"Finished %d of %d\" % (i,players.shape[0]))\n",
    "pdf = pdf.fillna(pdf['save_pct'].mean())"
   ]
  },
  {
   "cell_type": "code",
   "execution_count": 26,
   "metadata": {},
   "outputs": [],
   "source": [
    "pdf.to_csv('advancedgoaliestats_withadditionalgoalies.csv')"
   ]
  },
  {
   "cell_type": "code",
   "execution_count": 29,
   "metadata": {},
   "outputs": [
    {
     "data": {
      "text/plain": [
       "876"
      ]
     },
     "execution_count": 29,
     "metadata": {},
     "output_type": "execute_result"
    }
   ],
   "source": [
    "pdf['injured'].sum()"
   ]
  },
  {
   "cell_type": "code",
   "execution_count": 8,
   "metadata": {},
   "outputs": [],
   "source": [
    "games = run_query('SELECT * FROM player_log')"
   ]
  },
  {
   "cell_type": "code",
   "execution_count": 23,
   "metadata": {},
   "outputs": [
    {
     "data": {
      "text/plain": [
       "(896, 18)"
      ]
     },
     "execution_count": 23,
     "metadata": {},
     "output_type": "execute_result"
    }
   ],
   "source": [
    "games[games['injured']==1].shape"
   ]
  },
  {
   "cell_type": "code",
   "execution_count": 10,
   "metadata": {},
   "outputs": [
    {
     "data": {
      "text/plain": [
       "(315, 1)"
      ]
     },
     "execution_count": 10,
     "metadata": {},
     "output_type": "execute_result"
    }
   ],
   "source": [
    "players.shape"
   ]
  },
  {
   "cell_type": "code",
   "execution_count": 15,
   "metadata": {},
   "outputs": [
    {
     "data": {
      "text/plain": [
       "658"
      ]
     },
     "execution_count": 15,
     "metadata": {},
     "output_type": "execute_result"
    }
   ],
   "source": [
    "pdf['injured'].sum()"
   ]
  },
  {
   "cell_type": "code",
   "execution_count": null,
   "metadata": {},
   "outputs": [],
   "source": []
  }
 ],
 "metadata": {
  "kernelspec": {
   "display_name": "Python 3",
   "language": "python",
   "name": "python3"
  },
  "language_info": {
   "codemirror_mode": {
    "name": "ipython",
    "version": 3
   },
   "file_extension": ".py",
   "mimetype": "text/x-python",
   "name": "python",
   "nbconvert_exporter": "python",
   "pygments_lexer": "ipython3",
   "version": "3.7.9"
  }
 },
 "nbformat": 4,
 "nbformat_minor": 4
}
