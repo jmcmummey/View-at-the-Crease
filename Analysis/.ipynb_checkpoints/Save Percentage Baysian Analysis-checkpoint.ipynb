{
 "cells": [
  {
   "cell_type": "code",
   "execution_count": 1,
   "metadata": {},
   "outputs": [],
   "source": [
    "import pandas as pd\n",
    "import numpy as np\n",
    "import os\n",
    "from datetime import datetime as dt, timedelta\n",
    "from dateutil.relativedelta import *\n",
    "import re\n",
    "from matplotlib import pyplot as plt\n",
    "import seaborn as sns\n",
    "import sqlite3\n",
    "import scipy.stats as stats"
   ]
  },
  {
   "cell_type": "markdown",
   "metadata": {},
   "source": [
    "<h3>SQLite Handling functions</h3>\n",
    "<p>Use Pandas to import dataframe into SQLlite</p>"
   ]
  },
  {
   "cell_type": "code",
   "execution_count": 2,
   "metadata": {},
   "outputs": [],
   "source": [
    "DB = \"..\\\\Data\\\\hockey_data_goalies.db\"\n",
    "\n",
    "#SQL Handle functions\n",
    "def run_query(q):\n",
    "    with sqlite3.connect(DB) as conn:\n",
    "        x = pd.read_sql(q,conn)\n",
    "    return x\n",
    "   \n",
    "#send command\n",
    "def run_command(c):\n",
    "    with sqlite3.connect(DB) as conn:\n",
    "        conn.isolation_level = None\n",
    "        return conn.execute(c)\n",
    "    \n",
    "#show tables\n",
    "def show_tables():\n",
    "    r = \"\"\"\n",
    "    Select name,type\n",
    "    FROM sqlite_master\n",
    "    WHERE type in (\"table\",\"view\");\n",
    "        \"\"\"\n",
    "    return run_query(r)"
   ]
  },
  {
   "cell_type": "markdown",
   "metadata": {},
   "source": [
    "<h2>Determine the Prior Distribution</h2>"
   ]
  },
  {
   "cell_type": "code",
   "execution_count": 225,
   "metadata": {},
   "outputs": [],
   "source": [
    "def season_finder(date):\n",
    "    if date.month > 8:\n",
    "        return date.year\n",
    "    else:\n",
    "        return date.year-1\n",
    " \n",
    "\n",
    "#get player logs for the last 3 years\n",
    "\n",
    "q = \"\"\"SELECT * \n",
    "        FROM player_log \n",
    "        WHERE (CAST(SUBSTR(date_game,1,4) AS FLOAT)+CAST(SUBSTR(date_game,6,7) AS FLOAT)/12) > {0}\n",
    "\n",
    "        \"\"\".format(2000)\n",
    "games = run_query(q)\n",
    "games['date_game'] = games['date_game'].astype('datetime64') #convert to datetime\n",
    "games['time_on_ice'] = games['time_on_ice'].str.extract(r'(\\d*)\\:\\d*')[0].astype(int)+games['time_on_ice'].str.extract(r'\\d*\\:(\\d*)')[0].astype(int)/60\n",
    "games['season'] = games['date_game'].map(lambda x: season_finder(x))\n",
    "gamesgb = games.groupby(['player_id','season']).sum()\n",
    "#remove players who've played less than 60 minutes in a season\n",
    "gamesgb = gamesgb[gamesgb['time_on_ice']>120]\n",
    "gamesgb['save_pct'] = gamesgb['saves']/gamesgb['shots_against']"
   ]
  },
  {
   "cell_type": "code",
   "execution_count": 226,
   "metadata": {},
   "outputs": [
    {
     "name": "stdout",
     "output_type": "stream",
     "text": [
      "239.30467313030974 24.890152210633175 0 1\n"
     ]
    },
    {
     "data": {
      "image/png": "[encoded data removed]",
      "text/plain": [
       "<Figure size 432x288 with 1 Axes>"
      ]
     },
     "metadata": {
      "needs_background": "light"
     },
     "output_type": "display_data"
    }
   ],
   "source": [
    "data = gamesgb['save_pct'].to_list()\n",
    "\n",
    "bin_no = 25\n",
    "\n",
    "\n",
    "a,b,loc,scale = stats.distributions.beta.fit(data,floc=0,fscale=1)\n",
    "\n",
    "print(a,b,loc,scale)\n",
    "\n",
    "x = np.linspace(0.8,1,bin_no)\n",
    "\n",
    "fitted_data = stats.distributions.beta.pdf(x, a,b,loc,scale)\n",
    "\n",
    "plt.hist(gamesgb['save_pct'].to_list(), bins = bin_no,density=True)\n",
    "plt.plot(x,fitted_data,'r-')\n",
    "plt.show()"
   ]
  },
  {
   "cell_type": "code",
   "execution_count": 227,
   "metadata": {},
   "outputs": [
    {
     "data": {
      "text/plain": [
       "0.9057886460171487"
      ]
     },
     "execution_count": 227,
     "metadata": {},
     "output_type": "execute_result"
    }
   ],
   "source": [
    "a/(a+b)"
   ]
  },
  {
   "cell_type": "code",
   "execution_count": null,
   "metadata": {},
   "outputs": [],
   "source": []
  }
 ],
 "metadata": {
  "kernelspec": {
   "display_name": "Python 3",
   "language": "python",
   "name": "python3"
  },
  "language_info": {
   "codemirror_mode": {
    "name": "ipython",
    "version": 3
   },
   "file_extension": ".py",
   "mimetype": "text/x-python",
   "name": "python",
   "nbconvert_exporter": "python",
   "pygments_lexer": "ipython3",
   "version": "3.7.9"
  }
 },
 "nbformat": 4,
 "nbformat_minor": 4
}
