{
 "cells": [
  {
   "cell_type": "markdown",
   "metadata": {},
   "source": [
    "<h1>Calculating a Usable Statistic</h1>\n",
    "<p>This notebook looks at logistic regression model and calculates an injury risk factor dependant on the output probability of the model</p>"
   ]
  },
  {
   "cell_type": "code",
   "execution_count": 1,
   "metadata": {},
   "outputs": [],
   "source": [
    "import pandas as pd\n",
    "import numpy as np\n",
    "import os\n",
    "from datetime import datetime as dt, timedelta\n",
    "from dateutil.relativedelta import *\n",
    "import re\n",
    "from matplotlib import pyplot as plt\n",
    "import seaborn as sns\n",
    "from scipy.stats import stats\n",
    "import sqlite3\n",
    "from joblib import dump, load\n",
    "pd.set_option('display.max_rows', 500)"
   ]
  },
  {
   "cell_type": "markdown",
   "metadata": {},
   "source": [
    "<h3>SQLite Handling functions</h3>\n",
    "<p>Use Pandas to import dataframe into SQLlite</p>"
   ]
  },
  {
   "cell_type": "code",
   "execution_count": 2,
   "metadata": {},
   "outputs": [],
   "source": [
    "DB = \"../assests/hockey_data_goalies.db\"\n",
    "\n",
    "#SQL Handle functions\n",
    "def run_query(q):\n",
    "    with sqlite3.connect(DB) as conn:\n",
    "        x = pd.read_sql(q,conn)\n",
    "    return x\n",
    "   \n",
    "#send command\n",
    "def run_command(c):\n",
    "    with sqlite3.connect(DB) as conn:\n",
    "        conn.isolation_level = None\n",
    "        return conn.execute(c)\n",
    "    \n",
    "#show tables\n",
    "def show_tables():\n",
    "    r = \"\"\"\n",
    "    Select name,type\n",
    "    FROM sqlite_master\n",
    "    WHERE type in (\"table\",\"view\");\n",
    "        \"\"\"\n",
    "    return run_query(r)"
   ]
  },
  {
   "cell_type": "markdown",
   "metadata": {},
   "source": [
    "<h2>Trim down the sample size</h2>\n",
    "<p>Here I'm removing goalies without any injuries.  I'm doing that because otherwise it overly biases the model by increasing the weight of the preexisting injury statistic, that is, only those goalies with pre existing injuries were capable of getting injured.  The excluded goalies are re-injected to the data set at a later time.  </p>"
   ]
  },
  {
   "cell_type": "code",
   "execution_count": 4,
   "metadata": {},
   "outputs": [],
   "source": [
    "#import data\n",
    "goalie_data =pd.read_csv('advancedgoaliestats_withadditionalgoalies.csv')\n",
    "goalie_data.drop(columns=['Unnamed: 0'],inplace=True)\n",
    "gd_players = goalie_data.groupby('player_id').max()\n",
    "#get list of players with one reported injury\n",
    "player_inj_list = gd_players[gd_players['injured']==1].index\n",
    "goalie_data_inj = pd.DataFrame(columns=goalie_data.columns)\n",
    "#train model on players from this list\n",
    "for players in player_inj_list:\n",
    "    goalie_data_inj = goalie_data_inj.append(goalie_data[goalie_data['player_id']==players].copy())\n",
    "goalie_data_inj[['rest_days','shots_against','sa3W','pre_inj','injured']] = goalie_data_inj[['rest_days','shots_against','sa3W','pre_inj','injured']].astype(int)\n",
    "#goalie_data_inj.loc[goalie_data_inj['pre_inj']>=1,'pre_inj'] = 1\n"
   ]
  },
  {
   "cell_type": "code",
   "execution_count": 5,
   "metadata": {},
   "outputs": [],
   "source": [
    "from sklearn.metrics import mean_squared_error as mse\n",
    "from sklearn.model_selection import cross_validate as CV\n",
    "from sklearn.pipeline import Pipeline\n",
    "from sklearn.preprocessing import StandardScaler\n",
    "from sklearn.preprocessing import OneHotEncoder\n",
    "from sklearn.linear_model import LinearRegression\n",
    "from sklearn.ensemble import RandomForestClassifier\n",
    "from sklearn.model_selection import cross_val_predict\n",
    "from sklearn.model_selection import cross_val_score\n",
    "from sklearn.metrics import roc_curve\n",
    "from sklearn.metrics import precision_recall_curve\n",
    "from sklearn.metrics import roc_auc_score\n",
    "from sklearn.metrics import confusion_matrix\n",
    "from sklearn.linear_model import LogisticRegression\n",
    "from sklearn.model_selection import RepeatedStratifiedKFold\n",
    "\n",
    "from imblearn.pipeline import Pipeline\n",
    "from imblearn.over_sampling import SMOTE\n",
    "from imblearn.under_sampling import RandomUnderSampler\n",
    "from joblib import dump, load"
   ]
  },
  {
   "cell_type": "markdown",
   "metadata": {},
   "source": [
    "<h2>Apply a T-Test</h2>"
   ]
  },
  {
   "cell_type": "code",
   "execution_count": 6,
   "metadata": {
    "scrolled": false
   },
   "outputs": [
    {
     "data": {
      "text/html": [
       "<div>\n",
       "<style scoped>\n",
       "    .dataframe tbody tr th:only-of-type {\n",
       "        vertical-align: middle;\n",
       "    }\n",
       "\n",
       "    .dataframe tbody tr th {\n",
       "        vertical-align: top;\n",
       "    }\n",
       "\n",
       "    .dataframe thead th {\n",
       "        text-align: right;\n",
       "    }\n",
       "</style>\n",
       "<table border=\"1\" class=\"dataframe\">\n",
       "  <thead>\n",
       "    <tr style=\"text-align: right;\">\n",
       "      <th></th>\n",
       "      <th>Feature</th>\n",
       "      <th>Statistic</th>\n",
       "      <th>P-Value</th>\n",
       "    </tr>\n",
       "  </thead>\n",
       "  <tbody>\n",
       "    <tr>\n",
       "      <th>0</th>\n",
       "      <td>Age</td>\n",
       "      <td>-3.098876</td>\n",
       "      <td>1.974312e-03</td>\n",
       "    </tr>\n",
       "    <tr>\n",
       "      <th>1</th>\n",
       "      <td>Minutes Played (season)</td>\n",
       "      <td>1.859571</td>\n",
       "      <td>6.311844e-02</td>\n",
       "    </tr>\n",
       "    <tr>\n",
       "      <th>2</th>\n",
       "      <td>Rest Days</td>\n",
       "      <td>0.729492</td>\n",
       "      <td>4.658013e-01</td>\n",
       "    </tr>\n",
       "    <tr>\n",
       "      <th>3</th>\n",
       "      <td>Shots</td>\n",
       "      <td>1.112692</td>\n",
       "      <td>2.659975e-01</td>\n",
       "    </tr>\n",
       "    <tr>\n",
       "      <th>4</th>\n",
       "      <td>Save %</td>\n",
       "      <td>2.028805</td>\n",
       "      <td>4.263336e-02</td>\n",
       "    </tr>\n",
       "    <tr>\n",
       "      <th>5</th>\n",
       "      <td>Minutes last 3W</td>\n",
       "      <td>0.699691</td>\n",
       "      <td>4.842161e-01</td>\n",
       "    </tr>\n",
       "    <tr>\n",
       "      <th>6</th>\n",
       "      <td>Saves last 3W</td>\n",
       "      <td>-0.539252</td>\n",
       "      <td>5.897832e-01</td>\n",
       "    </tr>\n",
       "    <tr>\n",
       "      <th>7</th>\n",
       "      <td>Save pct last 3W</td>\n",
       "      <td>1.779584</td>\n",
       "      <td>7.532229e-02</td>\n",
       "    </tr>\n",
       "    <tr>\n",
       "      <th>8</th>\n",
       "      <td>Previous Injury</td>\n",
       "      <td>-9.965727</td>\n",
       "      <td>8.919688e-23</td>\n",
       "    </tr>\n",
       "  </tbody>\n",
       "</table>\n",
       "</div>"
      ],
      "text/plain": [
       "                   Feature  Statistic       P-Value\n",
       "0                      Age  -3.098876  1.974312e-03\n",
       "1  Minutes Played (season)   1.859571  6.311844e-02\n",
       "2                Rest Days   0.729492  4.658013e-01\n",
       "3                    Shots   1.112692  2.659975e-01\n",
       "4                   Save %   2.028805  4.263336e-02\n",
       "5          Minutes last 3W   0.699691  4.842161e-01\n",
       "6            Saves last 3W  -0.539252  5.897832e-01\n",
       "7         Save pct last 3W   1.779584  7.532229e-02\n",
       "8          Previous Injury  -9.965727  8.919688e-23"
      ]
     },
     "execution_count": 6,
     "metadata": {},
     "output_type": "execute_result"
    }
   ],
   "source": [
    "statDF = pd.DataFrame(columns = ['Feature', 'Statistic', 'P-Value'])\n",
    "\n",
    "np.random.seed(34)\n",
    "#get random sample for each outcome\n",
    "no_injury = goalie_data_inj[goalie_data_inj['injured']==0].iloc[np.random.randint(0,50000,830),:]\n",
    "injury = goalie_data_inj[goalie_data_inj['injured']==1]\n",
    "cols = ['age','min_season','rest_days','shots_against','save_pct','min3W','sa3W','svepct3W','pre_inj']\n",
    "better_names = ['Age','Minutes Played (season)','Rest Days','Shots', 'Save %', 'Minutes last 3W', 'Saves last 3W', 'Save pct last 3W','Previous Injury']\n",
    "for i,c in enumerate(cols):\n",
    "    #calculate the stat\n",
    "    statistic = stats.ttest_ind(no_injury[c],injury[c])\n",
    "    statDF = statDF.append(dict(zip(statDF.columns,[better_names[i],statistic[0],statistic[1]])),ignore_index=True)\n",
    "statDF"
   ]
  },
  {
   "cell_type": "markdown",
   "metadata": {},
   "source": [
    "<h2>Now build into the Logistic Regression Model</h2>\n",
    "<p>First Get the training/test data</p>"
   ]
  },
  {
   "cell_type": "code",
   "execution_count": 7,
   "metadata": {},
   "outputs": [],
   "source": [
    "no_injury = goalie_data_inj[goalie_data_inj['injured']==0].sample(frac=1)\n",
    "injury= goalie_data_inj[goalie_data_inj['injured']==1].sample(frac=1)"
   ]
  },
  {
   "cell_type": "code",
   "execution_count": 10,
   "metadata": {
    "scrolled": false
   },
   "outputs": [
    {
     "name": "stdout",
     "output_type": "stream",
     "text": [
      "Precision is 0.64\n",
      "Recall is 0.49\n"
     ]
    },
    {
     "data": {
      "text/plain": [
       "array([[511, 362],\n",
       "       [198, 347]], dtype=int64)"
      ]
     },
     "execution_count": 10,
     "metadata": {},
     "output_type": "execute_result"
    }
   ],
   "source": [
    "ml_model = LogisticRegression()\n",
    "b = 1 #balance factor\n",
    "# #randomise the no injury data\n",
    "# no_injury = goalie_data_inj[goalie_data_inj['injured']==0].sample(frac=1)\n",
    "# inj_no = goalie_data_inj[goalie_data_inj['injured']==1].shape[0]\n",
    "# i = 0\n",
    "# data = no_injury.iloc[(i*inj_no):((i+1)*inj_no)]\n",
    "# data = data.append(goalie_data_inj[goalie_data_inj['injured']==1])\n",
    "# mask = (np.random.rand(data.shape[0]) < 0.8)\n",
    "# train = data[mask].sample(frac=1)\n",
    "# test = data[~mask].sample(frac=1)\n",
    "\n",
    "#split data into those with and without injury\n",
    "no_injury = goalie_data_inj[goalie_data_inj['injured']==0].sample(frac=1)\n",
    "injury= goalie_data_inj[goalie_data_inj['injured']==1].sample(frac=1)\n",
    "\n",
    "#split injuries data further\n",
    "mask = (np.random.rand(injury.shape[0]) < 0.8)\n",
    "traininj = injury[mask].sample(frac=1)\n",
    "testinj = injury[~mask].sample(frac=1)\n",
    "\n",
    "#split noinjuries\n",
    "testnoinj = no_injury[:testinj.shape[0]*59]\n",
    "trainnoinj = no_injury[testinj.shape[0]*59:]\n",
    "test = (testinj.append(testnoinj)).sample(frac=1)\n",
    "\n",
    "#now run multiple times with resampling\n",
    "for i in range(25):\n",
    "    #add no injuries\n",
    "    train = trainnoinj.sample(traininj.shape[0])\n",
    "    #add injuries\n",
    "    train = train.append(traininj)\n",
    "    train = train.sample(frac=1) #mix it up\n",
    "\n",
    "    #create pipeline for standard scaling\n",
    "    num_pipeline = Pipeline([('std_scaler',StandardScaler())])\n",
    "    #select columns to fit\n",
    "    columns = ['age','min_season','rest_days','shots_against','save_pct','min3W','sa3W','svepct3W','pre_inj']\n",
    "    #columns = ['pre_inj']\n",
    "    #columns = ['age','min_season','rest_days','pre_inj','save_pct']\n",
    "\n",
    "    #get training data\n",
    "    trainX = num_pipeline.fit_transform(train[columns])\n",
    "    trainY = np.array(train['injured'])\n",
    "    testX = num_pipeline.fit_transform(test[columns])\n",
    "    testY = np.array(test['injured'])\n",
    "\n",
    "    ml_model.fit(trainX,trainY)\n",
    "\n",
    "#run on training data\n",
    "predicted = ml_model.predict(trainX)\n",
    "true_positives = np.sum((predicted==1)&(trainY==1))\n",
    "false_positives = np.sum((predicted==1)&(trainY==0))\n",
    "true_negatives = np.sum((predicted==0)&(trainY==0))\n",
    "false_negatives = np.sum((predicted==0)&(trainY==1))\n",
    "\n",
    "print(\"Precision is %0.2f\" % (true_positives/(true_positives+false_positives)))\n",
    "print(\"Recall is %0.2f\" % (true_positives/(true_positives+false_negatives)))\n",
    "confusion_matrix(predicted,trainY)"
   ]
  },
  {
   "cell_type": "code",
   "execution_count": 11,
   "metadata": {},
   "outputs": [
    {
     "name": "stdout",
     "output_type": "stream",
     "text": [
      "Precision is 0.031851\n",
      "Recall is 0.69\n"
     ]
    },
    {
     "data": {
      "image/png": "[encoded data removed]",
      "text/plain": [
       "<Figure size 720x432 with 1 Axes>"
      ]
     },
     "metadata": {
      "needs_background": "light"
     },
     "output_type": "display_data"
    }
   ],
   "source": [
    "#try on test data\n",
    "\n",
    "predicted = ml_model.predict(testX)\n",
    "true_positives = np.sum((predicted==1)&(testY==1))\n",
    "false_positives = np.sum((predicted==1)&(testY==0))\n",
    "true_negatives = np.sum((predicted==0)&(testY==0))\n",
    "false_negatives = np.sum((predicted==0)&(testY==1))\n",
    "\n",
    "print(\"Precision is %03f\" % (true_positives/(true_positives+false_positives)))\n",
    "print(\"Recall is %0.2f\" % (true_positives/(true_positives+false_negatives)))\n",
    "confusion_matrix(predicted,testY)\n",
    "\n",
    "fpr,tpr,thresholds = roc_curve(testY,\n",
    "                               ml_model.predict_proba(testX)[:,1])\n",
    "plt.figure(figsize=(10,6))\n",
    "plt.plot(fpr,tpr,\"b--\",label=\"Logistic Regression: AUC=%0.3f\"%(roc_auc_score(testY,ml_model.predict_proba(testX)[:,1])))\n",
    "#plt.plot(thresholds,recall[:-1],\"g-\",label=\"recall\")\n",
    "plt.legend(fontsize=16)\n",
    "plt.xlabel('False Positive Rate',font='Garamond',fontsize=25)\n",
    "plt.ylabel('True Positive Rate',font='Garamond',fontsize=25)\n",
    "plt.gca().tick_params(axis='both', which='major', labelsize=12)\n",
    "plt.title('ROC for the Test Data',font='Garamond',fontsize=32,pad = 15)\n",
    "plt.savefig('ROCfortheTestData_LogR.png')\n",
    "plt.show()"
   ]
  },
  {
   "cell_type": "code",
   "execution_count": 67,
   "metadata": {
    "scrolled": true
   },
   "outputs": [
    {
     "name": "stdout",
     "output_type": "stream",
     "text": [
      "Trial 0.20:Identified 167 of 167, Precision of 0.017 and Recall of 1.00.  TP:167,FP:9853\n",
      "Trial 0.30:Identified 167 of 167, Precision of 0.017 and Recall of 1.00.  TP:167,FP:9757\n",
      "Trial 0.40:Identified 159 of 167, Precision of 0.019 and Recall of 0.95.  TP:159,FP:8325\n",
      "Trial 0.50:Identified 116 of 167, Precision of 0.032 and Recall of 0.69.  TP:116,FP:3526\n",
      "Trial 0.60:Identified 74 of 167, Precision of 0.041 and Recall of 0.44.  TP:74,FP:1745\n",
      "Trial 0.70:Identified 39 of 167, Precision of 0.044 and Recall of 0.23.  TP:39,FP:844\n",
      "Trial 0.80:Identified 14 of 167, Precision of 0.053 and Recall of 0.08.  TP:14,FP:250\n"
     ]
    }
   ],
   "source": [
    "injuryRF = pd.DataFrame(columns=['Threshold','Precision','Recall'])\n",
    "ypred = ml_model.predict_proba(testX)[:,1]\n",
    "yreal = testY\n",
    "for m in [.2,.3,.4,.5,.6,.7,.8]:\n",
    "    tp = ((ypred>=m)&(yreal==1)).sum()\n",
    "    fp = ((ypred>=m)&(yreal==0)).sum()\n",
    "    fn = ((ypred<=m)&(yreal==1)).sum()\n",
    "    injuryRF = injuryRF.append(dict(zip(injuryRF.columns,[m,tp/(tp+fp),tp/(tp+fn)])),ignore_index=True)\n",
    "    print(\"Trial %0.2f:Identified %s of %s, Precision of %0.3f and Recall of %0.2f.  TP:%d,FP:%d\"%(m,tp,yreal.sum(),tp/(tp+fp),tp/(tp+fn),tp,fp))"
   ]
  },
  {
   "cell_type": "code",
   "execution_count": 108,
   "metadata": {},
   "outputs": [
    {
     "data": {
      "image/png": "[encoded data removed]",
      "text/plain": [
       "<Figure size 720x432 with 2 Axes>"
      ]
     },
     "metadata": {
      "needs_background": "light"
     },
     "output_type": "display_data"
    }
   ],
   "source": [
    "\n",
    "fig, ax1 = plt.subplots()\n",
    "ax1.set_xlim(.15,.85)\n",
    "fig.set_size_inches(10, 6)\n",
    "color = 'tab:red'\n",
    "ax1.set_xlabel('Probability Threshold',font='Garamond',fontsize='20')\n",
    "ax1.set_ylabel('Recall',font='Garamond',fontsize='20')\n",
    "plt1 = ax1.plot(injuryRF['Threshold'],injuryRF['Recall'],'ko-', label='Recall')\n",
    "ax1.tick_params(axis='y')\n",
    "plt.gca().tick_params(axis='both', which='major', labelsize=12)\n",
    "\n",
    "ax2 = ax1.twinx()\n",
    "color = 'tab:blue'\n",
    "ax2.set_ylabel('Precision',font='Garamond',fontsize='20')  # we already handled the x-label with ax1\n",
    "plt2 = ax2.plot(injuryRF['Threshold'],injuryRF['Precision'],'kD-', label = 'Precision')\n",
    "ax2.tick_params(axis='y')\n",
    "# added these three lines\n",
    "lns = plt1+plt2\n",
    "labs = [l.get_label() for l in lns]\n",
    "ax2.legend(lns, labs, loc=6,fontsize='20')\n",
    "plt.gca().axvline(0.275,linewidth=200,color='#2DF219',alpha=0.3)\n",
    "plt.gca().axvline(0.5,linewidth=160,color='#FBFF0D',alpha=0.3)\n",
    "plt.gca().axvline(0.725,linewidth=200,color='#FE0808',alpha=0.3)\n",
    "plt.title('Precision vs Recall Curve for Unbalanced Test Sample',font='Garamond',fontsize='30')\n",
    "plt.gca().tick_params(axis='both', which='major', labelsize=12)\n",
    "fig.savefig('precisionvsrecallcurve.png', dpi=200)\n",
    "plt.show()"
   ]
  }
 ],
 "metadata": {
  "kernelspec": {
   "display_name": "Python 3",
   "language": "python",
   "name": "python3"
  },
  "language_info": {
   "codemirror_mode": {
    "name": "ipython",
    "version": 3
   },
   "file_extension": ".py",
   "mimetype": "text/x-python",
   "name": "python",
   "nbconvert_exporter": "python",
   "pygments_lexer": "ipython3",
   "version": "3.7.9"
  }
 },
 "nbformat": 4,
 "nbformat_minor": 4
}
