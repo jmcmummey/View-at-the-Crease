{
 "cells": [
  {
   "cell_type": "code",
   "execution_count": 1,
   "metadata": {},
   "outputs": [],
   "source": [
    "import pandas as pd\n",
    "import numpy as np\n",
    "import sqlite3"
   ]
  },
  {
   "cell_type": "markdown",
   "metadata": {},
   "source": [
    "Give the team, the year and the game #, get the goalie statistics..."
   ]
  },
  {
   "cell_type": "markdown",
   "metadata": {},
   "source": [
    "<h3>SQLite Handling functions</h3>\n",
    "<p>Use Pandas to import dataframe into SQLlite</p>"
   ]
  },
  {
   "cell_type": "code",
   "execution_count": 2,
   "metadata": {},
   "outputs": [],
   "source": [
    "DB = \"..\\\\Data\\\\hockey_data_goalies.db\"\n",
    "\n",
    "#SQL Handle functions\n",
    "def run_query(q):\n",
    "    with sqlite3.connect(DB) as conn:\n",
    "        x = pd.read_sql(q,conn)\n",
    "    return x\n",
    "   \n",
    "#send command\n",
    "def run_command(c):\n",
    "    with sqlite3.connect(DB) as conn:\n",
    "        conn.isolation_level = None\n",
    "        return conn.execute(c)\n",
    "    \n",
    "#show tables\n",
    "def show_tables():\n",
    "    r = \"\"\"\n",
    "    Select name,type\n",
    "    FROM sqlite_master\n",
    "    WHERE type in (\"table\",\"view\");\n",
    "        \"\"\"\n",
    "    return run_query(r)"
   ]
  },
  {
   "cell_type": "code",
   "execution_count": 14,
   "metadata": {},
   "outputs": [
    {
     "data": {
      "text/plain": [
       "'2017-02-11'"
      ]
     },
     "execution_count": 14,
     "metadata": {},
     "output_type": "execute_result"
    }
   ],
   "source": [
    "team_value = 'ANA'\n",
    "year_value = 2016\n",
    "game_num = 56 # for the team\n",
    "\n",
    "#find the game data\n",
    "q = (\"\"\"WITH goalies as (SELECT *\n",
    "        FROM team_log \n",
    "        WHERE team_id=\\\"{0}\\\" \n",
    "        AND (CAST(SUBSTR(date_game,1,4) AS FLOAT)+CAST(SUBSTR(date_game,6,7) AS FLOAT)/12) > {1}\n",
    "        AND (CAST(SUBSTR(date_game,1,4) AS FLOAT)+CAST(SUBSTR(date_game,6,7) AS FLOAT)/12) < {2}\n",
    "        AND game_number={3}\n",
    "        )\n",
    "        SELECT *\n",
    "        FROM goalies\"\"\".format(team_value,int(year_value) + .66,int(year_value)+1.66,game_num))\n",
    "game_date = run_query(q)['date_game'].values[0]\n",
    "game_date"
   ]
  },
  {
   "cell_type": "code",
   "execution_count": 33,
   "metadata": {},
   "outputs": [],
   "source": [
    "#the goalies who had played with anaheim that year so far\n",
    "game_date_days = int(game_date[:4])*365+int(game_date[5:7])*12+int(game_date[8:10])\n",
    "q = (\"\"\"WITH goalies as (SELECT player_id\n",
    "        FROM player_log \n",
    "        WHERE team_id=\\\"{0}\\\" \n",
    "        AND (CAST(SUBSTR(date_game,1,4) AS FLOAT) + CAST(SUBSTR(date_game,6,7) AS FLOAT)/12) > {1}\n",
    "        AND (CAST(SUBSTR(date_game,1,4) AS INT)*365 + CAST(SUBSTR(date_game,6,7) AS INT)*12+CAST(SUBSTR(date_game,9,10) AS INT))  <= {2}\n",
    "        )\n",
    "        SELECT *\n",
    "        FROM goalies g\"\"\".format(team_value,int(year_value) + .66,game_date_days))\n",
    "goalies = run_query(q)['player_id'].unique()"
   ]
  },
  {
   "cell_type": "code",
   "execution_count": null,
   "metadata": {},
   "outputs": [],
   "source": []
  }
 ],
 "metadata": {
  "kernelspec": {
   "display_name": "Python 3",
   "language": "python",
   "name": "python3"
  },
  "language_info": {
   "codemirror_mode": {
    "name": "ipython",
    "version": 3
   },
   "file_extension": ".py",
   "mimetype": "text/x-python",
   "name": "python",
   "nbconvert_exporter": "python",
   "pygments_lexer": "ipython3",
   "version": "3.7.9"
  }
 },
 "nbformat": 4,
 "nbformat_minor": 4
}
