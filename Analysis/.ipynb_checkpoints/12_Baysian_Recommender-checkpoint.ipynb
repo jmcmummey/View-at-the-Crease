{
 "cells": [
  {
   "cell_type": "markdown",
   "metadata": {},
   "source": [
    "<h2>Baysian Recommender</h2>\n",
    "<p>In this notebook I calculate all the posterior distributions for all the goalies playing at that time and match those similar to the selected goalie with the thought that it could be an additional feature for the dashboard</p>"
   ]
  },
  {
   "cell_type": "code",
   "execution_count": 2,
   "metadata": {},
   "outputs": [],
   "source": [
    "import pandas as pd\n",
    "import numpy as np\n",
    "from datetime import datetime as dt, timedelta\n",
    "from dateutil.relativedelta import *\n",
    "import re\n",
    "import sqlite3\n",
    "import scipy.stats as stats\n",
    "pd.set_option('display.max_rows', 500)"
   ]
  },
  {
   "cell_type": "markdown",
   "metadata": {},
   "source": [
    "<h3>SQLite Handling functions</h3>\n",
    "<p>Use Pandas to import dataframe into SQLlite</p>"
   ]
  },
  {
   "cell_type": "code",
   "execution_count": 3,
   "metadata": {},
   "outputs": [],
   "source": [
    "DB = \"..\\\\Data\\\\hockey_data_goalies.db\"\n",
    "\n",
    "#SQL Handle functions\n",
    "def run_query(q):\n",
    "    with sqlite3.connect(DB) as conn:\n",
    "        x = pd.read_sql(q,conn)\n",
    "    return x\n",
    "   \n",
    "#send command\n",
    "def run_command(c):\n",
    "    with sqlite3.connect(DB) as conn:\n",
    "        conn.isolation_level = None\n",
    "        return conn.execute(c)\n",
    "    \n",
    "#show tables\n",
    "def show_tables():\n",
    "    r = \"\"\"\n",
    "    Select name,type\n",
    "    FROM sqlite_master\n",
    "    WHERE type in (\"table\",\"view\");\n",
    "        \"\"\"\n",
    "    return run_query(r)"
   ]
  },
  {
   "cell_type": "markdown",
   "metadata": {},
   "source": [
    "<h2>Bayesian Calculator</h2>\n",
    "    <p>For a given data (in this case, Jan 17 2017), calculate the postierior mean and variance for all the active goalies in the database.</p>"
   ]
  },
  {
   "cell_type": "code",
   "execution_count": 4,
   "metadata": {},
   "outputs": [],
   "source": [
    "a = 231.14\n",
    "b = 24.2\n",
    "q = \"\"\"SELECT player_id,SUM(saves) saves, SUM(goals_against) goals\n",
    "        FROM player_log log\n",
    "        LEFT JOIN player_list pl ON pl.unique_id= log.player_id\n",
    "        WHERE (CAST(SUBSTR(date_game,1,4) AS FLOAT)+CAST(SUBSTR(date_game,6,7) AS FLOAT)/12) > {0}\n",
    "        AND date_game < \\\"{1}\\\"\n",
    "        GROUP BY player_id\n",
    "        \"\"\".format(2016.66,'2017-01-17')\n",
    "active_players = run_query(q)\n",
    "active_players['alpha_prime'] = active_players['saves'] + a\n",
    "active_players['beta_prime'] = active_players['goals'] + b\n",
    "active_players['mean'] = active_players['alpha_prime']/(active_players['alpha_prime'] +active_players['beta_prime'])\n",
    "active_players['var'] = np.sqrt((active_players['alpha_prime']*active_players['beta_prime'])/((active_players['alpha_prime'] +active_players['beta_prime'])**2+(1+active_players['alpha_prime'] +active_players['beta_prime'])))"
   ]
  },
  {
   "cell_type": "markdown",
   "metadata": {},
   "source": [
    "<h2>Pick a Similar Goalies</h2>\n",
    "<p>For a random goalie, pick three similar goalies based on mean and varience by minimising the normalised RMSE.</p>"
   ]
  },
  {
   "cell_type": "code",
   "execution_count": 15,
   "metadata": {},
   "outputs": [],
   "source": [
    "#pick a random goalie\n",
    "player = active_players.iloc[np.random.randint(0,active_players.shape[0])]\n",
    "#calculate current save percentage\n",
    "active_players['save_pct']= active_players['saves']/(active_players['goals']+active_players['saves'])"
   ]
  },
  {
   "cell_type": "code",
   "execution_count": 16,
   "metadata": {},
   "outputs": [
    {
     "data": {
      "text/html": [
       "<div>\n",
       "<style scoped>\n",
       "    .dataframe tbody tr th:only-of-type {\n",
       "        vertical-align: middle;\n",
       "    }\n",
       "\n",
       "    .dataframe tbody tr th {\n",
       "        vertical-align: top;\n",
       "    }\n",
       "\n",
       "    .dataframe thead th {\n",
       "        text-align: right;\n",
       "    }\n",
       "</style>\n",
       "<table border=\"1\" class=\"dataframe\">\n",
       "  <thead>\n",
       "    <tr style=\"text-align: right;\">\n",
       "      <th></th>\n",
       "      <th>player_id</th>\n",
       "      <th>saves</th>\n",
       "      <th>goals</th>\n",
       "      <th>alpha_prime</th>\n",
       "      <th>beta_prime</th>\n",
       "      <th>mean</th>\n",
       "      <th>var</th>\n",
       "      <th>distance</th>\n",
       "      <th>save_pct</th>\n",
       "    </tr>\n",
       "  </thead>\n",
       "  <tbody>\n",
       "    <tr>\n",
       "      <th>26</th>\n",
       "      <td>hammoan01</td>\n",
       "      <td>47</td>\n",
       "      <td>8</td>\n",
       "      <td>278.14</td>\n",
       "      <td>32.2</td>\n",
       "      <td>0.896243</td>\n",
       "      <td>0.304454</td>\n",
       "      <td>0.000145</td>\n",
       "      <td>0.854545</td>\n",
       "    </tr>\n",
       "    <tr>\n",
       "      <th>50</th>\n",
       "      <td>mrazepe01</td>\n",
       "      <td>602</td>\n",
       "      <td>72</td>\n",
       "      <td>833.14</td>\n",
       "      <td>96.2</td>\n",
       "      <td>0.896486</td>\n",
       "      <td>0.304466</td>\n",
       "      <td>0.000171</td>\n",
       "      <td>0.893175</td>\n",
       "    </tr>\n",
       "    <tr>\n",
       "      <th>73</th>\n",
       "      <td>zatkoje01</td>\n",
       "      <td>178</td>\n",
       "      <td>23</td>\n",
       "      <td>409.14</td>\n",
       "      <td>47.2</td>\n",
       "      <td>0.896568</td>\n",
       "      <td>0.304188</td>\n",
       "      <td>0.001000</td>\n",
       "      <td>0.885572</td>\n",
       "    </tr>\n",
       "  </tbody>\n",
       "</table>\n",
       "</div>"
      ],
      "text/plain": [
       "    player_id  saves  goals  alpha_prime  beta_prime      mean       var  \\\n",
       "26  hammoan01     47      8       278.14        32.2  0.896243  0.304454   \n",
       "50  mrazepe01    602     72       833.14        96.2  0.896486  0.304466   \n",
       "73  zatkoje01    178     23       409.14        47.2  0.896568  0.304188   \n",
       "\n",
       "    distance  save_pct  \n",
       "26  0.000145  0.854545  \n",
       "50  0.000171  0.893175  \n",
       "73  0.001000  0.885572  "
      ]
     },
     "execution_count": 16,
     "metadata": {},
     "output_type": "execute_result"
    }
   ],
   "source": [
    "#difference\n",
    "active_players['distance'] = np.sqrt(((active_players['mean']-player['mean'])/player['mean'])**2+((active_players['var']-player['var'])/player['var'])**2)\n",
    "#get top three recommendations\n",
    "active_players.sort_values('distance')[1:4]"
   ]
  }
 ],
 "metadata": {
  "kernelspec": {
   "display_name": "Python 3",
   "language": "python",
   "name": "python3"
  },
  "language_info": {
   "codemirror_mode": {
    "name": "ipython",
    "version": 3
   },
   "file_extension": ".py",
   "mimetype": "text/x-python",
   "name": "python",
   "nbconvert_exporter": "python",
   "pygments_lexer": "ipython3",
   "version": "3.7.9"
  }
 },
 "nbformat": 4,
 "nbformat_minor": 4
}
