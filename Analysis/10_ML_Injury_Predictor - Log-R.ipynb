{
 "cells": [
  {
   "cell_type": "markdown",
   "metadata": {},
   "source": [
    "<h1>Revisiting the ML model to refine the feature set to make the output more meaningful</h1>\n",
    "<p>This notebook looks at factors influencing goalie performance (save percentage) and the injury (via t_tests) implementing them in a Logistic Regression ml model</p>"
   ]
  },
  {
   "cell_type": "code",
   "execution_count": 1,
   "metadata": {},
   "outputs": [],
   "source": [
    "import pandas as pd\n",
    "import numpy as np\n",
    "import os\n",
    "from datetime import datetime as dt, timedelta\n",
    "from dateutil.relativedelta import *\n",
    "import re\n",
    "from matplotlib import pyplot as plt\n",
    "import seaborn as sns\n",
    "from scipy.stats import stats\n",
    "import sqlite3\n",
    "from joblib import dump, load\n",
    "pd.set_option('display.max_rows', 500)"
   ]
  },
  {
   "cell_type": "markdown",
   "metadata": {},
   "source": [
    "<h3>SQLite Handling functions</h3>\n",
    "<p>Use Pandas to import dataframe into SQLlite</p>"
   ]
  },
  {
   "cell_type": "code",
   "execution_count": 2,
   "metadata": {},
   "outputs": [],
   "source": [
    "DB = \"../assests/hockey_data_goalies.db\"\n",
    "\n",
    "#SQL Handle functions\n",
    "def run_query(q):\n",
    "    with sqlite3.connect(DB) as conn:\n",
    "        x = pd.read_sql(q,conn)\n",
    "    return x\n",
    "   \n",
    "#send command\n",
    "def run_command(c):\n",
    "    with sqlite3.connect(DB) as conn:\n",
    "        conn.isolation_level = None\n",
    "        return conn.execute(c)\n",
    "    \n",
    "#show tables\n",
    "def show_tables():\n",
    "    r = \"\"\"\n",
    "    Select name,type\n",
    "    FROM sqlite_master\n",
    "    WHERE type in (\"table\",\"view\");\n",
    "        \"\"\"\n",
    "    return run_query(r)"
   ]
  },
  {
   "cell_type": "code",
   "execution_count": 81,
   "metadata": {},
   "outputs": [],
   "source": [
    "def riskfunc(x):\n",
    "    \"\"\"Estimate the increased risk factor by player playing\n",
    "    \"\"\"\n",
    "    y = x**3+0.37*(x**2)-0.2572*x+0.0118\n",
    "    return np.round(10**y,1)\n",
    "\n",
    "def risk(team_value,year_value,game_date,add_min=0):\n",
    "    #add_min are the additional minutes\n",
    "\n",
    "    #get unique ids\n",
    "    q = (\"\"\"SELECT * \n",
    "        FROM player_log \n",
    "        WHERE team_id=\\\"{0}\\\"\n",
    "        AND (CAST(SUBSTR(date_game,1,4) AS FLOAT)+CAST(SUBSTR(date_game,6,7) AS FLOAT)/12) > {1}\n",
    "        AND date_game < \\\"{2}\\\"\n",
    "        GROUP BY player_id\n",
    "        \"\"\".format(team_value,int(year_value) + .66,game_date))\n",
    "\n",
    "    ids = run_query(q)\n",
    "\n",
    "    #now generate data for season\n",
    "\n",
    "    prodf = pd.DataFrame(columns=['player_id','team_id','opp_id','date_game','age','rest_days','min_season',\n",
    "                                    'shots_against','save_pct','min3W','sa3W','svepct3W','future_save_pct','injured'])\n",
    "    row = 0\n",
    "    for each_id in ids['player_id']:\n",
    "        q = (\"\"\"SELECT * \n",
    "        FROM player_log \n",
    "        WHERE (CAST(SUBSTR(date_game,1,4) AS FLOAT)+CAST(SUBSTR(date_game,6,7) AS FLOAT)/12) > {0}\n",
    "        AND date_game < \\\"{1}\\\"\n",
    "        AND player_id = \\\"{2}\\\"\n",
    "        \"\"\".format(int(year_value) + .66,game_date,each_id))\n",
    "        season_logs = run_query(q)\n",
    "        season_logs['date_game'] = season_logs['date_game'].astype('datetime64') #convert to datetime\n",
    "        season_logs['time_on_ice'] = season_logs['time_on_ice'].str.extract(r'(\\d*)\\:\\d*')[0].astype(int)+season_logs['time_on_ice'].str.extract(r'\\d*\\:(\\d*)')[0].astype(int)/60\n",
    "\n",
    "        for r,game in season_logs[-1:].iterrows():\n",
    "            prodf.loc[row,'player_id'] = season_logs.loc[r,'player_id']\n",
    "            prodf.loc[row,'team_id'] = season_logs.loc[r,'team_id']\n",
    "            prodf.loc[row,'opp_id'] = season_logs.loc[r,'opp_id']\n",
    "            prodf.loc[row,'date_game'] = season_logs.loc[r,'date_game']\n",
    "            prodf.loc[row,'age'] = season_logs.loc[r,'age']\n",
    "            prodf.loc[row,'rest_days'] = (season_logs.loc[r,'date_game']-season_logs.loc[r-1,'date_game']).days+add_min/15\n",
    "            prodf.loc[row,'min_season'] = season_logs.loc[:(r-1),'time_on_ice'].sum()+add_min\n",
    "            prodf.loc[row,'shots_against'] = season_logs.loc[:(r-1),'shots_against'].sum()\n",
    "            prodf.loc[row,'save_pct'] = np.round(season_logs.loc[:(r-1),'saves'].sum()/season_logs.loc[:(r-1),'shots_against'].sum(),3)\n",
    "\n",
    "            window = (season_logs.loc[r,'date_game']>season_logs['date_game'])&(season_logs['date_game']>(season_logs.loc[r,'date_game']-timedelta(21)))\n",
    "\n",
    "            prodf.loc[row,'min3W'] = season_logs.loc[window,'time_on_ice'].sum()-add_min/5\n",
    "            prodf.loc[row,'sa3W'] = season_logs.loc[window ,'shots_against'].sum()\n",
    "            prodf.loc[row,'svepct3W'] = season_logs.loc[window,'saves'].sum()/season_logs.loc[window,'shots_against'].sum()\n",
    "            prodf.loc[row,'injured'] = season_logs.loc[r,'injured']    \n",
    "            prodf.loc[row,'pre_inj'] = season_logs.loc[r,'pre_inj']\n",
    "        row+=1\n",
    "    columns = ['age','min_season','rest_days','shots_against','save_pct','min3W','sa3W','svepct3W']\n",
    "    #columns = ['age','min_season','rest_days','pre_inj']\n",
    "    probs = ml_model.predict_proba(num_pipeline.fit_transform(prodf[columns]))[:,1]\n",
    "    riskfunc(probs)\n",
    "    return dict(zip(ids['player_id'].to_list(),riskfunc(probs)))\n",
    "\n",
    "def games_remaining(team_id,year_value,game_date):\n",
    "    \"\"\"Estimates the minutes remaining in the season (exluding overtimes)\"\"\"\n",
    "    #get all the games for the team that season\n",
    "    q = (\"\"\"SELECT * \n",
    "        FROM team_log \n",
    "        WHERE (CAST(SUBSTR(date_game,1,4) AS FLOAT)+CAST(SUBSTR(date_game,6,7) AS FLOAT)/12) < {0}\n",
    "        AND date_game >=  \\\"{1}\\\"\n",
    "        AND team_id = \\\"{2}\\\"\n",
    "        \"\"\".format(int(year_value) + 1.66,game_date,team_id))\n",
    "    team_logs = run_query(q)\n",
    "    \n",
    "    return team_logs.shape[0]*60,team_logs"
   ]
  },
  {
   "cell_type": "markdown",
   "metadata": {},
   "source": [
    "<h2>First look at how the existing model behaves with time</h2>"
   ]
  },
  {
   "cell_type": "code",
   "execution_count": 104,
   "metadata": {},
   "outputs": [],
   "source": [
    "#import data\n",
    "goalie_data =pd.read_csv('advancedgoaliestats_withadditionalgoalies.csv')\n",
    "goalie_data.drop(columns=['Unnamed: 0'],inplace=True)\n",
    "gd_players = goalie_data.groupby('player_id').max()\n",
    "#get list of players with one reported injury\n",
    "player_inj_list = gd_players[gd_players['injured']==1].index\n",
    "goalie_data_inj = pd.DataFrame(columns=goalie_data.columns)\n",
    "#train model on players from this list\n",
    "for players in player_inj_list:\n",
    "    goalie_data_inj = goalie_data_inj.append(goalie_data[goalie_data['player_id']==players].copy())\n",
    "goalie_data_inj[['rest_days','shots_against','sa3W','pre_inj','injured']] = goalie_data_inj[['rest_days','shots_against','sa3W','pre_inj','injured']].astype(int)\n",
    "#goalie_data_inj.loc[goalie_data_inj['pre_inj']>=1,'pre_inj'] = 1\n"
   ]
  },
  {
   "cell_type": "code",
   "execution_count": 105,
   "metadata": {},
   "outputs": [],
   "source": [
    "from sklearn.metrics import mean_squared_error as mse\n",
    "from sklearn.model_selection import cross_validate as CV\n",
    "from sklearn.pipeline import Pipeline\n",
    "from sklearn.preprocessing import StandardScaler\n",
    "from sklearn.preprocessing import OneHotEncoder\n",
    "from sklearn.linear_model import LinearRegression\n",
    "from sklearn.ensemble import RandomForestClassifier\n",
    "from sklearn.model_selection import cross_val_predict\n",
    "from sklearn.model_selection import cross_val_score\n",
    "from sklearn.metrics import roc_curve\n",
    "from sklearn.metrics import precision_recall_curve\n",
    "from sklearn.metrics import roc_auc_score\n",
    "from sklearn.metrics import confusion_matrix\n",
    "from sklearn.linear_model import LogisticRegression\n",
    "from sklearn.model_selection import RepeatedStratifiedKFold\n",
    "\n",
    "from imblearn.pipeline import Pipeline\n",
    "from imblearn.over_sampling import SMOTE\n",
    "from imblearn.under_sampling import RandomUnderSampler\n",
    "from joblib import dump, load"
   ]
  },
  {
   "cell_type": "markdown",
   "metadata": {},
   "source": [
    "<h2>Now Fit</h2>"
   ]
  },
  {
   "cell_type": "code",
   "execution_count": 106,
   "metadata": {
    "scrolled": true
   },
   "outputs": [
    {
     "data": {
      "text/html": [
       "<div>\n",
       "<style scoped>\n",
       "    .dataframe tbody tr th:only-of-type {\n",
       "        vertical-align: middle;\n",
       "    }\n",
       "\n",
       "    .dataframe tbody tr th {\n",
       "        vertical-align: top;\n",
       "    }\n",
       "\n",
       "    .dataframe thead th {\n",
       "        text-align: right;\n",
       "    }\n",
       "</style>\n",
       "<table border=\"1\" class=\"dataframe\">\n",
       "  <thead>\n",
       "    <tr style=\"text-align: right;\">\n",
       "      <th></th>\n",
       "      <th>Feature</th>\n",
       "      <th>Statistic</th>\n",
       "      <th>P-Value</th>\n",
       "    </tr>\n",
       "  </thead>\n",
       "  <tbody>\n",
       "    <tr>\n",
       "      <th>0</th>\n",
       "      <td>Age</td>\n",
       "      <td>-3.098876</td>\n",
       "      <td>1.974312e-03</td>\n",
       "    </tr>\n",
       "    <tr>\n",
       "      <th>1</th>\n",
       "      <td>Minutes Played (season)</td>\n",
       "      <td>1.859571</td>\n",
       "      <td>6.311844e-02</td>\n",
       "    </tr>\n",
       "    <tr>\n",
       "      <th>2</th>\n",
       "      <td>Rest Days</td>\n",
       "      <td>0.729492</td>\n",
       "      <td>4.658013e-01</td>\n",
       "    </tr>\n",
       "    <tr>\n",
       "      <th>3</th>\n",
       "      <td>Shots</td>\n",
       "      <td>1.112692</td>\n",
       "      <td>2.659975e-01</td>\n",
       "    </tr>\n",
       "    <tr>\n",
       "      <th>4</th>\n",
       "      <td>Save %</td>\n",
       "      <td>2.028805</td>\n",
       "      <td>4.263336e-02</td>\n",
       "    </tr>\n",
       "    <tr>\n",
       "      <th>5</th>\n",
       "      <td>Minutes last 3W</td>\n",
       "      <td>0.699691</td>\n",
       "      <td>4.842161e-01</td>\n",
       "    </tr>\n",
       "    <tr>\n",
       "      <th>6</th>\n",
       "      <td>Saves last 3W</td>\n",
       "      <td>-0.539252</td>\n",
       "      <td>5.897832e-01</td>\n",
       "    </tr>\n",
       "    <tr>\n",
       "      <th>7</th>\n",
       "      <td>Save pct last 3W</td>\n",
       "      <td>1.779584</td>\n",
       "      <td>7.532229e-02</td>\n",
       "    </tr>\n",
       "    <tr>\n",
       "      <th>8</th>\n",
       "      <td>Previous Injury</td>\n",
       "      <td>-9.965727</td>\n",
       "      <td>8.919688e-23</td>\n",
       "    </tr>\n",
       "  </tbody>\n",
       "</table>\n",
       "</div>"
      ],
      "text/plain": [
       "                   Feature  Statistic       P-Value\n",
       "0                      Age  -3.098876  1.974312e-03\n",
       "1  Minutes Played (season)   1.859571  6.311844e-02\n",
       "2                Rest Days   0.729492  4.658013e-01\n",
       "3                    Shots   1.112692  2.659975e-01\n",
       "4                   Save %   2.028805  4.263336e-02\n",
       "5          Minutes last 3W   0.699691  4.842161e-01\n",
       "6            Saves last 3W  -0.539252  5.897832e-01\n",
       "7         Save pct last 3W   1.779584  7.532229e-02\n",
       "8          Previous Injury  -9.965727  8.919688e-23"
      ]
     },
     "execution_count": 106,
     "metadata": {},
     "output_type": "execute_result"
    }
   ],
   "source": [
    "statDF = pd.DataFrame(columns = ['Feature', 'Statistic', 'P-Value'])\n",
    "\n",
    "np.random.seed(34)\n",
    "#get random sample for each outcome\n",
    "no_injury = goalie_data_inj[goalie_data_inj['injured']==0].iloc[np.random.randint(0,50000,830),:]\n",
    "injury = goalie_data_inj[goalie_data_inj['injured']==1]\n",
    "cols = ['age','min_season','rest_days','shots_against','save_pct','min3W','sa3W','svepct3W','pre_inj']\n",
    "better_names = ['Age','Minutes Played (season)','Rest Days','Shots', 'Save %', 'Minutes last 3W', 'Saves last 3W', 'Save pct last 3W','Previous Injury']\n",
    "for i,c in enumerate(cols):\n",
    "    #calculate the stat\n",
    "    statistic = stats.ttest_ind(no_injury[c],injury[c])\n",
    "    statDF = statDF.append(dict(zip(statDF.columns,[better_names[i],statistic[0],statistic[1]])),ignore_index=True)\n",
    "statDF"
   ]
  },
  {
   "cell_type": "code",
   "execution_count": 107,
   "metadata": {},
   "outputs": [],
   "source": [
    "no_injury = goalie_data_inj[goalie_data_inj['injured']==0].sample(frac=1)\n",
    "injury= goalie_data_inj[goalie_data_inj['injured']==1].sample(frac=1)"
   ]
  },
  {
   "cell_type": "code",
   "execution_count": 108,
   "metadata": {
    "scrolled": false
   },
   "outputs": [
    {
     "name": "stdout",
     "output_type": "stream",
     "text": [
      "Precision is 0.64\n",
      "Recall is 0.49\n"
     ]
    },
    {
     "data": {
      "text/plain": [
       "array([[502, 353],\n",
       "       [196, 345]], dtype=int64)"
      ]
     },
     "execution_count": 108,
     "metadata": {},
     "output_type": "execute_result"
    }
   ],
   "source": [
    "ml_model = LogisticRegression()\n",
    "b = 1 #balance factor\n",
    "# #randomise the no injury data\n",
    "# no_injury = goalie_data_inj[goalie_data_inj['injured']==0].sample(frac=1)\n",
    "# inj_no = goalie_data_inj[goalie_data_inj['injured']==1].shape[0]\n",
    "# i = 0\n",
    "# data = no_injury.iloc[(i*inj_no):((i+1)*inj_no)]\n",
    "# data = data.append(goalie_data_inj[goalie_data_inj['injured']==1])\n",
    "# mask = (np.random.rand(data.shape[0]) < 0.8)\n",
    "# train = data[mask].sample(frac=1)\n",
    "# test = data[~mask].sample(frac=1)\n",
    "\n",
    "no_injury = goalie_data_inj[goalie_data_inj['injured']==0].sample(frac=1)\n",
    "injury= goalie_data_inj[goalie_data_inj['injured']==1].sample(frac=1)\n",
    "#split injuries\n",
    "data = data.append(goalie_data_inj[goalie_data_inj['injured']==1])\n",
    "mask = (np.random.rand(injury.shape[0]) < 0.8)\n",
    "traininj = injury[mask].sample(frac=1)\n",
    "testinj = injury[~mask].sample(frac=1)\n",
    "\n",
    "#split noinjuries\n",
    "trainnoinj = no_injury.sample(traininj.shape[0])\n",
    "testnoinj = no_injury.sample(testinj.shape[0]*59)\n",
    "\n",
    "train = traininj.append(trainnoinj).sample(frac=1)\n",
    "test = testinj.append(testnoinj).sample(frac=1)\n",
    "\n",
    "#create pipeline for standard scaling\n",
    "num_pipeline = Pipeline([('std_scaler',StandardScaler())])\n",
    "#select columns to fit\n",
    "columns = ['age','min_season','rest_days','shots_against','save_pct','min3W','sa3W','svepct3W','pre_inj']\n",
    "#columns = ['pre_inj']\n",
    "#columns = ['age','min_season','rest_days','pre_inj','save_pct']\n",
    "\n",
    "#get training data\n",
    "trainX = num_pipeline.fit_transform(train[columns])\n",
    "trainY = np.array(train['injured'])\n",
    "testX = num_pipeline.fit_transform(test[columns])\n",
    "testY = np.array(test['injured'])\n",
    "\n",
    "ml_model.fit(trainX,trainY)\n",
    "\n",
    "#run on training data\n",
    "predicted = ml_model.predict(trainX)\n",
    "true_positives = np.sum((predicted==1)&(trainY==1))\n",
    "false_positives = np.sum((predicted==1)&(trainY==0))\n",
    "true_negatives = np.sum((predicted==0)&(trainY==0))\n",
    "false_negatives = np.sum((predicted==0)&(trainY==1))\n",
    "\n",
    "print(\"Precision is %0.2f\" % (true_positives/(true_positives+false_positives)))\n",
    "print(\"Recall is %0.2f\" % (true_positives/(true_positives+false_negatives)))\n",
    "confusion_matrix(predicted,trainY)"
   ]
  },
  {
   "cell_type": "code",
   "execution_count": 109,
   "metadata": {},
   "outputs": [
    {
     "name": "stdout",
     "output_type": "stream",
     "text": [
      "Precision is 0.028764\n",
      "Recall is 0.62\n"
     ]
    },
    {
     "data": {
      "image/png": "[encoded data removed]",
      "text/plain": [
       "<Figure size 720x432 with 1 Axes>"
      ]
     },
     "metadata": {
      "needs_background": "light"
     },
     "output_type": "display_data"
    }
   ],
   "source": [
    "#try on test data\n",
    "\n",
    "predicted = ml_model.predict(testX)\n",
    "true_positives = np.sum((predicted==1)&(testY==1))\n",
    "false_positives = np.sum((predicted==1)&(testY==0))\n",
    "true_negatives = np.sum((predicted==0)&(testY==0))\n",
    "false_negatives = np.sum((predicted==0)&(testY==1))\n",
    "\n",
    "print(\"Precision is %03f\" % (true_positives/(true_positives+false_positives)))\n",
    "print(\"Recall is %0.2f\" % (true_positives/(true_positives+false_negatives)))\n",
    "confusion_matrix(predicted,testY)\n",
    "\n",
    "fpr,tpr,thresholds = roc_curve(testY,\n",
    "                               ml_model.predict_proba(testX)[:,1])\n",
    "plt.figure(figsize=(10,6))\n",
    "plt.plot(fpr,tpr,\"b--\",label=\"Logistic Regression: AUC=%0.3f\"%(roc_auc_score(testY,ml_model.predict_proba(testX)[:,1])))\n",
    "#plt.plot(thresholds,recall[:-1],\"g-\",label=\"recall\")\n",
    "plt.legend()\n",
    "plt.xlabel('False Positive Rate')\n",
    "plt.ylabel('True Positive Rate')\n",
    "plt.title('ROC for ALL The Data',font='Garamond',fontsize=32,pad = 15)\n",
    "plt.savefig('ROCforAlltheData.png')\n",
    "plt.show()"
   ]
  },
  {
   "cell_type": "markdown",
   "metadata": {},
   "source": [
    "<h2>Try on all the data</h2>"
   ]
  },
  {
   "cell_type": "code",
   "execution_count": 110,
   "metadata": {},
   "outputs": [
    {
     "name": "stdout",
     "output_type": "stream",
     "text": [
      "22445\n",
      "Precision is 0.024\n",
      "Recall is 0.642\n",
      "true_positives 562\n",
      "false_positive 22445\n",
      "false_negative 314\n",
      "true_negative 44838\n"
     ]
    }
   ],
   "source": [
    "gd = goalie_data.sample(frac=1)\n",
    "predicted = ml_model.predict(num_pipeline.fit_transform(gd[columns]))\n",
    "gdY = np.array(gd['injured'])\n",
    "true_positives = np.sum((predicted==1)&(gdY==1))\n",
    "false_positives = np.sum((predicted==1)&(gdY==0))\n",
    "true_negatives = np.sum((predicted==0)&(gdY==0))\n",
    "false_negatives = np.sum((predicted==0)&(gdY==1))\n",
    "print(false_positives)\n",
    "print(\"Precision is %0.3f\" % (true_positives/(true_positives+false_positives)))\n",
    "print(\"Recall is %0.3f\" % (true_positives/(true_positives+false_negatives)))\n",
    "\n",
    "print('true_positives',true_positives)\n",
    "print('false_positive',false_positives)\n",
    "print('false_negative',false_negatives)\n",
    "print('true_negative',true_negatives)"
   ]
  },
  {
   "cell_type": "code",
   "execution_count": 111,
   "metadata": {
    "scrolled": false
   },
   "outputs": [
    {
     "data": {
      "image/png": "[encoded data removed]",
      "text/plain": [
       "<Figure size 720x432 with 1 Axes>"
      ]
     },
     "metadata": {
      "needs_background": "light"
     },
     "output_type": "display_data"
    }
   ],
   "source": [
    "fpr,tpr,thresholds = roc_curve(np.array(gd['injured']),\n",
    "                               ml_model.predict_proba(num_pipeline.fit_transform(gd[columns]))[:,1])\n",
    "plt.figure(figsize=(10,6))\n",
    "plt.plot(fpr,tpr,\"b--\",label=\"Logistic Regression: AUC=%0.3f\"%(roc_auc_score(np.array(gd['injured']),ml_model.predict_proba(num_pipeline.fit_transform(gd[columns]))[:,1])))\n",
    "#plt.plot(thresholds,recall[:-1],\"g-\",label=\"recall\")\n",
    "plt.legend()\n",
    "plt.xlabel('False Positive Rate')\n",
    "plt.ylabel('True Positive Rate')\n",
    "plt.title('ROC for ALL The Data',font='Garamond',fontsize=32,pad = 15)\n",
    "plt.savefig('ROCforAlltheData.png')\n",
    "plt.show()"
   ]
  },
  {
   "cell_type": "code",
   "execution_count": 113,
   "metadata": {
    "scrolled": true
   },
   "outputs": [
    {
     "name": "stdout",
     "output_type": "stream",
     "text": [
      "Trial 0.00:Identified 876 of 876, Precision of 0.013 and Recall of 1.00.  TP:876,FP:67283\n",
      "Trial 0.20:Identified 876 of 876, Precision of 0.013 and Recall of 1.00.  TP:876,FP:67210\n",
      "Trial 0.40:Identified 854 of 876, Precision of 0.014 and Recall of 0.97.  TP:854,FP:58401\n",
      "Trial 0.60:Identified 334 of 876, Precision of 0.031 and Recall of 0.38.  TP:334,FP:10296\n",
      "Trial 0.80:Identified 66 of 876, Precision of 0.036 and Recall of 0.08.  TP:66,FP:1784\n"
     ]
    }
   ],
   "source": [
    "ypred = ml_model.predict_proba(num_pipeline.fit_transform(gd[columns]))[:,1]\n",
    "yreal = np.array(gd['injured'])\n",
    "for m in np.arange(0,1,.2):\n",
    "    tp = ((ypred>=m)&(yreal==1)).sum()\n",
    "    fp = ((ypred>=m)&(yreal==0)).sum()\n",
    "    fn = ((ypred<=m)&(yreal==1)).sum()\n",
    "\n",
    "    print(\"Trial %0.2f:Identified %s of %s, Precision of %0.3f and Recall of %0.2f.  TP:%d,FP:%d\"%(m,tp,yreal.sum(),tp/(tp+fp),tp/(tp+fn),tp,fp))"
   ]
  },
  {
   "cell_type": "code",
   "execution_count": null,
   "metadata": {},
   "outputs": [],
   "source": [
    "ypred = ran_for.predict_proba(num_pipeline.fit_transform(gd[columns]))[:,1]\n",
    "yreal = np.array(gd['injured'])\n",
    "rg = np.random.random(gd.shape[0])\n",
    "tp = ((rg<.0127)&(yreal==1)).sum()\n",
    "fp = ((rg<.0127)&(yreal==0)).sum()\n",
    "fn = ((rg>.0127)&(yreal==1)).sum()\n",
    "\n",
    "print(\"Identified %s of %s, Precision of %0.3f and Recall of %0.3f.  TP:%d,FP:%d\"%(tp,yreal.sum(),tp/(tp+fp),tp/(tp+fn),tp,fp))"
   ]
  },
  {
   "cell_type": "code",
   "execution_count": null,
   "metadata": {},
   "outputs": [],
   "source": [
    "ml_model = LogisticRegression()\n",
    "b = 1 #balance factor\n",
    "#randomise the no injury data\n",
    "data = goalie_data_inj[goalie_data_inj['injured']==0].sample(frac=1)\n",
    "data = data.append(goalie_data_inj[goalie_data_inj['injured']==1])\n",
    "mask = (np.random.rand(data.shape[0]) < 0.8)\n",
    "train = data[mask].sample(frac=1)\n",
    "test = data[~mask].sample(frac=1)\n",
    "\n",
    "#create pipeline for standard scaling\n",
    "#num_pipeline = Pipeline([('std_scaler',StandardScaler())])\n",
    "#select columns to fit\n",
    "#columns = ['age','min_season','rest_days','shots_against','save_pct','min3W','sa3W','svepct3W','pre_inj']\n",
    "#columns = ['age','min_season']\n",
    "columns = ['age','min_season','rest_days','pre_inj']\n",
    "\n",
    "#get training data\n",
    "trainX = num_pipeline.fit_transform(train[columns])\n",
    "trainY = np.array(train['injured'])\n",
    "testX = num_pipeline.fit_transform(test[columns])\n",
    "testY = np.array(test['injured'])\n",
    "    \n",
    "# values to evaluate\n",
    "k_values = [1, 2, 3, 4, 5, 6, 7]\n",
    "for k in k_values:\n",
    "    # define pipeline\n",
    "    model = LogisticRegression()\n",
    "    over = SMOTE(sampling_strategy=0.1, k_neighbors=k)\n",
    "    under = RandomUnderSampler(sampling_strategy=0.5)\n",
    "    steps = [('over', over), ('under', under),('model', model)]\n",
    "    pipeline = Pipeline(steps=steps)\n",
    "    # evaluate pipeline\n",
    "    cv = RepeatedStratifiedKFold(n_splits=10, n_repeats=3, random_state=1)\n",
    "    scores = cross_val_score(pipeline, trainX, trainY, scoring='roc_auc', cv=cv, n_jobs=-1)\n",
    "    score = np.mean(scores)\n",
    "    print('> k=%d, Mean ROC AUC: %.3f' % (k, score))"
   ]
  },
  {
   "cell_type": "code",
   "execution_count": 83,
   "metadata": {},
   "outputs": [
    {
     "data": {
      "text/plain": [
       "{'anderfr01': 1.2, 'enrotjh01': 1.1, 'mcelhcu01': 1.1}"
      ]
     },
     "execution_count": 83,
     "metadata": {},
     "output_type": "execute_result"
    }
   ],
   "source": [
    "#calculate the risk factor\n",
    "risk('TOR','2016','2017-01-17')"
   ]
  },
  {
   "cell_type": "code",
   "execution_count": null,
   "metadata": {},
   "outputs": [],
   "source": []
  }
 ],
 "metadata": {
  "kernelspec": {
   "display_name": "Python 3",
   "language": "python",
   "name": "python3"
  },
  "language_info": {
   "codemirror_mode": {
    "name": "ipython",
    "version": 3
   },
   "file_extension": ".py",
   "mimetype": "text/x-python",
   "name": "python",
   "nbconvert_exporter": "python",
   "pygments_lexer": "ipython3",
   "version": "3.7.9"
  }
 },
 "nbformat": 4,
 "nbformat_minor": 4
}
