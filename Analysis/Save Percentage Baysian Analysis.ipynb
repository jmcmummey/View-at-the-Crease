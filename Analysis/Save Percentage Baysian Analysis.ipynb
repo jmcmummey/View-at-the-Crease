{
 "cells": [
  {
   "cell_type": "code",
   "execution_count": 228,
   "metadata": {},
   "outputs": [],
   "source": [
    "import pandas as pd\n",
    "import numpy as np\n",
    "import os\n",
    "from datetime import datetime as dt, timedelta\n",
    "from dateutil.relativedelta import *\n",
    "import re\n",
    "from matplotlib import pyplot as plt\n",
    "import seaborn as sns\n",
    "import sqlite3\n",
    "import scipy.stats as stats\n",
    "import pymc3 as pm\n",
    "%matplotlib inline\n",
    "from IPython.core.pylabtools import figsize"
   ]
  },
  {
   "cell_type": "markdown",
   "metadata": {},
   "source": [
    "<h3>SQLite Handling functions</h3>\n",
    "<p>Use Pandas to import dataframe into SQLlite</p>"
   ]
  },
  {
   "cell_type": "code",
   "execution_count": 229,
   "metadata": {},
   "outputs": [],
   "source": [
    "DB = \"..\\\\Data\\\\hockey_data_goalies.db\"\n",
    "\n",
    "#SQL Handle functions\n",
    "def run_query(q):\n",
    "    with sqlite3.connect(DB) as conn:\n",
    "        x = pd.read_sql(q,conn)\n",
    "    return x\n",
    "   \n",
    "#send command\n",
    "def run_command(c):\n",
    "    with sqlite3.connect(DB) as conn:\n",
    "        conn.isolation_level = None\n",
    "        return conn.execute(c)\n",
    "    \n",
    "#show tables\n",
    "def show_tables():\n",
    "    r = \"\"\"\n",
    "    Select name,type\n",
    "    FROM sqlite_master\n",
    "    WHERE type in (\"table\",\"view\");\n",
    "        \"\"\"\n",
    "    return run_query(r)"
   ]
  },
  {
   "cell_type": "markdown",
   "metadata": {},
   "source": [
    "<h2>Determine the Prior Distribution</h2>"
   ]
  },
  {
   "cell_type": "code",
   "execution_count": 236,
   "metadata": {},
   "outputs": [],
   "source": [
    "def season_finder(date):\n",
    "    if date.month > 8:\n",
    "        return date.year\n",
    "    else:\n",
    "        return date.year-1\n",
    " \n",
    "\n",
    "#get player logs for the last 3 years\n",
    "\n",
    "q = \"\"\"SELECT * \n",
    "        FROM player_log \n",
    "        WHERE (CAST(SUBSTR(date_game,1,4) AS FLOAT)+CAST(SUBSTR(date_game,6,7) AS FLOAT)/12) > {0}\n",
    "        AND (CAST(SUBSTR(date_game,1,4) AS FLOAT)+CAST(SUBSTR(date_game,6,7) AS FLOAT)/12) < {1}\n",
    "        \"\"\".format(2000.66,2015.66)\n",
    "games = run_query(q)\n",
    "games['date_game'] = games['date_game'].astype('datetime64') #convert to datetime\n",
    "games['time_on_ice'] = games['time_on_ice'].str.extract(r'(\\d*)\\:\\d*')[0].astype(int)+games['time_on_ice'].str.extract(r'\\d*\\:(\\d*)')[0].astype(int)/60\n",
    "games['season'] = games['date_game'].map(lambda x: season_finder(x))\n",
    "gamesgb = games.groupby(['player_id','season']).sum()\n",
    "#remove players who've played less than 60 minutes in a season\n",
    "gamesgb = gamesgb[gamesgb['time_on_ice']>120]\n",
    "gamesgb['save_pct'] = gamesgb['saves']/gamesgb['shots_against']"
   ]
  },
  {
   "cell_type": "code",
   "execution_count": 311,
   "metadata": {},
   "outputs": [
    {
     "name": "stdout",
     "output_type": "stream",
     "text": [
      "231.13871532909513 24.219492250631745 0 1\n"
     ]
    },
    {
     "data": {
      "image/png": "[encoded data removed]",
      "text/plain": [
       "<Figure size 432x288 with 1 Axes>"
      ]
     },
     "metadata": {
      "needs_background": "light"
     },
     "output_type": "display_data"
    }
   ],
   "source": [
    "data = gamesgb['save_pct'].to_list()\n",
    "\n",
    "bin_no = 25\n",
    "\n",
    "\n",
    "a,b,loc,scale = stats.distributions.beta.fit(data,floc=0,fscale=1)\n",
    "\n",
    "print(a,b,loc,scale)\n",
    "\n",
    "x = np.linspace(0.7,1,100)\n",
    "\n",
    "fitted_data = stats.distributions.beta.pdf(x,a,b,loc,scale)\n",
    "\n",
    "plt.hist(gamesgb['save_pct'].to_list(), bins = bin_no,density=True)\n",
    "plt.plot(x,fitted_data,'r-')\n",
    "plt.show()"
   ]
  },
  {
   "cell_type": "code",
   "execution_count": 438,
   "metadata": {},
   "outputs": [],
   "source": [
    "#pick a player for the season...\n",
    "q = \"\"\"SELECT pl.player,log.*\n",
    "        FROM player_log log\n",
    "        LEFT JOIN player_list pl ON pl.unique_id= log.player_id\n",
    "        WHERE (CAST(SUBSTR(date_game,1,4) AS FLOAT)+CAST(SUBSTR(date_game,6,7) AS FLOAT)/12) > {0}\n",
    "        AND (CAST(SUBSTR(date_game,1,4) AS FLOAT)+CAST(SUBSTR(date_game,6,7) AS FLOAT)/12) < {1}\n",
    "        AND team_id =\"TOR\"\n",
    "        \"\"\".format(2016.66,2017.66)\n",
    "tor = run_query(q)\n",
    "tor['time_on_ice'] = tor['time_on_ice'].str.extract(r'(\\d*)\\:\\d*')[0].astype(int)+tor['time_on_ice'].str.extract(r'\\d*\\:(\\d*)')[0].astype(int)/60"
   ]
  },
  {
   "cell_type": "code",
   "execution_count": 441,
   "metadata": {},
   "outputs": [
    {
     "data": {
      "text/html": [
       "<div>\n",
       "<style scoped>\n",
       "    .dataframe tbody tr th:only-of-type {\n",
       "        vertical-align: middle;\n",
       "    }\n",
       "\n",
       "    .dataframe tbody tr th {\n",
       "        vertical-align: top;\n",
       "    }\n",
       "\n",
       "    .dataframe thead th {\n",
       "        text-align: right;\n",
       "    }\n",
       "</style>\n",
       "<table border=\"1\" class=\"dataframe\">\n",
       "  <thead>\n",
       "    <tr style=\"text-align: right;\">\n",
       "      <th></th>\n",
       "      <th>goals_against</th>\n",
       "      <th>shots_against</th>\n",
       "      <th>saves</th>\n",
       "      <th>save_pct</th>\n",
       "      <th>shutouts</th>\n",
       "      <th>pen_min</th>\n",
       "      <th>time_on_ice</th>\n",
       "      <th>injured</th>\n",
       "    </tr>\n",
       "    <tr>\n",
       "      <th>player</th>\n",
       "      <th></th>\n",
       "      <th></th>\n",
       "      <th></th>\n",
       "      <th></th>\n",
       "      <th></th>\n",
       "      <th></th>\n",
       "      <th></th>\n",
       "      <th></th>\n",
       "    </tr>\n",
       "  </thead>\n",
       "  <tbody>\n",
       "    <tr>\n",
       "      <th>Curtis McElhinney</th>\n",
       "      <td>36</td>\n",
       "      <td>418</td>\n",
       "      <td>382</td>\n",
       "      <td>0.913876</td>\n",
       "      <td>1</td>\n",
       "      <td>0</td>\n",
       "      <td>758.733333</td>\n",
       "      <td>0</td>\n",
       "    </tr>\n",
       "    <tr>\n",
       "      <th>Frederik Andersen</th>\n",
       "      <td>169</td>\n",
       "      <td>2052</td>\n",
       "      <td>1883</td>\n",
       "      <td>0.917641</td>\n",
       "      <td>4</td>\n",
       "      <td>16</td>\n",
       "      <td>3799.333333</td>\n",
       "      <td>2</td>\n",
       "    </tr>\n",
       "    <tr>\n",
       "      <th>Jhonas Enroth</th>\n",
       "      <td>18</td>\n",
       "      <td>141</td>\n",
       "      <td>123</td>\n",
       "      <td>0.872340</td>\n",
       "      <td>0</td>\n",
       "      <td>0</td>\n",
       "      <td>274.433333</td>\n",
       "      <td>0</td>\n",
       "    </tr>\n",
       "  </tbody>\n",
       "</table>\n",
       "</div>"
      ],
      "text/plain": [
       "                   goals_against  shots_against  saves  save_pct  shutouts  \\\n",
       "player                                                                       \n",
       "Curtis McElhinney             36            418    382  0.913876         1   \n",
       "Frederik Andersen            169           2052   1883  0.917641         4   \n",
       "Jhonas Enroth                 18            141    123  0.872340         0   \n",
       "\n",
       "                   pen_min  time_on_ice  injured  \n",
       "player                                            \n",
       "Curtis McElhinney        0   758.733333        0  \n",
       "Frederik Andersen       16  3799.333333        2  \n",
       "Jhonas Enroth            0   274.433333        0  "
      ]
     },
     "execution_count": 441,
     "metadata": {},
     "output_type": "execute_result"
    }
   ],
   "source": [
    "torgb = tor.groupby('player').sum()\n",
    "torgb['save_pct'] = torgb['saves']/torgb['shots_against']\n",
    "torgb.iloc[:,1:]"
   ]
  },
  {
   "cell_type": "code",
   "execution_count": 314,
   "metadata": {},
   "outputs": [
    {
     "data": {
      "image/png": "[encoded data removed]",
      "text/plain": [
       "<Figure size 432x288 with 1 Axes>"
      ]
     },
     "metadata": {
      "needs_background": "light"
     },
     "output_type": "display_data"
    }
   ],
   "source": [
    "x = np.linspace(0.6,1,100)\n",
    "\n",
    "for i in torgb.index:\n",
    "    plt.plot(x,stats.distributions.beta.pdf(x,a+torgb.loc[i,'saves'],b+torgb.loc[i,'goals_against'],loc,scale),label=i)\n",
    "    stats.distributions.beta.rvs(x,a+torgb.loc[i,'saves'],b+torgb.loc[i,'goals_against'],loc,scale)\n",
    "plt.show()"
   ]
  },
  {
   "cell_type": "code",
   "execution_count": null,
   "metadata": {},
   "outputs": [],
   "source": [
    "def goaliemc(team,year):\n",
    "    \"\"\"\n",
    "    \n",
    "    \"\"\"\n",
    "    a = 231.14\n",
    "    b = 24.2\n",
    "    \n",
    "    #pick a player for the season...\n",
    "    q = \"\"\"SELECT pl.player,log.*\n",
    "        FROM player_log log\n",
    "        LEFT JOIN player_list pl ON pl.unique_id= log.player_id\n",
    "        WHERE (CAST(SUBSTR(date_game,1,4) AS FLOAT)+CAST(SUBSTR(date_game,6,7) AS FLOAT)/12) > {0}\n",
    "        AND (CAST(SUBSTR(date_game,1,4) AS FLOAT)+CAST(SUBSTR(date_game,6,7) AS FLOAT)/12) < {1}\n",
    "        AND team_id =\"TOR\"\n",
    "        \"\"\".format(2016.66,2017.66)"
   ]
  },
  {
   "cell_type": "code",
   "execution_count": 444,
   "metadata": {},
   "outputs": [
    {
     "name": "stdout",
     "output_type": "stream",
     "text": [
      "21\n"
     ]
    }
   ],
   "source": [
    "date = '2017-01-21'\n",
    "team = 'TOR'\n",
    "year = 2016\n",
    "a = 231.14\n",
    "b = 24.2\n",
    "loc=0\n",
    "scale=1\n",
    "#pick a player for the season...\n",
    "q = \"\"\"SELECT *\n",
    "    FROM team_log\n",
    "    WHERE (CAST(SUBSTR(date_game,1,4) AS FLOAT)+CAST(SUBSTR(date_game,6,7) AS FLOAT)/12) > {1}\n",
    "    AND (CAST(SUBSTR(date_game,1,4) AS FLOAT)+CAST(SUBSTR(date_game,6,7) AS FLOAT)/12) < {2}\n",
    "    AND team_id =\"{0}\"\n",
    "    \"\"\".format(team,year+.66,year+1.66)\n",
    "games = run_query(q)\n",
    "pregames = games[games['date_game']<date]\n",
    "no_games = pregames.shape[0]\n",
    "games_won = print((pregames['game_outcome']=='W').sum())"
   ]
  },
  {
   "cell_type": "code",
   "execution_count": 434,
   "metadata": {},
   "outputs": [
    {
     "name": "stdout",
     "output_type": "stream",
     "text": [
      "Curtis McElhinney allows -0.04 more goals per game resulting in 0 more wins\n",
      "Frederik Andersen allows -0.23 more goals per game resulting in 1 more wins\n",
      "Jhonas Enroth allows 0.52 more goals per game resulting in -5 more wins\n"
     ]
    }
   ],
   "source": [
    "q = \"\"\"SELECT *\n",
    "    FROM team_log\n",
    "    WHERE (CAST(SUBSTR(date_game,1,4) AS FLOAT)+CAST(SUBSTR(date_game,6,7) AS FLOAT)/12) > {1}\n",
    "    AND (CAST(SUBSTR(date_game,1,4) AS FLOAT)+CAST(SUBSTR(date_game,6,7) AS FLOAT)/12) < {2}\n",
    "    AND team_id =\"{0}\"\n",
    "    \"\"\".format(team,year+.66,year+1.66)\n",
    "games = run_query(q)\n",
    "pregames = games[games['date_game']<date]\n",
    "no_games = pregames.shape[0]\n",
    "games_won = print((pregames['game_outcome']=='W').sum())\n",
    "for i in torgb.index:\n",
    "    result = 0\n",
    "    wins = 0\n",
    "    tot_mc = int(50000/no_games)\n",
    "    for x in range(tot_mc):\n",
    "        result += sum(pregames['shots_against']*(1-stats.distributions.beta.rvs(231.14+torgb.loc[i,'saves'],24.2+torgb.loc[i,'goals_against'],0,1,no_games))-pregames['opp_goals'])\n",
    "        wins += sum(np.round(pregames['shots_against']*(1-stats.distributions.beta.rvs(231.14+torgb.loc[i,'saves'],24.2+torgb.loc[i,'goals_against'],0,1,no_games)),0)<pregames['goals'])\n",
    "\n",
    "    print(\"%s allows %0.2f more goals per game resulting in %d more wins\" % (i,result/(50000),wins/(tot_mc)-21))"
   ]
  },
  {
   "cell_type": "code",
   "execution_count": 500,
   "metadata": {},
   "outputs": [],
   "source": [
    "team_value = \"TOR\"\n",
    "year_value = \"2016\"\n",
    "date_game = '2017-01-21'\n",
    "q = (\"\"\"WITH goalies as \n",
    "        (SELECT player_id,\n",
    "                SUM(goals_against) GA,\n",
    "                SUM(saves) SAVES,\n",
    "                SUM(CAST(SUBSTR(time_on_ice,1,2) AS INT)) TOI,\n",
    "                ROUND(1-CAST(SUM(goals_against) AS FLOAT)/CAST(SUM(saves)+ SUM(goals_against) as FLOAT),3) SPCT\n",
    "        FROM player_log pl\n",
    "        WHERE team_id=\\\"{0}\\\"\n",
    "        AND (CAST(SUBSTR(date_game,1,4) AS FLOAT)+CAST(SUBSTR(date_game,6,7) AS FLOAT)/12) > {1}\n",
    "        AND date_game < \\\"{2}\\\"\n",
    "        GROUP BY player_id)\n",
    "        \n",
    "        SELECT pl.*, g.GA, g.SAVES, g.SPCT, g.TOI\n",
    "        FROM goalies g\n",
    "        LEFT JOIN player_list pl ON pl.unique_id=g.player_id\"\"\".format(team_value,int(year_value) + .66,date_game))\n",
    "active_players = run_query(q)\n",
    "active_players_T = active_players.transpose()\n",
    "active_players_T.columns = active_players_T.loc['player']\n",
    "active_players_T.drop(['unique_id','player'],inplace=True)\n",
    "active_players_T = active_players_T.iloc[2:,:]\n",
    "active_players_T.index = ['Height(cm)','Weight(kg)','Total Games','Goals Allowed','Saves','SV%','Minutes']\n",
    "active_players_T.reset_index(inplace=True)\n",
    "active_players_T = active_players_T.rename(columns={'index':\"Stat\"})"
   ]
  },
  {
   "cell_type": "code",
   "execution_count": 503,
   "metadata": {},
   "outputs": [
    {
     "data": {
      "text/html": [
       "<div>\n",
       "<style scoped>\n",
       "    .dataframe tbody tr th:only-of-type {\n",
       "        vertical-align: middle;\n",
       "    }\n",
       "\n",
       "    .dataframe tbody tr th {\n",
       "        vertical-align: top;\n",
       "    }\n",
       "\n",
       "    .dataframe thead th {\n",
       "        text-align: right;\n",
       "    }\n",
       "</style>\n",
       "<table border=\"1\" class=\"dataframe\">\n",
       "  <thead>\n",
       "    <tr style=\"text-align: right;\">\n",
       "      <th>player</th>\n",
       "      <th>Stat</th>\n",
       "      <th>Frederik Andersen</th>\n",
       "      <th>Jhonas Enroth</th>\n",
       "      <th>Curtis McElhinney</th>\n",
       "    </tr>\n",
       "  </thead>\n",
       "  <tbody>\n",
       "    <tr>\n",
       "      <th>0</th>\n",
       "      <td>Height(cm)</td>\n",
       "      <td>193</td>\n",
       "      <td>178</td>\n",
       "      <td>188</td>\n",
       "    </tr>\n",
       "    <tr>\n",
       "      <th>1</th>\n",
       "      <td>Weight(kg)</td>\n",
       "      <td>104</td>\n",
       "      <td>79</td>\n",
       "      <td>92</td>\n",
       "    </tr>\n",
       "    <tr>\n",
       "      <th>2</th>\n",
       "      <td>Total Games</td>\n",
       "      <td>369</td>\n",
       "      <td>153</td>\n",
       "      <td>237</td>\n",
       "    </tr>\n",
       "    <tr>\n",
       "      <th>3</th>\n",
       "      <td>Goals Allowed</td>\n",
       "      <td>97</td>\n",
       "      <td>18</td>\n",
       "      <td>2</td>\n",
       "    </tr>\n",
       "    <tr>\n",
       "      <th>4</th>\n",
       "      <td>Saves</td>\n",
       "      <td>1080</td>\n",
       "      <td>123</td>\n",
       "      <td>35</td>\n",
       "    </tr>\n",
       "    <tr>\n",
       "      <th>5</th>\n",
       "      <td>SV%</td>\n",
       "      <td>0.918</td>\n",
       "      <td>0.872</td>\n",
       "      <td>0.946</td>\n",
       "    </tr>\n",
       "    <tr>\n",
       "      <th>6</th>\n",
       "      <td>Minutes</td>\n",
       "      <td>2132</td>\n",
       "      <td>272</td>\n",
       "      <td>60</td>\n",
       "    </tr>\n",
       "  </tbody>\n",
       "</table>\n",
       "</div>"
      ],
      "text/plain": [
       "player           Stat Frederik Andersen Jhonas Enroth Curtis McElhinney\n",
       "0          Height(cm)               193           178               188\n",
       "1          Weight(kg)               104            79                92\n",
       "2         Total Games               369           153               237\n",
       "3       Goals Allowed                97            18                 2\n",
       "4               Saves              1080           123                35\n",
       "5                 SV%             0.918         0.872             0.946\n",
       "6             Minutes              2132           272                60"
      ]
     },
     "execution_count": 503,
     "metadata": {},
     "output_type": "execute_result"
    }
   ],
   "source": [
    "active_players_T"
   ]
  },
  {
   "cell_type": "code",
   "execution_count": null,
   "metadata": {},
   "outputs": [],
   "source": []
  }
 ],
 "metadata": {
  "kernelspec": {
   "display_name": "Python 3",
   "language": "python",
   "name": "python3"
  },
  "language_info": {
   "codemirror_mode": {
    "name": "ipython",
    "version": 3
   },
   "file_extension": ".py",
   "mimetype": "text/x-python",
   "name": "python",
   "nbconvert_exporter": "python",
   "pygments_lexer": "ipython3",
   "version": "3.7.9"
  }
 },
 "nbformat": 4,
 "nbformat_minor": 4
}
