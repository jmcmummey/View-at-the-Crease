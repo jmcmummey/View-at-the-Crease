{
 "cells": [
  {
   "cell_type": "markdown",
   "metadata": {},
   "source": [
    "<h1>Revisiting the ML model to refine the feature set to make the output more meaningful</h1>\n",
    "<p>This notebook looks at factors influencing goalie performance (save percentage) and the injury (via t_tests) implementing them in a random forest ml model</p>"
   ]
  },
  {
   "cell_type": "code",
   "execution_count": 96,
   "metadata": {},
   "outputs": [],
   "source": [
    "import pandas as pd\n",
    "import numpy as np\n",
    "import os\n",
    "from datetime import datetime as dt, timedelta\n",
    "from dateutil.relativedelta import *\n",
    "import re\n",
    "from matplotlib import pyplot as plt\n",
    "import seaborn as sns\n",
    "from scipy.stats import stats\n",
    "import sqlite3\n",
    "from joblib import dump, load\n",
    "pd.set_option('display.max_rows', 500)"
   ]
  },
  {
   "cell_type": "markdown",
   "metadata": {},
   "source": [
    "<h3>SQLite Handling functions</h3>\n",
    "<p>Use Pandas to import dataframe into SQLlite</p>"
   ]
  },
  {
   "cell_type": "code",
   "execution_count": 97,
   "metadata": {},
   "outputs": [],
   "source": [
    "DB = \"../assests/hockey_data_goalies.db\"\n",
    "\n",
    "#SQL Handle functions\n",
    "def run_query(q):\n",
    "    with sqlite3.connect(DB) as conn:\n",
    "        x = pd.read_sql(q,conn)\n",
    "    return x\n",
    "   \n",
    "#send command\n",
    "def run_command(c):\n",
    "    with sqlite3.connect(DB) as conn:\n",
    "        conn.isolation_level = None\n",
    "        return conn.execute(c)\n",
    "    \n",
    "#show tables\n",
    "def show_tables():\n",
    "    r = \"\"\"\n",
    "    Select name,type\n",
    "    FROM sqlite_master\n",
    "    WHERE type in (\"table\",\"view\");\n",
    "        \"\"\"\n",
    "    return run_query(r)"
   ]
  },
  {
   "cell_type": "markdown",
   "metadata": {},
   "source": [
    "<h2>Get the training Data</h2>"
   ]
  },
  {
   "cell_type": "code",
   "execution_count": 98,
   "metadata": {},
   "outputs": [
    {
     "data": {
      "text/html": [
       "<div>\n",
       "<style scoped>\n",
       "    .dataframe tbody tr th:only-of-type {\n",
       "        vertical-align: middle;\n",
       "    }\n",
       "\n",
       "    .dataframe tbody tr th {\n",
       "        vertical-align: top;\n",
       "    }\n",
       "\n",
       "    .dataframe thead th {\n",
       "        text-align: right;\n",
       "    }\n",
       "</style>\n",
       "<table border=\"1\" class=\"dataframe\">\n",
       "  <thead>\n",
       "    <tr style=\"text-align: right;\">\n",
       "      <th></th>\n",
       "      <th>player_id</th>\n",
       "      <th>team_id</th>\n",
       "      <th>opp_id</th>\n",
       "      <th>date_game</th>\n",
       "      <th>age</th>\n",
       "      <th>rest_days</th>\n",
       "      <th>min_season</th>\n",
       "      <th>shots_against</th>\n",
       "      <th>save_pct</th>\n",
       "      <th>min3W</th>\n",
       "      <th>sa3W</th>\n",
       "      <th>svepct3W</th>\n",
       "      <th>future_save_pct</th>\n",
       "      <th>pre_inj</th>\n",
       "      <th>injured</th>\n",
       "    </tr>\n",
       "  </thead>\n",
       "  <tbody>\n",
       "    <tr>\n",
       "      <th>0</th>\n",
       "      <td>aebisda01</td>\n",
       "      <td>COL</td>\n",
       "      <td>CHI</td>\n",
       "      <td>2000-10-26</td>\n",
       "      <td>22.718</td>\n",
       "      <td>8</td>\n",
       "      <td>60.000000</td>\n",
       "      <td>21</td>\n",
       "      <td>0.952</td>\n",
       "      <td>60.000000</td>\n",
       "      <td>21</td>\n",
       "      <td>0.952381</td>\n",
       "      <td>1.000</td>\n",
       "      <td>0</td>\n",
       "      <td>0</td>\n",
       "    </tr>\n",
       "    <tr>\n",
       "      <th>1</th>\n",
       "      <td>aebisda01</td>\n",
       "      <td>COL</td>\n",
       "      <td>CAR</td>\n",
       "      <td>2000-11-03</td>\n",
       "      <td>22.740</td>\n",
       "      <td>8</td>\n",
       "      <td>120.000000</td>\n",
       "      <td>39</td>\n",
       "      <td>0.974</td>\n",
       "      <td>120.000000</td>\n",
       "      <td>39</td>\n",
       "      <td>0.974359</td>\n",
       "      <td>0.885</td>\n",
       "      <td>0</td>\n",
       "      <td>0</td>\n",
       "    </tr>\n",
       "    <tr>\n",
       "      <th>2</th>\n",
       "      <td>aebisda01</td>\n",
       "      <td>COL</td>\n",
       "      <td>MDA</td>\n",
       "      <td>2000-11-11</td>\n",
       "      <td>22.762</td>\n",
       "      <td>8</td>\n",
       "      <td>180.000000</td>\n",
       "      <td>65</td>\n",
       "      <td>0.938</td>\n",
       "      <td>120.000000</td>\n",
       "      <td>44</td>\n",
       "      <td>0.931818</td>\n",
       "      <td>0.947</td>\n",
       "      <td>0</td>\n",
       "      <td>0</td>\n",
       "    </tr>\n",
       "    <tr>\n",
       "      <th>3</th>\n",
       "      <td>aebisda01</td>\n",
       "      <td>COL</td>\n",
       "      <td>PHX</td>\n",
       "      <td>2000-11-16</td>\n",
       "      <td>22.775</td>\n",
       "      <td>5</td>\n",
       "      <td>240.000000</td>\n",
       "      <td>84</td>\n",
       "      <td>0.940</td>\n",
       "      <td>120.000000</td>\n",
       "      <td>45</td>\n",
       "      <td>0.911111</td>\n",
       "      <td>0.786</td>\n",
       "      <td>0</td>\n",
       "      <td>0</td>\n",
       "    </tr>\n",
       "    <tr>\n",
       "      <th>4</th>\n",
       "      <td>aebisda01</td>\n",
       "      <td>COL</td>\n",
       "      <td>NJD</td>\n",
       "      <td>2000-12-05</td>\n",
       "      <td>22.827</td>\n",
       "      <td>19</td>\n",
       "      <td>299.916667</td>\n",
       "      <td>112</td>\n",
       "      <td>0.902</td>\n",
       "      <td>59.916667</td>\n",
       "      <td>28</td>\n",
       "      <td>0.785714</td>\n",
       "      <td>0.818</td>\n",
       "      <td>0</td>\n",
       "      <td>0</td>\n",
       "    </tr>\n",
       "    <tr>\n",
       "      <th>...</th>\n",
       "      <td>...</td>\n",
       "      <td>...</td>\n",
       "      <td>...</td>\n",
       "      <td>...</td>\n",
       "      <td>...</td>\n",
       "      <td>...</td>\n",
       "      <td>...</td>\n",
       "      <td>...</td>\n",
       "      <td>...</td>\n",
       "      <td>...</td>\n",
       "      <td>...</td>\n",
       "      <td>...</td>\n",
       "      <td>...</td>\n",
       "      <td>...</td>\n",
       "      <td>...</td>\n",
       "    </tr>\n",
       "    <tr>\n",
       "      <th>68154</th>\n",
       "      <td>zatkoje01</td>\n",
       "      <td>LAK</td>\n",
       "      <td>DAL</td>\n",
       "      <td>2016-12-23</td>\n",
       "      <td>29.540</td>\n",
       "      <td>8</td>\n",
       "      <td>341.316667</td>\n",
       "      <td>145</td>\n",
       "      <td>0.890</td>\n",
       "      <td>124.266667</td>\n",
       "      <td>39</td>\n",
       "      <td>0.871795</td>\n",
       "      <td>0.903</td>\n",
       "      <td>1</td>\n",
       "      <td>0</td>\n",
       "    </tr>\n",
       "    <tr>\n",
       "      <th>68155</th>\n",
       "      <td>zatkoje01</td>\n",
       "      <td>LAK</td>\n",
       "      <td>DET</td>\n",
       "      <td>2017-01-05</td>\n",
       "      <td>29.575</td>\n",
       "      <td>13</td>\n",
       "      <td>402.433333</td>\n",
       "      <td>176</td>\n",
       "      <td>0.892</td>\n",
       "      <td>61.116667</td>\n",
       "      <td>31</td>\n",
       "      <td>0.903226</td>\n",
       "      <td>0.818</td>\n",
       "      <td>1</td>\n",
       "      <td>0</td>\n",
       "    </tr>\n",
       "    <tr>\n",
       "      <th>68156</th>\n",
       "      <td>zatkoje01</td>\n",
       "      <td>LAK</td>\n",
       "      <td>DAL</td>\n",
       "      <td>2017-01-09</td>\n",
       "      <td>29.586</td>\n",
       "      <td>4</td>\n",
       "      <td>462.433333</td>\n",
       "      <td>198</td>\n",
       "      <td>0.884</td>\n",
       "      <td>121.116667</td>\n",
       "      <td>53</td>\n",
       "      <td>0.867925</td>\n",
       "      <td>1.000</td>\n",
       "      <td>1</td>\n",
       "      <td>0</td>\n",
       "    </tr>\n",
       "    <tr>\n",
       "      <th>68157</th>\n",
       "      <td>zatkoje01</td>\n",
       "      <td>LAK</td>\n",
       "      <td>NYR</td>\n",
       "      <td>2017-01-23</td>\n",
       "      <td>29.625</td>\n",
       "      <td>14</td>\n",
       "      <td>471.200000</td>\n",
       "      <td>201</td>\n",
       "      <td>0.886</td>\n",
       "      <td>68.766667</td>\n",
       "      <td>25</td>\n",
       "      <td>0.840000</td>\n",
       "      <td>0.824</td>\n",
       "      <td>1</td>\n",
       "      <td>0</td>\n",
       "    </tr>\n",
       "    <tr>\n",
       "      <th>68158</th>\n",
       "      <td>zatkoje01</td>\n",
       "      <td>LAK</td>\n",
       "      <td>WSH</td>\n",
       "      <td>2017-02-05</td>\n",
       "      <td>29.660</td>\n",
       "      <td>13</td>\n",
       "      <td>530.400000</td>\n",
       "      <td>218</td>\n",
       "      <td>0.881</td>\n",
       "      <td>59.200000</td>\n",
       "      <td>17</td>\n",
       "      <td>0.823529</td>\n",
       "      <td>0.800</td>\n",
       "      <td>1</td>\n",
       "      <td>0</td>\n",
       "    </tr>\n",
       "  </tbody>\n",
       "</table>\n",
       "<p>68159 rows × 15 columns</p>\n",
       "</div>"
      ],
      "text/plain": [
       "       player_id team_id opp_id   date_game     age  rest_days  min_season  \\\n",
       "0      aebisda01     COL    CHI  2000-10-26  22.718          8   60.000000   \n",
       "1      aebisda01     COL    CAR  2000-11-03  22.740          8  120.000000   \n",
       "2      aebisda01     COL    MDA  2000-11-11  22.762          8  180.000000   \n",
       "3      aebisda01     COL    PHX  2000-11-16  22.775          5  240.000000   \n",
       "4      aebisda01     COL    NJD  2000-12-05  22.827         19  299.916667   \n",
       "...          ...     ...    ...         ...     ...        ...         ...   \n",
       "68154  zatkoje01     LAK    DAL  2016-12-23  29.540          8  341.316667   \n",
       "68155  zatkoje01     LAK    DET  2017-01-05  29.575         13  402.433333   \n",
       "68156  zatkoje01     LAK    DAL  2017-01-09  29.586          4  462.433333   \n",
       "68157  zatkoje01     LAK    NYR  2017-01-23  29.625         14  471.200000   \n",
       "68158  zatkoje01     LAK    WSH  2017-02-05  29.660         13  530.400000   \n",
       "\n",
       "       shots_against  save_pct       min3W  sa3W  svepct3W  future_save_pct  \\\n",
       "0                 21     0.952   60.000000    21  0.952381            1.000   \n",
       "1                 39     0.974  120.000000    39  0.974359            0.885   \n",
       "2                 65     0.938  120.000000    44  0.931818            0.947   \n",
       "3                 84     0.940  120.000000    45  0.911111            0.786   \n",
       "4                112     0.902   59.916667    28  0.785714            0.818   \n",
       "...              ...       ...         ...   ...       ...              ...   \n",
       "68154            145     0.890  124.266667    39  0.871795            0.903   \n",
       "68155            176     0.892   61.116667    31  0.903226            0.818   \n",
       "68156            198     0.884  121.116667    53  0.867925            1.000   \n",
       "68157            201     0.886   68.766667    25  0.840000            0.824   \n",
       "68158            218     0.881   59.200000    17  0.823529            0.800   \n",
       "\n",
       "       pre_inj  injured  \n",
       "0            0        0  \n",
       "1            0        0  \n",
       "2            0        0  \n",
       "3            0        0  \n",
       "4            0        0  \n",
       "...        ...      ...  \n",
       "68154        1        0  \n",
       "68155        1        0  \n",
       "68156        1        0  \n",
       "68157        1        0  \n",
       "68158        1        0  \n",
       "\n",
       "[68159 rows x 15 columns]"
      ]
     },
     "execution_count": 98,
     "metadata": {},
     "output_type": "execute_result"
    }
   ],
   "source": [
    "#import data\n",
    "goalie_data =pd.read_csv('advancedgoaliestats_withadditionalgoalies.csv')\n",
    "goalie_data.drop(columns=['Unnamed: 0'],inplace=True)\n",
    "goalie_data"
   ]
  },
  {
   "cell_type": "code",
   "execution_count": 33,
   "metadata": {},
   "outputs": [],
   "source": [
    "from sklearn.metrics import mean_squared_error as mse\n",
    "from sklearn.model_selection import cross_validate as CV\n",
    "from sklearn.pipeline import Pipeline\n",
    "from sklearn.preprocessing import StandardScaler\n",
    "from sklearn.preprocessing import OneHotEncoder\n",
    "from sklearn.linear_model import LinearRegression\n",
    "from sklearn.ensemble import RandomForestClassifier\n",
    "from sklearn.model_selection import cross_val_predict\n",
    "from sklearn.model_selection import cross_val_score\n",
    "from sklearn.metrics import roc_curve\n",
    "from sklearn.metrics import precision_recall_curve\n",
    "from sklearn.metrics import roc_auc_score\n",
    "from sklearn.metrics import confusion_matrix\n",
    "from sklearn.linear_model import LogisticRegression\n",
    "\n",
    "from joblib import dump, load"
   ]
  },
  {
   "cell_type": "markdown",
   "metadata": {},
   "source": [
    "<h2>Now Fit</h2>"
   ]
  },
  {
   "cell_type": "code",
   "execution_count": 91,
   "metadata": {
    "scrolled": false
   },
   "outputs": [
    {
     "name": "stdout",
     "output_type": "stream",
     "text": [
      "Precision is 1.00\n",
      "Recall is 1.00\n"
     ]
    },
    {
     "data": {
      "text/plain": [
       "array([[722,   0],\n",
       "       [  0, 708]], dtype=int64)"
      ]
     },
     "execution_count": 91,
     "metadata": {},
     "output_type": "execute_result"
    }
   ],
   "source": [
    "b = 1 #balance factor\n",
    "data = goalie_data[goalie_data['injured']==0].iloc[np.random.randint(0,50000,goalie_data[goalie_data['injured']==1].shape[0]*b),:]\n",
    "data = data.append(goalie_data[goalie_data['injured']==1])\n",
    "mask = (np.random.rand(data.shape[0]) < 0.8)\n",
    "train = data[mask].sample(frac=1)\n",
    "test = data[~mask].sample(frac=1)\n",
    "\n",
    "#create pipeline for standard scaling\n",
    "num_pipeline = Pipeline([('std_scaler',StandardScaler())])\n",
    "#select columns to fit\n",
    "#columns = ['age','min_season','rest_days','shots_against','save_pct','min3W','sa3W','svepct3W','pre_inj']\n",
    "columns = ['age','min_season','rest_days','shots_against','min3W','sa3W','pre_inj']\n",
    "#columns = ['age','min_season','rest_days','pre_inj']\n",
    "\n",
    "#get training data\n",
    "trainX = num_pipeline.fit_transform(train[columns])\n",
    "trainY = np.array(train['injured'])\n",
    "testX = num_pipeline.fit_transform(test[columns])\n",
    "testY = np.array(test['injured'])\n",
    "ran_for = RandomForestClassifier()\n",
    "ran_for.fit(trainX,trainY)\n",
    "\n",
    "#run on training data\n",
    "predicted = ran_for.predict(trainX)\n",
    "true_positives = np.sum((predicted==1)&(trainY==1))\n",
    "false_positives = np.sum((predicted==1)&(trainY==0))\n",
    "true_negatives = np.sum((predicted==0)&(trainY==0))\n",
    "false_negatives = np.sum((predicted==0)&(trainY==1))\n",
    "\n",
    "print(\"Precision is %0.2f\" % (true_positives/(true_positives+false_positives)))\n",
    "print(\"Recall is %0.2f\" % (true_positives/(true_positives+false_negatives)))\n",
    "confusion_matrix(predicted,trainY)"
   ]
  },
  {
   "cell_type": "code",
   "execution_count": 92,
   "metadata": {},
   "outputs": [
    {
     "name": "stdout",
     "output_type": "stream",
     "text": [
      "Precision is 0.68\n",
      "Recall is 0.66\n"
     ]
    },
    {
     "data": {
      "text/plain": [
       "array([[102,  57],\n",
       "       [ 52, 111]], dtype=int64)"
      ]
     },
     "execution_count": 92,
     "metadata": {},
     "output_type": "execute_result"
    }
   ],
   "source": [
    "#try on test data\n",
    "\n",
    "predicted = ran_for.predict(testX)\n",
    "true_positives = np.sum((predicted==1)&(testY==1))\n",
    "false_positives = np.sum((predicted==1)&(testY==0))\n",
    "true_negatives = np.sum((predicted==0)&(testY==0))\n",
    "false_negatives = np.sum((predicted==0)&(testY==1))\n",
    "\n",
    "print(\"Precision is %0.2f\" % (true_positives/(true_positives+false_positives)))\n",
    "print(\"Recall is %0.2f\" % (true_positives/(true_positives+false_negatives)))\n",
    "confusion_matrix(predicted,testY)"
   ]
  },
  {
   "cell_type": "markdown",
   "metadata": {},
   "source": [
    "<h2>Try on all the data</h2>"
   ]
  },
  {
   "cell_type": "code",
   "execution_count": 93,
   "metadata": {},
   "outputs": [
    {
     "name": "stdout",
     "output_type": "stream",
     "text": [
      "33912\n",
      "Precision is 0.02\n",
      "Recall is 0.89\n",
      "true_positives 777 61\n",
      "false_positive 33912 460\n",
      "false_negative 99 832\n",
      "true_negative 33371 30222\n"
     ]
    }
   ],
   "source": [
    "gd = goalie_data.sample(frac=1)\n",
    "predicted = ran_for.predict(num_pipeline.fit_transform(gd[columns]))\n",
    "gdY = np.array(gd['injured'])\n",
    "true_positives = np.sum((predicted==1)&(gdY==1))\n",
    "false_positives = np.sum((predicted==1)&(gdY==0))\n",
    "true_negatives = np.sum((predicted==0)&(gdY==0))\n",
    "false_negatives = np.sum((predicted==0)&(gdY==1))\n",
    "print(false_positives)\n",
    "print(\"Precision is %0.2f\" % (true_positives/(true_positives+false_positives)))\n",
    "print(\"Recall is %0.2f\" % (true_positives/(true_positives+false_negatives)))\n",
    "\n",
    "print('true_positives',true_positives,tp)\n",
    "print('false_positive',false_positives,fp)\n",
    "print('false_negative',false_negatives,fn)\n",
    "print('true_negative',true_negatives,tn)"
   ]
  },
  {
   "cell_type": "code",
   "execution_count": 94,
   "metadata": {
    "scrolled": false
   },
   "outputs": [
    {
     "data": {
      "image/png": "[encoded data removed]",
      "text/plain": [
       "<Figure size 720x432 with 1 Axes>"
      ]
     },
     "metadata": {
      "needs_background": "light"
     },
     "output_type": "display_data"
    }
   ],
   "source": [
    "fpr,tpr,thresholds = roc_curve(np.array(gd['injured']),\n",
    "                               ran_for.predict_proba(num_pipeline.fit_transform(gd[columns]))[:,1])\n",
    "plt.figure(figsize=(10,6))\n",
    "plt.plot(fpr,tpr,\"b--\",label=\"RandomForest: AUC=%0.3f\"%(roc_auc_score(np.array(gd['injured']),ran_for.predict_proba(num_pipeline.fit_transform(gd[columns]))[:,1])))\n",
    "#plt.plot(thresholds,recall[:-1],\"g-\",label=\"recall\")\n",
    "plt.legend()\n",
    "plt.xlabel('False Positive Rate')\n",
    "plt.ylabel('True Positive Rate')\n",
    "plt.title('ROC for ALL The Data',font='Garamond',fontsize=32,pad = 15)\n",
    "plt.savefig('ROCforAlltheData.png')\n",
    "plt.show()"
   ]
  },
  {
   "cell_type": "code",
   "execution_count": 95,
   "metadata": {},
   "outputs": [
    {
     "name": "stdout",
     "output_type": "stream",
     "text": [
      "Trial 0.0:Identified 876 of 876, Precision of 0.01 and Recall of 1.00.  TP:876,FP:67283\n",
      "Trial 0.1:Identified 876 of 876, Precision of 0.01 and Recall of 1.00.  TP:876,FP:67223\n",
      "Trial 0.2:Identified 875 of 876, Precision of 0.01 and Recall of 1.00.  TP:875,FP:66168\n",
      "Trial 0.3:Identified 872 of 876, Precision of 0.01 and Recall of 1.00.  TP:872,FP:60233\n",
      "Trial 0.4:Identified 848 of 876, Precision of 0.02 and Recall of 0.96.  TP:848,FP:49917\n",
      "Trial 0.5:Identified 788 of 876, Precision of 0.02 and Recall of 0.89.  TP:788,FP:35348\n",
      "Trial 0.6:Identified 644 of 876, Precision of 0.03 and Recall of 0.74.  TP:644,FP:21145\n",
      "Trial 0.7:Identified 466 of 876, Precision of 0.04 and Recall of 0.53.  TP:466,FP:10673\n",
      "Trial 0.8:Identified 259 of 876, Precision of 0.06 and Recall of 0.29.  TP:259,FP:3905\n",
      "Trial 0.9:Identified 52 of 876, Precision of 0.11 and Recall of 0.06.  TP:52,FP:406\n"
     ]
    }
   ],
   "source": [
    "ypred = ran_for.predict_proba(num_pipeline.fit_transform(gd[columns]))[:,1]\n",
    "yreal = np.array(gd['injured'])\n",
    "for m in np.arange(0,1,.1):\n",
    "    tp = ((ypred>=m)&(yreal==1)).sum()\n",
    "    fp = ((ypred>=m)&(yreal==0)).sum()\n",
    "    fn = ((ypred<=m)&(yreal==1)).sum()\n",
    "\n",
    "    print(\"Trial %0.1f:Identified %s of %s, Precision of %0.2f and Recall of %0.2f.  TP:%d,FP:%d\"%(m,tp,yreal.sum(),tp/(tp+fp),tp/(tp+fn),tp,fp))"
   ]
  },
  {
   "cell_type": "code",
   "execution_count": null,
   "metadata": {},
   "outputs": [],
   "source": []
  }
 ],
 "metadata": {
  "kernelspec": {
   "display_name": "Python 3",
   "language": "python",
   "name": "python3"
  },
  "language_info": {
   "codemirror_mode": {
    "name": "ipython",
    "version": 3
   },
   "file_extension": ".py",
   "mimetype": "text/x-python",
   "name": "python",
   "nbconvert_exporter": "python",
   "pygments_lexer": "ipython3",
   "version": "3.7.9"
  }
 },
 "nbformat": 4,
 "nbformat_minor": 4
}
