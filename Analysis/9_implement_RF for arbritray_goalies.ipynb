{
 "cells": [
  {
   "cell_type": "markdown",
   "metadata": {},
   "source": [
    "<h1>Implement Random Forest for Arbetrary Goalies</h1>\n",
    "<p>This notebook implements a random forest for the selected goalie and calculates the increased risk factor based on the returned probability.  It will be ported over for implementation into statgen.py </p>"
   ]
  },
  {
   "cell_type": "code",
   "execution_count": 1,
   "metadata": {},
   "outputs": [],
   "source": [
    "import pandas as pd\n",
    "import numpy as np\n",
    "from datetime import datetime as dt, timedelta\n",
    "from dateutil.relativedelta import *\n",
    "import re\n",
    "import sqlite3\n",
    "pd.set_option('display.max_rows', 500)\n",
    "from sklearn.pipeline import Pipeline\n",
    "from sklearn.preprocessing import StandardScaler\n",
    "from sklearn.ensemble import RandomForestClassifier\n",
    "from joblib import dump, load"
   ]
  },
  {
   "cell_type": "markdown",
   "metadata": {},
   "source": [
    "<h3>SQLite Handling functions</h3>\n",
    "<p>Use Pandas to import dataframe into SQLlite</p>"
   ]
  },
  {
   "cell_type": "code",
   "execution_count": 2,
   "metadata": {},
   "outputs": [],
   "source": [
    "DB = \"../assests/hockey_data_goalies.db\"\n",
    "\n",
    "#SQL Handle functions\n",
    "def run_query(q):\n",
    "    with sqlite3.connect(DB) as conn:\n",
    "        x = pd.read_sql(q,conn)\n",
    "    return x\n",
    "   \n",
    "#send command\n",
    "def run_command(c):\n",
    "    with sqlite3.connect(DB) as conn:\n",
    "        conn.isolation_level = None\n",
    "        return conn.execute(c)\n",
    "    \n",
    "#show tables\n",
    "def show_tables():\n",
    "    r = \"\"\"\n",
    "    Select name,type\n",
    "    FROM sqlite_master\n",
    "    WHERE type in (\"table\",\"view\");\n",
    "        \"\"\"\n",
    "    return run_query(r)"
   ]
  },
  {
   "cell_type": "code",
   "execution_count": 3,
   "metadata": {},
   "outputs": [],
   "source": [
    "ran_for = load('ranforest_regression.joblib')\n",
    "pipe = load('pipeline.joblib')"
   ]
  },
  {
   "cell_type": "code",
   "execution_count": 88,
   "metadata": {},
   "outputs": [
    {
     "name": "stdout",
     "output_type": "stream",
     "text": [
      "anderfr01\n",
      "enrotjh01\n",
      "mcelhcu01\n"
     ]
    },
    {
     "data": {
      "text/plain": [
       "{'anderfr01': 2.9, 'enrotjh01': 1.0, 'mcelhcu01': 1.2}"
      ]
     },
     "execution_count": 88,
     "metadata": {},
     "output_type": "execute_result"
    }
   ],
   "source": [
    "def riskfunc(x):\n",
    "    \"\"\"Estimate the increased risk factor by player playing\n",
    "    \"\"\"\n",
    "    y = x**3+0.37*(x**2)-0.2572*x+0.0118\n",
    "    return np.round(10**y,1)\n",
    "\n",
    "#inputs:\n",
    "\n",
    "team_value = 'TOR'\n",
    "year_value = 2016\n",
    "game_date = '2017-01-17'\n",
    "\n",
    "#get unique ids\n",
    "q = (\"\"\"SELECT * \n",
    "    FROM player_log \n",
    "    WHERE team_id=\\\"{0}\\\"\n",
    "    AND (CAST(SUBSTR(date_game,1,4) AS FLOAT)+CAST(SUBSTR(date_game,6,7) AS FLOAT)/12) > {1}\n",
    "    AND date_game < \\\"{2}\\\"\n",
    "    GROUP BY player_id\n",
    "    \"\"\".format(team_value,int(year_value) + .66,game_date))\n",
    "\n",
    "ids = run_query(q)\n",
    "\n",
    "#now generate data for season\n",
    "\n",
    "prodf = pd.DataFrame(columns=['player_id','team_id','opp_id','date_game','age','rest_days','min_season',\n",
    "                                'shots_against','save_pct','min3W','sa3W','svepct3W','future_save_pct','injured'])\n",
    "row = 0\n",
    "for each_id in ids['player_id']:\n",
    "    print(each_id)\n",
    "    q = (\"\"\"SELECT * \n",
    "    FROM player_log \n",
    "    WHERE (CAST(SUBSTR(date_game,1,4) AS FLOAT)+CAST(SUBSTR(date_game,6,7) AS FLOAT)/12) > {0}\n",
    "    AND date_game < \\\"{1}\\\"\n",
    "    AND player_id = \\\"{2}\\\"\n",
    "    \"\"\".format(int(year_value) + .66,game_date,each_id))\n",
    "    season_logs = run_query(q)\n",
    "    season_logs['date_game'] = season_logs['date_game'].astype('datetime64') #convert to datetime\n",
    "    season_logs['time_on_ice'] = season_logs['time_on_ice'].str.extract(r'(\\d*)\\:\\d*')[0].astype(int)+season_logs['time_on_ice'].str.extract(r'\\d*\\:(\\d*)')[0].astype(int)/60\n",
    "    \n",
    "    for r,game in season_logs[-1:].iterrows():\n",
    "        prodf.loc[row,'player_id'] = season_logs.loc[r,'player_id']\n",
    "        prodf.loc[row,'team_id'] = season_logs.loc[r,'team_id']\n",
    "        prodf.loc[row,'opp_id'] = season_logs.loc[r,'opp_id']\n",
    "        prodf.loc[row,'date_game'] = season_logs.loc[r,'date_game']\n",
    "        prodf.loc[row,'age'] = season_logs.loc[r,'age']\n",
    "        prodf.loc[row,'rest_days'] = (season_logs.loc[r,'date_game']-season_logs.loc[r-1,'date_game']).days\n",
    "        prodf.loc[row,'min_season'] = season_logs.loc[:(r-1),'time_on_ice'].sum()\n",
    "        prodf.loc[row,'shots_against'] = season_logs.loc[:(r-1),'shots_against'].sum()\n",
    "        prodf.loc[row,'save_pct'] = np.round(season_logs.loc[:(r-1),'saves'].sum()/season_logs.loc[:(r-1),'shots_against'].sum(),3)\n",
    "\n",
    "        window = (season_logs.loc[r,'date_game']>season_logs['date_game'])&(season_logs['date_game']>(season_logs.loc[r,'date_game']-timedelta(21)))\n",
    "\n",
    "        prodf.loc[row,'min3W'] = season_logs.loc[window,'time_on_ice'].sum()\n",
    "        prodf.loc[row,'sa3W'] = season_logs.loc[window ,'shots_against'].sum()\n",
    "        prodf.loc[row,'svepct3W'] = season_logs.loc[window,'saves'].sum()/season_logs.loc[window,'shots_against'].sum()\n",
    "        prodf.loc[row,'future_save_pct'] = np.round(season_logs.loc[r,'saves'].sum()/season_logs.loc[r,'shots_against'].sum(),3)\n",
    "        prodf.loc[row,'injured'] = season_logs.loc[r,'injured']    \n",
    "        prodf.loc[row,'pre_inj'] = season_logs.loc[r,'pre_inj']\n",
    "    row+=1\n",
    "    \n",
    "columns = ['age','min_season','rest_days','shots_against','save_pct','min3W','sa3W','svepct3W','pre_inj']\n",
    "probs = ran_for.predict_proba(pipe.fit_transform(prodf[columns]))[:,1]\n",
    "riskfunc(probs)\n",
    "dict(zip(ids['player_id'].to_list(),riskfunc(probs)))"
   ]
  },
  {
   "cell_type": "code",
   "execution_count": 91,
   "metadata": {},
   "outputs": [
    {
     "data": {
      "text/plain": [
       "['Injury Risk Factor', 2.9, 1.0, 1.2]"
      ]
     },
     "execution_count": 91,
     "metadata": {},
     "output_type": "execute_result"
    }
   ],
   "source": [
    "data = ['Injury Risk Factor']\n",
    "data.extend(riskfunc(probs))\n",
    "data"
   ]
  },
  {
   "cell_type": "code",
   "execution_count": 92,
   "metadata": {},
   "outputs": [],
   "source": [
    "winz = ['Wins',1,-1,-5]"
   ]
  },
  {
   "cell_type": "code",
   "execution_count": 93,
   "metadata": {},
   "outputs": [
    {
     "data": {
      "text/plain": [
       "['Wins', 0, -2, -6]"
      ]
     },
     "execution_count": 93,
     "metadata": {},
     "output_type": "execute_result"
    }
   ],
   "source": [
    "[i-max(winz[1:]) if type(i) == int else i for i in winz]"
   ]
  },
  {
   "cell_type": "code",
   "execution_count": null,
   "metadata": {},
   "outputs": [],
   "source": []
  }
 ],
 "metadata": {
  "kernelspec": {
   "display_name": "Python 3",
   "language": "python",
   "name": "python3"
  },
  "language_info": {
   "codemirror_mode": {
    "name": "ipython",
    "version": 3
   },
   "file_extension": ".py",
   "mimetype": "text/x-python",
   "name": "python",
   "nbconvert_exporter": "python",
   "pygments_lexer": "ipython3",
   "version": "3.7.9"
  }
 },
 "nbformat": 4,
 "nbformat_minor": 4
}
