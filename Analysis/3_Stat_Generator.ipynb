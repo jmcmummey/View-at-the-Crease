{
 "cells": [
  {
   "cell_type": "code",
   "execution_count": 1,
   "metadata": {},
   "outputs": [],
   "source": [
    "import sys\n",
    "import pandas as pd\n",
    "import numpy as np\n",
    "import os\n",
    "from datetime import datetime as dt, timedelta\n",
    "from dateutil.relativedelta import *\n",
    "import re\n",
    "from matplotlib import pyplot as plt\n",
    "import sqlite3\n",
    "import os"
   ]
  },
  {
   "cell_type": "markdown",
   "metadata": {},
   "source": [
    "<h3>SQLite Handling functions</h3>\n",
    "<p>Use Pandas to import dataframe into SQLlite</p>"
   ]
  },
  {
   "cell_type": "code",
   "execution_count": 2,
   "metadata": {},
   "outputs": [],
   "source": [
    "DB = \"..\\\\Data\\\\hockey_data_goalies.db\"\n",
    "\n",
    "#SQL Handle functions\n",
    "def run_query(q):\n",
    "    with sqlite3.connect(DB) as conn:\n",
    "        x = pd.read_sql(q,conn)\n",
    "    return x\n",
    "   \n",
    "#send command\n",
    "def run_command(c):\n",
    "    with sqlite3.connect(DB) as conn:\n",
    "        conn.isolation_level = None\n",
    "        return conn.execute(c)\n",
    "    \n",
    "#show tables\n",
    "def show_tables():\n",
    "    r = \"\"\"\n",
    "    Select name,type\n",
    "    FROM sqlite_master\n",
    "    WHERE type in (\"table\",\"view\");\n",
    "        \"\"\"\n",
    "    return run_query(r)"
   ]
  },
  {
   "cell_type": "markdown",
   "metadata": {},
   "source": [
    "<h2>Statistic Functions</h2>\n",
    "<p>These functions generate statistics for the input team</p>"
   ]
  },
  {
   "cell_type": "code",
   "execution_count": 11,
   "metadata": {},
   "outputs": [],
   "source": [
    "def sos_calc(year,game_no,nme,wind=[0]):\n",
    "    \"\"\"\n",
    "        CALCULATES THE SOS FOR THE TEAM entered faced before a given date\n",
    "    INPUT:\n",
    "        year: the current season (YYYY-YYYY+1)\n",
    "        game_no: the game_no for the current game previous games are [0-game_no-1]\n",
    "        nme: the team abbr to calculate the SOS for\n",
    "        RETURN:\n",
    "        sos: the computed sos statistics sum(no_times_faced*(goalsfor-goalsagainst)/no_games)/no_games\n",
    "    \"\"\"\n",
    "    \n",
    "    sos = 0\n",
    "    \n",
    "    #get the details on the game\n",
    "    q = (\"\"\"SELECT * \n",
    "            FROM team_log \n",
    "            WHERE team_id=\\\"{0}\\\"\n",
    "            AND (CAST(SUBSTR(date_game,1,4) AS FLOAT)+CAST(SUBSTR(date_game,6,7) AS FLOAT)/12) > {1}\n",
    "            AND (CAST(SUBSTR(date_game,1,4) AS FLOAT)+CAST(SUBSTR(date_game,6,7) AS FLOAT)/12) < {2}\n",
    "            \"\"\".format(nme,int(year) + .66,int(year)+1.66))\n",
    "    games = run_query(q)\n",
    "    games['date_game'] = games['date_game'].astype('datetime64')\n",
    "    \n",
    "    gamedate = games.at[game_no,'date_game']\n",
    "\n",
    "    if game_no>0:\n",
    "        #list of teams faced to date (and number of times)\n",
    "        if len(wind) ==1:\n",
    "            teams_faced = games.loc[games['date_game']<gamedate,'opp_name'].value_counts()\n",
    "        else:\n",
    "            teams_faced = games.loc[wind,'opp_name'].value_counts()\n",
    "       \n",
    "        #get list of games played in the league that season up until the gameday\n",
    "        q = (\"\"\"SELECT * \n",
    "                FROM team_log \n",
    "                WHERE (CAST(SUBSTR(date_game,1,4) AS FLOAT)+CAST(SUBSTR(date_game,6,7) AS FLOAT)/12) > {1}\n",
    "                AND (CAST(SUBSTR(date_game,1,4) AS FLOAT)+CAST(SUBSTR(date_game,6,7) AS FLOAT)/12) < {2}\n",
    "                \"\"\".format(nme,int(year) + .66,int(year)+1.66))\n",
    "        temp_games = run_query(q)\n",
    "        temp_games['date_game'] = temp_games['date_game'].astype('datetime64')\n",
    "\n",
    "        #calculate statistics for each team\n",
    "        goals = temp_games[temp_games['date_game']<gamedate].groupby('team_id').agg([sum,'count'])\n",
    "\n",
    "        diff = (goals['goals']['sum']-goals['opp_goals']['sum'])/goals['goals']['count'] #calculates metric for all teams to date\n",
    "\n",
    "        for eachteam in teams_faced.index:\n",
    "            #get team_abbr\n",
    "\n",
    "            q = '''SELECT team_abbr FROM team_list WHERE team_name=\\\"{0}\\\" AND CAST(SUBSTR(years_active,6,9) AS INT)>{1}'''.format(eachteam,int(year))\n",
    "            nme = (run_query(q)['team_abbr'].values)[0]\n",
    "            sos = sos + teams_faced[eachteam]*diff[nme]\n",
    "        if len(wind) == 1:\n",
    "            return sos/game_no\n",
    "        else:\n",
    "            return sos/wind.sum()\n",
    "    else:\n",
    "        return 0\n",
    "    \n",
    "def team_stat_gen(team_value,year_value,game_value):\n",
    "    \"\"\"\n",
    "        Generates team based statistics for the season (and the last 3 weeks) upto the selected game\n",
    "        INPUT:\n",
    "            team_value: The team abbr\n",
    "            year_value: The season in question where year is YYYY:YYYY+1\n",
    "            game_value: The game_no for the current game previous games are [0-game_no-1] # must be more than 10\n",
    "        OUTPUT:\n",
    "            returns a data series of team stats\n",
    "    \"\"\"\n",
    "    #get the details on the game\n",
    "    q = (\"\"\"SELECT * \n",
    "            FROM team_log \n",
    "            WHERE team_id=\\\"{0}\\\"\n",
    "            AND (CAST(SUBSTR(date_game,1,4) AS FLOAT)+CAST(SUBSTR(date_game,6,7) AS FLOAT)/12) > {1}\n",
    "            AND (CAST(SUBSTR(date_game,1,4) AS FLOAT)+CAST(SUBSTR(date_game,6,7) AS FLOAT)/12) < {2}\n",
    "            \"\"\".format(team_value,int(year_value) + .66,int(year_value)+1.66))\n",
    "    game_details = run_query(q)\n",
    "    game_details['date_game'] = game_details['date_game'].astype('datetime64')\n",
    "    try:\n",
    "        game_date = game_details.at[game_value,'date_game']\n",
    "    except:\n",
    "        print(game_details,team_value,year_value,game_value)\n",
    "        \n",
    "    rest_days = game_date-game_details.at[game_value-1,'date_game']\n",
    "\n",
    "    #team stats up to this point of the season (basic stats)\n",
    "    cum_total = game_details.loc[game_details.index<game_value,['goals','opp_goals','shots','shots_against']].sum()\n",
    "    games = (game_details.loc[game_details.index<game_value,'game_outcome']=='W').count() \n",
    "    wins = (game_details.loc[game_details.index<game_value,'game_outcome']=='W').sum()\n",
    "    losses = (game_details.loc[game_details.index<game_value,'game_outcome']=='L').sum()\n",
    "    ties = (game_details.loc[game_details.index<game_value,'game_outcome']=='T').sum()\n",
    "    otl = ((game_details.loc[game_details.index<game_value,'game_outcome']=='L')&(game_details['overtimes'].notnull())).sum()\n",
    "    points = wins*2+ties+otl\n",
    "    points_pct = np.round(points/(2*games),3)\n",
    "    sos = sos_calc(year_value,game_value,team_value) #strength of schedule higher is tougher\n",
    "    srs = (cum_total['goals']-cum_total['opp_goals'])/games+sos #simple rating system\n",
    "    cum_total = game_details.loc[game_details.index<game_value,['goals','opp_goals','shots','shots_against']].sum()/game_value\n",
    "    basic_stats = [games,wins,losses,ties,otl,points,points_pct,srs,sos]\n",
    "    basic_stats.extend(cum_total)\n",
    "\n",
    "    #team stats last 3 weeks (basic stats)\n",
    "    window = (game_details['date_game']<game_date)&(game_details['date_game']>(game_date-timedelta(21)))\n",
    "    rec_game_details = game_details.loc[window]\n",
    "    rgames = (rec_game_details['game_outcome']=='W').count() \n",
    "    rwins = (rec_game_details['game_outcome']=='W').sum()\n",
    "    rlosses = (rec_game_details['game_outcome']=='L').sum()\n",
    "    rties = (rec_game_details['game_outcome']=='T').sum()\n",
    "    rotl = ((rec_game_details['game_outcome']=='L')&(rec_game_details['overtimes'].notnull())).sum()\n",
    "    rpoints = rwins*2+rties+rotl\n",
    "    rpoints_pct = np.round(rpoints/(2*rgames),3)\n",
    "    rcumum = rec_game_details[['goals','opp_goals','shots','shots_against']].sum()\n",
    "    sos_rec = sos_calc(year_value,game_value,team_value,window) #strength of schedule higher is tougher\n",
    "    srs_rec = (rcumum['goals']-rcumum['opp_goals'])/rgames+sos_rec #simple rating system\n",
    "    rcumum_total = rcumum/rgames\n",
    "    recent_stats = [rest_days.days,rgames,rwins,rlosses,rties,rotl,rpoints,rpoints_pct,srs_rec,sos_rec]\n",
    "    recent_stats.extend(list(rcumum_total))\n",
    "\n",
    "    labels = ['total_games','wins','loses','ties','otl','points','point_pct','srs','sos','ave_goals','ave_oppgoals','ave_shots','ave_oppshots','rest_days','recent_games','recent_wins','recent_loses','recent_ties','recent_otl','recent_points','recent_point_pct','recent_srs','recent_sos','recent_ave_goals','recent_ave_oppgoals','recent_ave_shots','recent_ave_oppshots']\n",
    "    all_stats = basic_stats+recent_stats\n",
    "    return pd.Series(all_stats,labels)\n",
    "\n",
    "def dual_gen(team_value,year_value,game_value):\n",
    "    \"\"\"\n",
    "        Generates team based statistics for the season (and the last 3 weeks) upto the selected game for both the\n",
    "        \"Home\" and Opposing team\n",
    "        INPUT:\n",
    "            team_value: The team abbr\n",
    "            year_value: The season in question where year is YYYY:YYYY+1\n",
    "            game_value: The game_no for the current game previous games are [0-game_no-1] # must be more than 10\n",
    "        OUTPUT:\n",
    "            returns a data series of team stats\n",
    "    \"\"\"\n",
    "    hometeam_stats = team_stat_gen(team_value,year_value,game_value)\n",
    "    hometeam_stats.index = hometeam_stats.index.map(lambda x:'t1_'+x)\n",
    "    \n",
    "    #find the game number/abbr for the opposing team\n",
    "    #find the game\n",
    "    #get the details on the game (specifically, the opposing team abbr,the game date and game number)\n",
    "    q = (\"\"\"SELECT * \n",
    "            FROM team_log \n",
    "            WHERE team_id=\\\"{0}\\\"\n",
    "            AND (CAST(SUBSTR(date_game,1,4) AS FLOAT)+CAST(SUBSTR(date_game,6,7) AS FLOAT)/12) > {1}\n",
    "            AND (CAST(SUBSTR(date_game,1,4) AS FLOAT)+CAST(SUBSTR(date_game,6,7) AS FLOAT)/12) < {2}\n",
    "            \"\"\".format(team_value,int(year_value) + .66,int(year_value)+1.66))\n",
    "    game_details = run_query(q)\n",
    "    gdate = game_details[game_details['game_number']==game_value]['date_game']\n",
    "    opp_team = game_details[game_details['game_number']==game_value]['opp_name']\n",
    "    q = '''SELECT team_abbr FROM team_list WHERE team_name=\\\"{0}\\\" AND CAST(SUBSTR(years_active,6,9) AS INT)>{1}'''.format(opp_team.values[0],int(year_value))\n",
    "    opp_abbr = (run_query(q)['team_abbr'].values)[0]\n",
    "    q =  \"\"\"SELECT * \n",
    "            FROM team_log \n",
    "            WHERE team_id=\\\"{0}\\\"\n",
    "            AND date_game=\\\"{1}\\\"\n",
    "            \"\"\".format(opp_abbr,gdate.values[0])\n",
    "    game_numbers = run_query(q)\n",
    "    \n",
    "    the_game = game_details[game_details['game_number']==game_value]\n",
    "    the_game = the_game.rename(columns={'goals':'t1_goals','opp_goals':'t2_goals','shots':'t1_shots','shots_against':'t2_shots'})\n",
    "\n",
    "    #now get the opposing team stats\n",
    "    oppteam_stats = team_stat_gen(opp_abbr,year_value,game_numbers.at[0,'game_number'])\n",
    "    oppteam_stats.index = oppteam_stats.index.map(lambda x:'t2_'+x)\n",
    "    combined_stats = pd.concat((hometeam_stats,oppteam_stats,the_game.loc[game_value,['t1_goals','t2_goals','t1_shots','t2_shots']]))\n",
    "    \n",
    "    return combined_stats\n",
    "    "
   ]
  },
  {
   "cell_type": "markdown",
   "metadata": {},
   "source": [
    "<h2>Now Generate a training set</h2>\n",
    "<p>Using the functions describe above to generate stats, build a training set that we'll use to attempt to predict the number of shots during the game</p>"
   ]
  },
  {
   "cell_type": "code",
   "execution_count": 12,
   "metadata": {},
   "outputs": [],
   "source": [
    " #get the details on the game\n",
    "q = (\"\"\"SELECT * \n",
    "        FROM team_log\"\"\")\n",
    "games = run_query(q)"
   ]
  },
  {
   "cell_type": "code",
   "execution_count": 13,
   "metadata": {
    "scrolled": true
   },
   "outputs": [
    {
     "name": "stdout",
     "output_type": "stream",
     "text": [
      "51\n",
      "2782\n",
      "5558\n"
     ]
    },
    {
     "name": "stderr",
     "output_type": "stream",
     "text": [
      "C:\\Users\\jesse\\anaconda3\\envs\\takeaseat\\lib\\site-packages\\ipykernel_launcher.py:111: RuntimeWarning: invalid value encountered in longlong_scalars\n",
      "C:\\Users\\jesse\\anaconda3\\envs\\takeaseat\\lib\\site-packages\\ipykernel_launcher.py:57: RuntimeWarning: invalid value encountered in longlong_scalars\n",
      "C:\\Users\\jesse\\anaconda3\\envs\\takeaseat\\lib\\site-packages\\ipykernel_launcher.py:114: RuntimeWarning: invalid value encountered in longlong_scalars\n"
     ]
    },
    {
     "name": "stdout",
     "output_type": "stream",
     "text": [
      "8337\n",
      "11116\n",
      "13895\n",
      "16623\n",
      "19450\n",
      "22229\n"
     ]
    },
    {
     "name": "stderr",
     "output_type": "stream",
     "text": [
      "C:\\Users\\jesse\\anaconda3\\envs\\takeaseat\\lib\\site-packages\\ipykernel_launcher.py:111: RuntimeWarning: invalid value encountered in longlong_scalars\n",
      "C:\\Users\\jesse\\anaconda3\\envs\\takeaseat\\lib\\site-packages\\ipykernel_launcher.py:57: RuntimeWarning: invalid value encountered in longlong_scalars\n",
      "C:\\Users\\jesse\\anaconda3\\envs\\takeaseat\\lib\\site-packages\\ipykernel_launcher.py:114: RuntimeWarning: invalid value encountered in longlong_scalars\n"
     ]
    },
    {
     "name": "stdout",
     "output_type": "stream",
     "text": [
      "24957\n",
      "27784\n"
     ]
    },
    {
     "name": "stderr",
     "output_type": "stream",
     "text": [
      "C:\\Users\\jesse\\anaconda3\\envs\\takeaseat\\lib\\site-packages\\ipykernel_launcher.py:111: RuntimeWarning: invalid value encountered in longlong_scalars\n",
      "C:\\Users\\jesse\\anaconda3\\envs\\takeaseat\\lib\\site-packages\\ipykernel_launcher.py:57: RuntimeWarning: invalid value encountered in longlong_scalars\n",
      "C:\\Users\\jesse\\anaconda3\\envs\\takeaseat\\lib\\site-packages\\ipykernel_launcher.py:114: RuntimeWarning: invalid value encountered in longlong_scalars\n"
     ]
    },
    {
     "name": "stdout",
     "output_type": "stream",
     "text": [
      "30611\n",
      "33339\n"
     ]
    },
    {
     "name": "stderr",
     "output_type": "stream",
     "text": [
      "C:\\Users\\jesse\\anaconda3\\envs\\takeaseat\\lib\\site-packages\\ipykernel_launcher.py:111: RuntimeWarning: invalid value encountered in longlong_scalars\n",
      "C:\\Users\\jesse\\anaconda3\\envs\\takeaseat\\lib\\site-packages\\ipykernel_launcher.py:57: RuntimeWarning: invalid value encountered in longlong_scalars\n",
      "C:\\Users\\jesse\\anaconda3\\envs\\takeaseat\\lib\\site-packages\\ipykernel_launcher.py:114: RuntimeWarning: invalid value encountered in longlong_scalars\n"
     ]
    },
    {
     "name": "stdout",
     "output_type": "stream",
     "text": [
      "36118\n",
      "38897\n"
     ]
    },
    {
     "name": "stderr",
     "output_type": "stream",
     "text": [
      "C:\\Users\\jesse\\anaconda3\\envs\\takeaseat\\lib\\site-packages\\ipykernel_launcher.py:111: RuntimeWarning: invalid value encountered in longlong_scalars\n",
      "C:\\Users\\jesse\\anaconda3\\envs\\takeaseat\\lib\\site-packages\\ipykernel_launcher.py:57: RuntimeWarning: invalid value encountered in longlong_scalars\n",
      "C:\\Users\\jesse\\anaconda3\\envs\\takeaseat\\lib\\site-packages\\ipykernel_launcher.py:114: RuntimeWarning: invalid value encountered in longlong_scalars\n"
     ]
    },
    {
     "name": "stdout",
     "output_type": "stream",
     "text": [
      "41724\n",
      "44551\n"
     ]
    },
    {
     "name": "stderr",
     "output_type": "stream",
     "text": [
      "C:\\Users\\jesse\\anaconda3\\envs\\takeaseat\\lib\\site-packages\\ipykernel_launcher.py:111: RuntimeWarning: invalid value encountered in longlong_scalars\n",
      "C:\\Users\\jesse\\anaconda3\\envs\\takeaseat\\lib\\site-packages\\ipykernel_launcher.py:57: RuntimeWarning: invalid value encountered in longlong_scalars\n",
      "C:\\Users\\jesse\\anaconda3\\envs\\takeaseat\\lib\\site-packages\\ipykernel_launcher.py:114: RuntimeWarning: invalid value encountered in longlong_scalars\n"
     ]
    },
    {
     "name": "stdout",
     "output_type": "stream",
     "text": [
      "47231\n",
      "50058\n",
      "52885\n",
      "55661\n",
      "58440\n",
      "61216\n",
      "64094\n"
     ]
    }
   ],
   "source": [
    "game_data = pd.DataFrame()\n",
    "#only look at games> 30\n",
    "r = 0\n",
    "for i,row in games[games['game_number']>50].iterrows():\n",
    "    if int(row['date_game'][5:7])<8:\n",
    "        year = int(row['date_game'][:4])-1\n",
    "    else:\n",
    "        year = int(row['date_game'][:4])\n",
    "    game_data = game_data.append(dual_gen(row['team_id'],year,row['game_number']),ignore_index = True)\n",
    "    if r%1000==0:\n",
    "        print(i)\n",
    "    r += 1"
   ]
  },
  {
   "cell_type": "code",
   "execution_count": 14,
   "metadata": {},
   "outputs": [],
   "source": [
    "game_data.to_csv('gametrainingdatawgoals.txt')"
   ]
  },
  {
   "cell_type": "code",
   "execution_count": null,
   "metadata": {},
   "outputs": [],
   "source": [
    "game_data.head()"
   ]
  },
  {
   "cell_type": "code",
   "execution_count": null,
   "metadata": {},
   "outputs": [],
   "source": []
  }
 ],
 "metadata": {
  "kernelspec": {
   "display_name": "Python 3",
   "language": "python",
   "name": "python3"
  },
  "language_info": {
   "codemirror_mode": {
    "name": "ipython",
    "version": 3
   },
   "file_extension": ".py",
   "mimetype": "text/x-python",
   "name": "python",
   "nbconvert_exporter": "python",
   "pygments_lexer": "ipython3",
   "version": "3.7.9"
  }
 },
 "nbformat": 4,
 "nbformat_minor": 4
}
