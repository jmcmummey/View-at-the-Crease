{
 "cells": [
  {
   "cell_type": "code",
   "execution_count": 1,
   "metadata": {},
   "outputs": [],
   "source": [
    "from statgen import teamstats as team"
   ]
  },
  {
   "cell_type": "code",
   "execution_count": 2,
   "metadata": {},
   "outputs": [
    {
     "data": {
      "text/html": [
       "<div>\n",
       "<style scoped>\n",
       "    .dataframe tbody tr th:only-of-type {\n",
       "        vertical-align: middle;\n",
       "    }\n",
       "\n",
       "    .dataframe tbody tr th {\n",
       "        vertical-align: top;\n",
       "    }\n",
       "\n",
       "    .dataframe thead th {\n",
       "        text-align: right;\n",
       "    }\n",
       "</style>\n",
       "<table border=\"1\" class=\"dataframe\">\n",
       "  <thead>\n",
       "    <tr style=\"text-align: right;\">\n",
       "      <th></th>\n",
       "      <th>Host</th>\n",
       "      <th>Date</th>\n",
       "      <th>Goals</th>\n",
       "      <th>Opp. Goals</th>\n",
       "      <th>Outcome</th>\n",
       "      <th>OT?</th>\n",
       "      <th>Shots</th>\n",
       "      <th>Opp. Shots</th>\n",
       "    </tr>\n",
       "  </thead>\n",
       "  <tbody>\n",
       "    <tr>\n",
       "      <th>3</th>\n",
       "      <td>Vancouver Canucks</td>\n",
       "      <td>2015-01-27</td>\n",
       "      <td>4</td>\n",
       "      <td>0</td>\n",
       "      <td>Win</td>\n",
       "      <td></td>\n",
       "      <td>24</td>\n",
       "      <td>17</td>\n",
       "    </tr>\n",
       "    <tr>\n",
       "      <th>4</th>\n",
       "      <td>Vancouver Canucks</td>\n",
       "      <td>2015-03-09</td>\n",
       "      <td>1</td>\n",
       "      <td>2</td>\n",
       "      <td>Loss</td>\n",
       "      <td></td>\n",
       "      <td>30</td>\n",
       "      <td>16</td>\n",
       "    </tr>\n",
       "    <tr>\n",
       "      <th>5</th>\n",
       "      <td>Anaheim Ducks</td>\n",
       "      <td>2015-10-12</td>\n",
       "      <td>1</td>\n",
       "      <td>2</td>\n",
       "      <td>Loss</td>\n",
       "      <td>SO</td>\n",
       "      <td>29</td>\n",
       "      <td>25</td>\n",
       "    </tr>\n",
       "    <tr>\n",
       "      <th>6</th>\n",
       "      <td>Anaheim Ducks</td>\n",
       "      <td>2015-11-30</td>\n",
       "      <td>4</td>\n",
       "      <td>0</td>\n",
       "      <td>Win</td>\n",
       "      <td></td>\n",
       "      <td>30</td>\n",
       "      <td>25</td>\n",
       "    </tr>\n",
       "    <tr>\n",
       "      <th>7</th>\n",
       "      <td>Vancouver Canucks</td>\n",
       "      <td>2016-01-01</td>\n",
       "      <td>1</td>\n",
       "      <td>2</td>\n",
       "      <td>Loss</td>\n",
       "      <td>SO</td>\n",
       "      <td>28</td>\n",
       "      <td>25</td>\n",
       "    </tr>\n",
       "  </tbody>\n",
       "</table>\n",
       "</div>"
      ],
      "text/plain": [
       "                Host        Date  Goals  Opp. Goals Outcome OT?  Shots  \\\n",
       "3  Vancouver Canucks  2015-01-27      4           0     Win         24   \n",
       "4  Vancouver Canucks  2015-03-09      1           2    Loss         30   \n",
       "5      Anaheim Ducks  2015-10-12      1           2    Loss  SO     29   \n",
       "6      Anaheim Ducks  2015-11-30      4           0     Win         30   \n",
       "7  Vancouver Canucks  2016-01-01      1           2    Loss  SO     28   \n",
       "\n",
       "   Opp. Shots  \n",
       "3          17  \n",
       "4          16  \n",
       "5          25  \n",
       "6          25  \n",
       "7          25  "
      ]
     },
     "execution_count": 2,
     "metadata": {},
     "output_type": "execute_result"
    }
   ],
   "source": [
    "a = team('ANA',2015,56)\n",
    "\n",
    "a.last_five()\n"
   ]
  },
  {
   "cell_type": "code",
   "execution_count": 3,
   "metadata": {},
   "outputs": [
    {
     "ename": "NameError",
     "evalue": "name 'r' is not defined",
     "output_type": "error",
     "traceback": [
      "\u001b[1;31m---------------------------------------------------------------------------\u001b[0m",
      "\u001b[1;31mNameError\u001b[0m                                 Traceback (most recent call last)",
      "\u001b[1;32m<ipython-input-3-d1217f7b5e0b>\u001b[0m in \u001b[0;36m<module>\u001b[1;34m\u001b[0m\n\u001b[1;32m----> 1\u001b[1;33m \u001b[0mr\u001b[0m\u001b[1;33m[\u001b[0m\u001b[1;34m'opp_name'\u001b[0m\u001b[1;33m]\u001b[0m\u001b[1;33m.\u001b[0m\u001b[0munique\u001b[0m\u001b[1;33m(\u001b[0m\u001b[1;33m)\u001b[0m\u001b[1;33m[\u001b[0m\u001b[1;36m0\u001b[0m\u001b[1;33m]\u001b[0m\u001b[1;33m\u001b[0m\u001b[1;33m\u001b[0m\u001b[0m\n\u001b[0m",
      "\u001b[1;31mNameError\u001b[0m: name 'r' is not defined"
     ]
    }
   ],
   "source": [
    "r['opp_name'].unique()[0]"
   ]
  },
  {
   "cell_type": "code",
   "execution_count": null,
   "metadata": {},
   "outputs": [],
   "source": [
    "r"
   ]
  }
 ],
 "metadata": {
  "kernelspec": {
   "display_name": "Python 3",
   "language": "python",
   "name": "python3"
  },
  "language_info": {
   "codemirror_mode": {
    "name": "ipython",
    "version": 3
   },
   "file_extension": ".py",
   "mimetype": "text/x-python",
   "name": "python",
   "nbconvert_exporter": "python",
   "pygments_lexer": "ipython3",
   "version": "3.7.9"
  }
 },
 "nbformat": 4,
 "nbformat_minor": 4
}
