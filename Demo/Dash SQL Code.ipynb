{
 "cells": [
  {
   "cell_type": "code",
   "execution_count": 1,
   "metadata": {},
   "outputs": [],
   "source": [
    "import pandas as pd\n",
    "import numpy as np\n",
    "import sqlite3 \n",
    "\n",
    "\n",
    "DB = '..\\\\Data\\\\hockey_datamvp.db'   #location of database\n",
    "\n",
    "#SQL Handle functions\n",
    "def run_query(q):\n",
    "    with sqlite3.connect(DB) as conn:\n",
    "        x = pd.read_sql(q,conn)\n",
    "    return x"
   ]
  },
  {
   "cell_type": "code",
   "execution_count": 57,
   "metadata": {},
   "outputs": [
    {
     "data": {
      "text/plain": [
       "[{'label': '1990-1991', 'value': '1991'},\n",
       " {'label': '1991-1992', 'value': '1992'},\n",
       " {'label': '1992-1993', 'value': '1993'},\n",
       " {'label': '1993-1994', 'value': '1994'},\n",
       " {'label': '1994-1995', 'value': '1995'},\n",
       " {'label': '1995-1996', 'value': '1996'},\n",
       " {'label': '1996-1997', 'value': '1997'},\n",
       " {'label': '1997-1998', 'value': '1998'},\n",
       " {'label': '1998-1999', 'value': '1999'},\n",
       " {'label': '1999-2000', 'value': '2000'},\n",
       " {'label': '2000-2001', 'value': '2001'},\n",
       " {'label': '2001-2002', 'value': '2002'},\n",
       " {'label': '2002-2003', 'value': '2003'},\n",
       " {'label': '2003-2004', 'value': '2004'},\n",
       " {'label': '2005-2006', 'value': '2006'},\n",
       " {'label': '2006-2007', 'value': '2007'},\n",
       " {'label': '2007-2008', 'value': '2008'},\n",
       " {'label': '2008-2009', 'value': '2009'},\n",
       " {'label': '2009-2010', 'value': '2010'},\n",
       " {'label': '2010-2011', 'value': '2011'},\n",
       " {'label': '2011-2012', 'value': '2012'},\n",
       " {'label': '2012-2013', 'value': '2013'},\n",
       " {'label': '2013-2014', 'value': '2014'},\n",
       " {'label': '2014-2015', 'value': '2015'},\n",
       " {'label': '2015-2016', 'value': '2016'},\n",
       " {'label': '2016-2017', 'value': '2017'},\n",
       " {'label': '2017-2018', 'value': '2018'},\n",
       " {'label': '2018-2019', 'value': '2019'},\n",
       " {'label': '2019-2020', 'value': '2020'}]"
      ]
     },
     "execution_count": 57,
     "metadata": {},
     "output_type": "execute_result"
    }
   ],
   "source": [
    "q = \"\"\"select years_active from team_list WHERE team_abbr=\\\"{}\\\"\"\"\".format(\"BOS\")\n",
    "season = run_query(q).iloc[0,0]\n",
    "seasons = []\n",
    "for i in np.arange(int(season[:4]),int(season[-4:])):\n",
    "    if i == 2004:\n",
    "        pass\n",
    "    else:\n",
    "        seasons.append({'label':(str(i)+'-'+str(i+1)),'value':(str(i+1))})\n",
    "seasons"
   ]
  },
  {
   "cell_type": "code",
   "execution_count": 5,
   "metadata": {},
   "outputs": [
    {
     "name": "stdout",
     "output_type": "stream",
     "text": [
      "WITH roster AS (SELECT player_id FROM player_log \n",
      "                            WHERE team_id=\"BOS\" \n",
      "                            AND (CAST(SUBSTR(date_game,1,4) AS FLOAT)+CAST(SUBSTR(date_game,6,7) AS FLOAT)/12) > 1998.660000\n",
      "                            AND (CAST(SUBSTR(date_game,1,4) AS FLOAT)+CAST(SUBSTR(date_game,6,7) AS FLOAT)/12) < 1999.660000\n",
      "                            GROUP BY player_id)\n",
      "            SELECT pl.player, r.player_id\n",
      "            FROM roster r\n",
      "            LEFT JOIN player_list pl ON pl.unique_id=r.player_id\n",
      "Jason Allison allisja02\n",
      "P.J. Axelsson axelspj01\n",
      "Shawn Bates batessh01\n",
      "Ken Baumgartner baumgke01\n",
      "Ken Belanger belanke01\n",
      "Ray Bourque bourqra01\n",
      "Anson Carter cartean01\n",
      "Byron Dafoe dafoeby01\n",
      "Rob DiMaio dimairo01\n",
      "Ted Donato donatte01\n",
      "Dave Ellett elletda01\n",
      "Hal Gill gillha01\n",
      "Jonathan Girard girarjo01\n",
      "Steve Heinze heinzst01\n",
      "Dmitri Khristich khrisdm01\n",
      "Antti Laaksonen laaksan01\n",
      "Grant Ledyard ledyagr01\n",
      "Kyle McLaren mclarky01\n",
      "Eric Nickulas nickuer01\n",
      "Randy Robitaille robitra01\n",
      "Sergei Samsonov samsose01\n",
      "Don Sweeney sweendo01\n",
      "Chris Taylor tayloch01\n",
      "Tim Taylor tayloti01\n",
      "Joe Thornton thornjo01\n",
      "Mattias Timander timanma01\n",
      "Darren Van Impe vanimda01\n",
      "Dennis Vaske vaskede01\n",
      "Landon Wilson wilsola02\n"
     ]
    }
   ],
   "source": [
    "#all the players from that season\n",
    "q = \"\"\"WITH roster AS (SELECT player_id FROM player_log \n",
    "                            WHERE team_id=\\\"%s\\\" \n",
    "                            AND (CAST(SUBSTR(date_game,1,4) AS FLOAT)+CAST(SUBSTR(date_game,6,7) AS FLOAT)/12) > %f\n",
    "                            AND (CAST(SUBSTR(date_game,1,4) AS FLOAT)+CAST(SUBSTR(date_game,6,7) AS FLOAT)/12) < %f\n",
    "                            GROUP BY player_id)\n",
    "            SELECT pl.player, r.player_id\n",
    "            FROM roster r\n",
    "            LEFT JOIN player_list pl ON pl.unique_id=r.player_id\"\"\"%('BOS',1998.66,1999.66)\n",
    "print(q)\n",
    "roster = run_query(q)\n",
    "for i,row in roster.iterrows():\n",
    "    print(row['player'],row['player_id'])"
   ]
  },
  {
   "cell_type": "code",
   "execution_count": 16,
   "metadata": {},
   "outputs": [
    {
     "data": {
      "text/html": [
       "<div>\n",
       "<style scoped>\n",
       "    .dataframe tbody tr th:only-of-type {\n",
       "        vertical-align: middle;\n",
       "    }\n",
       "\n",
       "    .dataframe tbody tr th {\n",
       "        vertical-align: top;\n",
       "    }\n",
       "\n",
       "    .dataframe thead th {\n",
       "        text-align: right;\n",
       "    }\n",
       "</style>\n",
       "<table border=\"1\" class=\"dataframe\">\n",
       "  <thead>\n",
       "    <tr style=\"text-align: right;\">\n",
       "      <th></th>\n",
       "      <th>player</th>\n",
       "      <th>player_id</th>\n",
       "    </tr>\n",
       "  </thead>\n",
       "  <tbody>\n",
       "    <tr>\n",
       "      <th>0</th>\n",
       "      <td>Noel Acciari</td>\n",
       "      <td>acciano01</td>\n",
       "    </tr>\n",
       "    <tr>\n",
       "      <th>1</th>\n",
       "      <td>Andrew Alberts</td>\n",
       "      <td>alberan01</td>\n",
       "    </tr>\n",
       "    <tr>\n",
       "      <th>2</th>\n",
       "      <td>Jason Allison</td>\n",
       "      <td>allisja02</td>\n",
       "    </tr>\n",
       "    <tr>\n",
       "      <th>3</th>\n",
       "      <td>Dave Andreychuk</td>\n",
       "      <td>andreda01</td>\n",
       "    </tr>\n",
       "    <tr>\n",
       "      <th>4</th>\n",
       "      <td>Alex Auld</td>\n",
       "      <td>auldal01</td>\n",
       "    </tr>\n",
       "    <tr>\n",
       "      <th>...</th>\n",
       "      <td>...</td>\n",
       "      <td>...</td>\n",
       "    </tr>\n",
       "    <tr>\n",
       "      <th>248</th>\n",
       "      <td>Jason York</td>\n",
       "      <td>yorkja01</td>\n",
       "    </tr>\n",
       "    <tr>\n",
       "      <th>249</th>\n",
       "      <td>Rob Zamuner</td>\n",
       "      <td>zamunro01</td>\n",
       "    </tr>\n",
       "    <tr>\n",
       "      <th>250</th>\n",
       "      <td>Greg Zanon</td>\n",
       "      <td>zanongr01</td>\n",
       "    </tr>\n",
       "    <tr>\n",
       "      <th>251</th>\n",
       "      <td>Alex Zhamnov</td>\n",
       "      <td>zhamnal01</td>\n",
       "    </tr>\n",
       "    <tr>\n",
       "      <th>252</th>\n",
       "      <td>Rick Zombo</td>\n",
       "      <td>zombori01</td>\n",
       "    </tr>\n",
       "  </tbody>\n",
       "</table>\n",
       "<p>253 rows × 2 columns</p>\n",
       "</div>"
      ],
      "text/plain": [
       "              player  player_id\n",
       "0       Noel Acciari  acciano01\n",
       "1     Andrew Alberts  alberan01\n",
       "2      Jason Allison  allisja02\n",
       "3    Dave Andreychuk  andreda01\n",
       "4          Alex Auld   auldal01\n",
       "..               ...        ...\n",
       "248       Jason York   yorkja01\n",
       "249      Rob Zamuner  zamunro01\n",
       "250       Greg Zanon  zanongr01\n",
       "251     Alex Zhamnov  zhamnal01\n",
       "252       Rick Zombo  zombori01\n",
       "\n",
       "[253 rows x 2 columns]"
      ]
     },
     "execution_count": 16,
     "metadata": {},
     "output_type": "execute_result"
    }
   ],
   "source": [
    "q = \"\"\"WITH roster AS (SELECT player_id FROM player_log\n",
    "                            WHERE team_id=\"BOS\"\n",
    "                            AND (CAST(SUBSTR(date_game,1,4) AS FLOAT)+CAST(SUBSTR(date_game,6,7) AS FLOAT)/12) > 1994.66                            GROUP BY player_id)\n",
    "            SELECT pl.player,r.player_id\n",
    "            FROM roster r\n",
    "            LEFT JOIN player_list pl ON pl.unique_id=r.player_id\"\"\"\n",
    "run_query(q)"
   ]
  },
  {
   "cell_type": "code",
   "execution_count": 22,
   "metadata": {},
   "outputs": [
    {
     "name": "stdout",
     "output_type": "stream",
     "text": [
      "{0: '10-10', 1: '10-14', 2: '10-16', 3: '10-22', 4: '10-24', 5: '10-28', 6: '10-29', 7: '10-31', 8: '11-03', 9: '11-07', 10: '11-22', 11: '11-25', 12: '11-26', 13: '11-28', 14: '12-01', 15: '12-04', 16: '12-05', 17: '12-08', 18: '12-10', 19: '12-12', 20: '12-16', 21: '12-18', 22: '12-19', 23: '12-23', 24: '12-26', 25: '12-28', 26: '12-30', 27: '01-02', 28: '01-05', 29: '02-20', 30: '02-22', 31: '02-25', 32: '03-03', 33: '03-05', 34: '03-07', 35: '03-09', 36: '03-15', 37: '03-17', 38: '03-20', 39: '03-23', 40: '03-25', 41: '03-28', 42: '03-31', 43: '04-03', 44: '04-04', 45: '04-06', 46: '04-08', 47: '04-10', 48: '04-12', 49: '04-14', 50: '04-16', 51: '04-17'}\n"
     ]
    }
   ],
   "source": [
    "#given team year and player select games \n",
    "q = \"\"\"SELECT * \n",
    "        FROM player_log \n",
    "        WHERE player_id=\\\"%s\\\"\n",
    "        AND team_id=\\\"%s\\\"\n",
    "        AND (CAST(SUBSTR(date_game,1,4) AS FLOAT)+CAST(SUBSTR(date_game,6,7) AS FLOAT)/12) > %f\n",
    "        AND (CAST(SUBSTR(date_game,1,4) AS FLOAT)+CAST(SUBSTR(date_game,6,7) AS FLOAT)/12) < %f\n",
    "        \"\"\"%('andreda01',\"NJD\",1998.66,1999.66)\n",
    "games = run_query(q)\n",
    "dates = games['date_game'].str.extract(r'\\d{4}-(\\d{2}-\\d{2})')[0].values\n",
    "markz = dict(zip(games.index,dates))\n",
    "print(markz)"
   ]
  },
  {
   "cell_type": "code",
   "execution_count": 23,
   "metadata": {},
   "outputs": [],
   "source": [
    "dates = games['date_game'].str.extract(r'\\d{4}-(\\d{2}-\\d{2})')[0].values"
   ]
  },
  {
   "cell_type": "code",
   "execution_count": null,
   "metadata": {},
   "outputs": [],
   "source": []
  },
  {
   "cell_type": "code",
   "execution_count": null,
   "metadata": {},
   "outputs": [],
   "source": []
  }
 ],
 "metadata": {
  "kernelspec": {
   "display_name": "Python 3",
   "language": "python",
   "name": "python3"
  },
  "language_info": {
   "codemirror_mode": {
    "name": "ipython",
    "version": 3
   },
   "file_extension": ".py",
   "mimetype": "text/x-python",
   "name": "python",
   "nbconvert_exporter": "python",
   "pygments_lexer": "ipython3",
   "version": "3.7.9"
  }
 },
 "nbformat": 4,
 "nbformat_minor": 4
}
